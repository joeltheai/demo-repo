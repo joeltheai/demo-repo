{
 "cells": [
  {
   "cell_type": "markdown",
   "metadata": {
    "id": "iwlVGXZhMJLb"
   },
   "source": [
    "## BASIC PYTHON PROGRAMMING STRYCTURES"
   ]
  },
  {
   "cell_type": "code",
   "execution_count": null,
   "metadata": {
    "id": "4_Pde5kqMJLh",
    "outputId": "5f0a3788-f61c-45c6-a072-646a2d7fb907"
   },
   "outputs": [
    {
     "name": "stdout",
     "output_type": "stream",
     "text": [
      "<class 'int'>\n",
      "<class 'float'>\n",
      "<class 'float'>\n"
     ]
    }
   ],
   "source": [
    "x = 1\n",
    "y = 35.656222554887711\n",
    "z = -325.e100\n",
    "\n",
    "print(type(x))\n",
    "print(type(y))\n",
    "print(type(z))"
   ]
  },
  {
   "cell_type": "code",
   "execution_count": null,
   "metadata": {
    "id": "mvgJ0sVvMJLm",
    "outputId": "6289c45f-5b2d-4390-9c19-3868d3d71897"
   },
   "outputs": [
    {
     "name": "stdout",
     "output_type": "stream",
     "text": [
      "1.0\n",
      "35\n"
     ]
    }
   ],
   "source": [
    "x1=float(x)\n",
    "y1=int(y)\n",
    "print(x1)\n",
    "print(y1)"
   ]
  },
  {
   "cell_type": "code",
   "execution_count": null,
   "metadata": {
    "id": "G8dtlJGIMJLn",
    "outputId": "90e2b4fe-84d8-4d77-d326-e81f8b559ea1"
   },
   "outputs": [
    {
     "name": "stdout",
     "output_type": "stream",
     "text": [
      "<class 'str'>\n"
     ]
    }
   ],
   "source": [
    "name=\"Hi\"\n",
    "print(type(name))"
   ]
  },
  {
   "cell_type": "markdown",
   "metadata": {
    "id": "7-Rj0wOKMJLo"
   },
   "source": [
    "1. Program to accept two numbers from the user to add, subtract, multiply and divide it and\n",
    "print the results."
   ]
  },
  {
   "cell_type": "code",
   "execution_count": null,
   "metadata": {
    "id": "s4_FcSjoMJLo",
    "outputId": "e9a33ca2-462a-4379-96a7-a6fbac599ab8"
   },
   "outputs": [
    {
     "name": "stdout",
     "output_type": "stream",
     "text": [
      "Enter a number: 3\n",
      "Enter a number: 4\n",
      "The sum of the two numbers =  7\n",
      "The difference of the two numbers =  -1\n",
      "The product of the two numbers =  12\n",
      "The quotient of the two numbers =  0.75\n"
     ]
    }
   ],
   "source": [
    "n1=int(input('Enter a number: ')) #BASIC MATHEMATICAL OPERATIONS\n",
    "n2=int(input('Enter a number: '))\n",
    "a=n1+n2;\n",
    "s=n1-n2;\n",
    "p=n1*n2;\n",
    "d=n1/n2;\n",
    "print('The sum of the two numbers = ',a)\n",
    "print('The difference of the two numbers = ',s)\n",
    "print('The product of the two numbers = ',p)\n",
    "print('The quotient of the two numbers = ',d)"
   ]
  },
  {
   "cell_type": "markdown",
   "metadata": {
    "id": "VEEVTzoWMJLq"
   },
   "source": [
    "2. Program to check the biggest of three numbers entered by the user."
   ]
  },
  {
   "cell_type": "code",
   "execution_count": null,
   "metadata": {
    "id": "SdY0DRZSMJLr",
    "outputId": "28424d1d-2d73-466d-9b63-aab520d839d7"
   },
   "outputs": [
    {
     "name": "stdout",
     "output_type": "stream",
     "text": [
      "Enter a number: 9\n",
      "Enter a number: 0\n",
      "Enter a number: 9\n",
      "\n",
      "The largest of the three numbers is 9\n"
     ]
    }
   ],
   "source": [
    "a1=int(input('Enter a number: '))  # RELTIONAL OPERATORS, CONDITIONAL STATEMENTS\n",
    "a2=int(input('Enter a number: '))\n",
    "a3=int(input('Enter a number: '))\n",
    "if(a1>=a2) and (a1>=a3):\n",
    "    largest=a1\n",
    "elif(a2>=a1) and (a2>=a3):\n",
    "    largest=a2\n",
    "else:\n",
    "    largest=a3\n",
    "print(\"\")\n",
    "print('The largest of the three numbers is',largest)"
   ]
  },
  {
   "cell_type": "markdown",
   "metadata": {
    "id": "F8oEEGZ1MJLx"
   },
   "source": [
    "3. Write a program to compute the factorial of a number."
   ]
  },
  {
   "cell_type": "code",
   "execution_count": null,
   "metadata": {
    "id": "WdRPJo1QMJLy",
    "outputId": "00ae38d8-503f-4033-cc13-c568470d7c29"
   },
   "outputs": [
    {
     "name": "stdout",
     "output_type": "stream",
     "text": [
      "Enter the number: 2\n",
      "The factorial is  2\n",
      "The factorial is  2\n"
     ]
    }
   ],
   "source": [
    "fact=1;                            # LOOPING STRUCTURES\n",
    "f=int(input('Enter the number: '))\n",
    "while(f>0):\n",
    "    fact=fact*f\n",
    "    f=f-1\n",
    "    print('The factorial is ',fact)"
   ]
  },
  {
   "cell_type": "markdown",
   "metadata": {
    "id": "_0uOLOC0MJLz"
   },
   "source": [
    "4. Program to generate the multiplication table of a number (from 1 to 10)"
   ]
  },
  {
   "cell_type": "code",
   "execution_count": null,
   "metadata": {
    "id": "xpIm89shMJL0",
    "outputId": "7bd46f41-d372-4d39-c7ad-3ff1a0fa9965"
   },
   "outputs": [
    {
     "name": "stdout",
     "output_type": "stream",
     "text": [
      "Enter the number: 5\n",
      "5  x  1  =  5\n",
      "5  x  2  =  10\n",
      "5  x  3  =  15\n",
      "5  x  4  =  20\n",
      "5  x  5  =  25\n",
      "5  x  6  =  30\n",
      "5  x  7  =  35\n",
      "5  x  8  =  40\n",
      "5  x  9  =  45\n",
      "5  x  10  =  50\n"
     ]
    }
   ],
   "source": [
    "x=int(input('Enter the number: '))\n",
    "for i in range(1,11):\n",
    "    print(x,' x ',i,' = ',x*i)"
   ]
  },
  {
   "cell_type": "markdown",
   "metadata": {
    "id": "FOH8IKNZMJL1"
   },
   "source": [
    "## Lists"
   ]
  },
  {
   "cell_type": "code",
   "execution_count": null,
   "metadata": {
    "id": "mhs3ETAUMJL2",
    "outputId": "1ef06108-0d80-4897-ddea-3d7d2cb27d6a"
   },
   "outputs": [
    {
     "data": {
      "text/plain": [
       "['milk', 'bread', 'eggs', 'curd', 'sugar']"
      ]
     },
     "execution_count": 8,
     "metadata": {},
     "output_type": "execute_result"
    }
   ],
   "source": [
    "groceries=['milk','bread','eggs','curd','sugar'] # defining a list\n",
    "groceries"
   ]
  },
  {
   "cell_type": "code",
   "execution_count": null,
   "metadata": {
    "id": "8DJdcQ5VMJL3",
    "outputId": "5fe125a0-3d66-4d01-fb5d-ed598b61b94e"
   },
   "outputs": [
    {
     "data": {
      "text/plain": [
       "['milk', 'bread']"
      ]
     },
     "execution_count": 9,
     "metadata": {},
     "output_type": "execute_result"
    }
   ],
   "source": [
    "groceries[2] #index of list\n"
   ]
  },
  {
   "cell_type": "code",
   "execution_count": null,
   "metadata": {
    "id": "kW5lMAldMJL3",
    "outputId": "1f104e57-9cb3-43a9-c759-d61eda1fc09d"
   },
   "outputs": [
    {
     "data": {
      "text/plain": [
       "'tea powder'"
      ]
     },
     "execution_count": 14,
     "metadata": {},
     "output_type": "execute_result"
    }
   ],
   "source": [
    "groceries[-1]#negative indexing means begining from the end\n"
   ]
  },
  {
   "cell_type": "code",
   "execution_count": null,
   "metadata": {
    "id": "dONCuGJ6MJL4",
    "outputId": "0fd1cde8-51ae-42c1-e073-21cfde7fd402"
   },
   "outputs": [
    {
     "data": {
      "text/plain": [
       "['milk', 'bread']"
      ]
     },
     "execution_count": 15,
     "metadata": {},
     "output_type": "execute_result"
    }
   ],
   "source": [
    "groceries[0:2]#specify a range of indexes by specifying where to starts and where to end the range"
   ]
  },
  {
   "cell_type": "code",
   "execution_count": null,
   "metadata": {
    "id": "W3c8BE59MJL5",
    "outputId": "c8d76a2f-d157-49c3-c51b-d9e94053518d"
   },
   "outputs": [
    {
     "name": "stdout",
     "output_type": "stream",
     "text": [
      "['milk', 'bread', 'eggs', 'curd', 'sugar', 'tea powder', 'tea powder', 'tea powder', 'tea powder']\n"
     ]
    }
   ],
   "source": [
    "groceries.append('tea powder')\n",
    "print(groceries)"
   ]
  },
  {
   "cell_type": "code",
   "execution_count": null,
   "metadata": {
    "id": "GPpSAFd1MJL5",
    "outputId": "27b5e277-538e-4ed3-bcec-d77433e4e271"
   },
   "outputs": [
    {
     "name": "stdout",
     "output_type": "stream",
     "text": [
      "['milk', 'bread', 'wheat', 'curd', 'sugar', 'tea powder', 'tea powder', 'tea powder', 'tea powder']\n"
     ]
    }
   ],
   "source": [
    "groceries[2]='wheat'\n",
    "print(groceries)"
   ]
  },
  {
   "cell_type": "code",
   "execution_count": null,
   "metadata": {
    "id": "7jJPsBOsMJL6",
    "outputId": "c079ba21-3b50-4968-e1ef-94dfbb49fd2b"
   },
   "outputs": [
    {
     "name": "stdout",
     "output_type": "stream",
     "text": [
      "['bread', 'wheat', 'curd', 'sugar', 'tea powder', 'tea powder', 'tea powder', 'tea powder']\n"
     ]
    }
   ],
   "source": [
    "del groceries[0]\n",
    "print(groceries)"
   ]
  },
  {
   "cell_type": "markdown",
   "metadata": {
    "id": "ayDMIDJlMJL7"
   },
   "source": [
    "6. Write a program to define a list and check whether a particular item belongs to the list"
   ]
  },
  {
   "cell_type": "code",
   "execution_count": null,
   "metadata": {
    "id": "3248VdqVMJL7",
    "outputId": "5a19d8a9-881b-48ce-9451-c36db535f497"
   },
   "outputs": [
    {
     "name": "stdout",
     "output_type": "stream",
     "text": [
      "present\n"
     ]
    }
   ],
   "source": [
    "\n",
    "list1=[10,20,30,40,50,60]\n",
    "if 30 in list1:\n",
    "    print(\"present\")\n",
    "else:\n",
    "    print(\"absent\")"
   ]
  },
  {
   "cell_type": "markdown",
   "metadata": {
    "id": "R0kXZezkMJL8"
   },
   "source": [
    "7. Python code to demonstrate the working of sum() in list"
   ]
  },
  {
   "cell_type": "code",
   "execution_count": null,
   "metadata": {
    "id": "fewagXbeMJL8",
    "outputId": "ed4e5ba0-0ff7-4d47-bbee-9e9d70f0731d"
   },
   "outputs": [
    {
     "name": "stdout",
     "output_type": "stream",
     "text": [
      "25\n",
      "35\n"
     ]
    }
   ],
   "source": [
    " \n",
    "numbers = [1,2,3,4,5,1,4,5]\n",
    "  \n",
    "# start parameter is not provided\n",
    "Sum = sum(numbers)\n",
    "print(Sum)\n",
    "\n",
    "# start parameter is provided\n",
    "Sum = sum(numbers,10)\n",
    "print(Sum)"
   ]
  },
  {
   "cell_type": "markdown",
   "metadata": {
    "id": "E8ZOO5okMJL9"
   },
   "source": [
    "## Tuple"
   ]
  },
  {
   "cell_type": "code",
   "execution_count": null,
   "metadata": {
    "id": "WlUDInP8MJL9",
    "outputId": "01b2e0dc-eaa9-4b7b-8d65-878a5ddb8f15"
   },
   "outputs": [
    {
     "data": {
      "text/plain": [
       "('Arushi', 'Kiran')"
      ]
     },
     "execution_count": 21,
     "metadata": {},
     "output_type": "execute_result"
    }
   ],
   "source": [
    "name=('Arushi','Kiran') #declaring a tuple\n",
    "name"
   ]
  },
  {
   "cell_type": "code",
   "execution_count": null,
   "metadata": {
    "id": "ADipeDaOMJL_",
    "outputId": "c06d4a8e-a2f8-449a-e294-8a61ad7e9fe6"
   },
   "outputs": [
    {
     "ename": "TypeError",
     "evalue": "'tuple' object does not support item assignment",
     "output_type": "error",
     "traceback": [
      "\u001b[1;31m---------------------------------------------------------------------------\u001b[0m",
      "\u001b[1;31mTypeError\u001b[0m                                 Traceback (most recent call last)",
      "\u001b[1;32m<ipython-input-22-62da7bf58880>\u001b[0m in \u001b[0;36m<module>\u001b[1;34m\u001b[0m\n\u001b[1;32m----> 1\u001b[1;33m \u001b[0mname\u001b[0m\u001b[1;33m[\u001b[0m\u001b[1;36m0\u001b[0m\u001b[1;33m]\u001b[0m\u001b[1;33m=\u001b[0m\u001b[1;34m'Harry Potter'\u001b[0m\u001b[1;33m\u001b[0m\u001b[1;33m\u001b[0m\u001b[0m\n\u001b[0m\u001b[0;32m      2\u001b[0m \u001b[0mname\u001b[0m\u001b[1;33m\u001b[0m\u001b[1;33m\u001b[0m\u001b[0m\n",
      "\u001b[1;31mTypeError\u001b[0m: 'tuple' object does not support item assignment"
     ]
    }
   ],
   "source": [
    "name[0]='Harry Potter' # tuples are immutable\n",
    "name"
   ]
  },
  {
   "cell_type": "code",
   "execution_count": null,
   "metadata": {
    "id": "MlpICAznMJL_",
    "outputId": "eb2a1551-0419-4ed1-b496-56a2c2b076f4"
   },
   "outputs": [
    {
     "name": "stdout",
     "output_type": "stream",
     "text": [
      "3\n",
      "2\n"
     ]
    }
   ],
   "source": [
    "tuple1 = (1, 3, 7, 8, 7, 5, 4, 6, 8, 5)\n",
    "\n",
    "x = tuple1.index(8) #Search for the first occurrence of the value 8, and return its position\n",
    "\n",
    "print(x)\n",
    "\n",
    "y = tuple1.count(7)  #Return the number of times the value 5 appears in the tuple\n",
    "\n",
    "print(y)"
   ]
  },
  {
   "cell_type": "markdown",
   "metadata": {
    "id": "_BD0c0g2MJL_"
   },
   "source": [
    "7.  Python code to demonstrate the working of sum() in tuples"
   ]
  },
  {
   "cell_type": "code",
   "execution_count": null,
   "metadata": {
    "id": "weeUxdDDMJMA",
    "outputId": "6aade79a-3008-43ba-8185-71ea0e367f1f"
   },
   "outputs": [
    {
     "name": "stdout",
     "output_type": "stream",
     "text": [
      "25\n",
      "35\n"
     ]
    }
   ],
   "source": [
    " \n",
    "numbers = tuple((1,2,3,4,5,1,4,5))  \n",
    "# start parameter is not provided\n",
    "Sum = sum(numbers)\n",
    "print(Sum)\n",
    "\n",
    "# start parameter is not provided\n",
    "Sum = sum(numbers,10)\n",
    "print(Sum)"
   ]
  },
  {
   "cell_type": "markdown",
   "metadata": {
    "id": "osZwKbo0MJMA"
   },
   "source": [
    "## Exercise problem:\n",
    "### 1. Compute greatest common divisor using Euclidean Algorithm.\n",
    "### 2. Find roots of a quadratic equation and also determine their nature.\n",
    "### 3. Find if a given number is perfect number or not.\n",
    "### 4. Check if a given input is a palindrome."
   ]
  },
  {
   "cell_type": "code",
   "execution_count": null,
   "metadata": {
    "id": "sx1a5jj4MJMB"
   },
   "outputs": [],
   "source": []
  }
 ],
 "metadata": {
  "colab": {
   "name": "MAT251_Lab 1.ipynb",
   "provenance": []
  },
  "kernelspec": {
   "display_name": "Python 3 (ipykernel)",
   "language": "python",
   "name": "python3"
  },
  "language_info": {
   "codemirror_mode": {
    "name": "ipython",
    "version": 3
   },
   "file_extension": ".py",
   "mimetype": "text/x-python",
   "name": "python",
   "nbconvert_exporter": "python",
   "pygments_lexer": "ipython3",
   "version": "3.9.6"
  }
 },
 "nbformat": 4,
 "nbformat_minor": 1
}
