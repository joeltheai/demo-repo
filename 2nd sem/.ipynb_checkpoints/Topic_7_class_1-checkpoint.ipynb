{
 "cells": [
  {
   "cell_type": "markdown",
   "metadata": {},
   "source": [
    "# Topic 7: Describing Data with Statistics:\n",
    "$\\bullet$ Mean, Median, Mode, \n",
    "\n",
    "$\\bullet$ Creating a frequency table, \n",
    "\n",
    "$\\bullet$ Dispersion, \n",
    "\n",
    "$\\bullet$ Variance, \n",
    "\n",
    "$\\bullet$ Standard deviation.\n",
    "\n",
    "( Reference book: Doing math with Python by Amit Saha)\n"
   ]
  },
  {
   "cell_type": "markdown",
   "metadata": {},
   "source": [
    "In this topic, we'll use Python to explore\n",
    "statistics so we can study, describe, and\n",
    "better understand sets of data. After looking\n",
    "at some basic statistical measures: the mean,\n",
    "median, mode, and range. We'll move on to some\n",
    "more advanced measures, such as variance and standard\n",
    "deviation. Then, we'll see how to calculate the\n",
    "correlation coefficient, which allows you to quantify the relationship\n",
    "between two sets of data."
   ]
  },
  {
   "cell_type": "markdown",
   "metadata": {
    "id": "sxd_Ry7R1BzT"
   },
   "source": [
    "\n",
    "\n",
    "### 1.  Finding the mean\n",
    "\n",
    "\n"
   ]
  },
  {
   "cell_type": "markdown",
   "metadata": {
    "id": "2kY-8zBG3CvL"
   },
   "source": [
    "The **mean** is the sum of the numbers in a list and divide it by the number of items in the list. \n",
    "\n",
    "To calculate the mean, we’ll need to take the sum of the list of numbers and divide it by the number of items in the list. Let's look at two Python functions that make both of these operations very easy: sum() and len()."
   ]
  },
  {
   "cell_type": "raw",
   "metadata": {},
   "source": []
  },
  {
   "cell_type": "markdown",
   "metadata": {},
   "source": [
    "Functions that readily comes with Python are called **built-in functions**. Python provides built-in functions like print(), sum() etc. But we can also create your own functions. These functions are known as **user defines functions**. In the next program we create a user defined function.\n",
    "\n",
    "We also use **if __name__ == '__main__'**  which is used to execute some code only if the file was run directly, and not imported."
   ]
  },
  {
   "cell_type": "markdown",
   "metadata": {},
   "source": [
    "\n",
    "\n",
    "### Q 1. School charity that’s been taking donations over a period of time spanning the last 12 days. In that time, the following 12 numbers represent the total dollar amount of donations received for each day: 100, 60, 70, 900, 100, 200, 500, 500, 503, 600, 1000, and 1200. Write a program that calculates and prints the mean donation per day."
   ]
  },
  {
   "cell_type": "code",
   "execution_count": 2,
   "metadata": {},
   "outputs": [
    {
     "name": "stdout",
     "output_type": "stream",
     "text": [
      "Mean donation over the last 12 days is 477.75\n"
     ]
    }
   ],
   "source": [
    "''' Calculating the mean of donations = [100, 60, 70, 900, 100, 200, 500, 500, 503, 600, 1000, 1200] '''\n",
    "\n",
    "def calculate_mean(numbers):\n",
    "    s = sum(numbers)\n",
    "    N = len(numbers)\n",
    "    mean = s/N  # Calculate the mean\n",
    "    return mean\n",
    "\n",
    "if __name__ == '__main__':\n",
    "    donations = [100, 60, 70, 900, 100, 200, 500, 500, 503, 600, 1000, 1200]\n",
    "    mean = calculate_mean(donations)\n",
    "    n = len(donations)\n",
    "    print('Mean donation over the last {0} days is {1}'.format(n, mean))"
   ]
  },
  {
   "cell_type": "markdown",
   "metadata": {
    "id": "CTroIYDm2SwC"
   },
   "source": [
    "# 2. Finding the Median"
   ]
  },
  {
   "cell_type": "markdown",
   "metadata": {
    "id": "VS9kuO1n2rvT"
   },
   "source": [
    "The **median** of a collection of numbers is another kind of average. To find the median, we sort the numbers in ascending order. \n",
    "\n",
    "$\\bullet$ If the length of the list of numbers is odd, the number in the middle of the list is the median.\\\n",
    "$\\bullet$ If the length of the list of numbers is even, we get the median by taking the mean of the two middle numbers."
   ]
  },
  {
   "cell_type": "markdown",
   "metadata": {},
   "source": [
    "\n",
    "\n",
    "After sorting from smallest to largest, the list of numbers becomes 60, 70, 100, 100, 200, 500, 500, 503, 600, 900, 1000, and 1200. We have an even number of items in the list, that is 12, so to get the median, we need to take the mean of the two middle numbers. In this case, the middle numbers are the sixth and the seventh numbers, 500 and 500, and the mean of these two numbers is (500 + 500)/2, which comes out to 500. That means the median is 500.\n"
   ]
  },
  {
   "cell_type": "markdown",
   "metadata": {},
   "source": [
    "### Q 2. Let's find the median of the previous list of donations: 100, 60, 70, 900, 100, 200, 500, 500, 503, 600, 1000, and 1200."
   ]
  },
  {
   "cell_type": "code",
   "execution_count": 3,
   "metadata": {},
   "outputs": [
    {
     "name": "stdout",
     "output_type": "stream",
     "text": [
      "Median donation over the last 12 days is 500.0\n"
     ]
    }
   ],
   "source": [
    "''' Calculating the median '''\n",
    "def calculate_median(numbers):\n",
    "    N = len(numbers)\n",
    "    numbers.sort()\n",
    "# Find the median\n",
    "    if N % 2 == 0: \n",
    "        # if N is even\n",
    "        m1 = N/2\n",
    "        m2 = (N/2) + 1\n",
    "        # Convert to integer, match position\n",
    "        m1 = int(m1) - 1\n",
    "        m2 = int(m2) - 1\n",
    "        median = (numbers[m1] + numbers[m2])/2\n",
    "    else:\n",
    "        m = (N+1)/2\n",
    "        # Convert to integer, match position\n",
    "        m = int(m) - 1\n",
    "        median = numbers[m]\n",
    "    return median\n",
    "if __name__ == '__main__':\n",
    "    donations = [100, 60, 70, 900, 100, 200, 500, 500, 503, 600, 1000, 1200]\n",
    "    median = calculate_median(donations)\n",
    "    N = len(donations)\n",
    "    print('Median donation over the last {0} days is {1}'.format(N, median))"
   ]
  },
  {
   "cell_type": "markdown",
   "metadata": {},
   "source": []
  },
  {
   "cell_type": "markdown",
   "metadata": {
    "id": "krSS-gkf2trb"
   },
   "source": [
    "# 3. Finding the Mode "
   ]
  },
  {
   "cell_type": "markdown",
   "metadata": {
    "id": "M99S05vH3KSb"
   },
   "source": [
    "**Mode** of a sect of numbers is the number that occurs most frequently. \n"
   ]
  },
  {
   "cell_type": "markdown",
   "metadata": {},
   "source": [
    "To write a program to calculate the mode, we'll need to have Python\n",
    "count how many times each number occurs within a list and print the one\n",
    "that occurs most frequently. For this we use the Counter class from the collections module.\n",
    "The most_common() method of the Counter class returns a list\n",
    "ordered by the most common elements."
   ]
  },
  {
   "cell_type": "code",
   "execution_count": 5,
   "metadata": {},
   "outputs": [
    {
     "data": {
      "text/plain": [
       "[(4, 2), (2, 1), (1, 1), (3, 1)]"
      ]
     },
     "execution_count": 5,
     "metadata": {},
     "output_type": "execute_result"
    }
   ],
   "source": [
    "#Dicription of the fuctions to be used:\n",
    "\n",
    "simplelist = [4, 2, 1, 3, 4]\n",
    "from collections import Counter\n",
    "c = Counter(simplelist)\n",
    "c.most_common()"
   ]
  },
  {
   "cell_type": "code",
   "execution_count": 8,
   "metadata": {},
   "outputs": [
    {
     "data": {
      "text/plain": [
       "[(4, 2)]"
      ]
     },
     "execution_count": 8,
     "metadata": {},
     "output_type": "execute_result"
    }
   ],
   "source": [
    "#If we want to find the most common element, we would call it with the argument 1:\n",
    "c.most_common(1)\n"
   ]
  },
  {
   "cell_type": "code",
   "execution_count": 9,
   "metadata": {},
   "outputs": [
    {
     "data": {
      "text/plain": [
       "[(4, 2), (2, 1)]"
      ]
     },
     "execution_count": 9,
     "metadata": {},
     "output_type": "execute_result"
    }
   ],
   "source": [
    "#If we want to find the first two common element, we would call it with the argument 2:\n",
    "c.most_common(2)\n",
    "#Gives the first the most common element, followed by the second most common element."
   ]
  },
  {
   "cell_type": "markdown",
   "metadata": {},
   "source": [
    "### Q 3. consider the test scores of a math test (out of 10 points) in a class of 20 students: 7, 8, 9, 2, 10, 9, 9, 9, 9, 4, 5, 6, 1, 5, 6, 7, 8, 6, 1, and 10. Find the mode of this list."
   ]
  },
  {
   "cell_type": "code",
   "execution_count": 10,
   "metadata": {},
   "outputs": [
    {
     "name": "stdout",
     "output_type": "stream",
     "text": [
      "The mode of the list of numbers is: 9\n"
     ]
    }
   ],
   "source": [
    "''' Calculating the mode '''\n",
    "from collections import Counter\n",
    "def calculate_mode(numbers):\n",
    "    c = Counter(numbers)\n",
    "    mode = c.most_common(1)\n",
    "    return mode[0][0]\n",
    "if __name__=='__main__':\n",
    "    scores = [7, 8, 9, 2, 10, 9, 9, 9, 9, 4, 5, 6, 1, 5, 6, 7, 8, 6, 1, 10]\n",
    "    mode = calculate_mode(scores)\n",
    "    print('The mode of the list of numbers is: {0}'.format(mode))"
   ]
  },
  {
   "cell_type": "markdown",
   "metadata": {},
   "source": []
  },
  {
   "cell_type": "markdown",
   "metadata": {},
   "source": [
    "### $\\bullet$ Multiple modes:\n",
    "\n",
    "If a set of data have two or more numbers that occur the same maximum number of times.\n",
    "\n",
    "### Q 4. In the list of numbers 5, 5, 5, 4, 4, 4, 9, 1, and 3, both 4 and 5 are present three times. In such cases, the list of numbers is said to have multiple modes, and our program should find and print all the modes. "
   ]
  },
  {
   "cell_type": "code",
   "execution_count": 13,
   "metadata": {},
   "outputs": [
    {
     "name": "stdout",
     "output_type": "stream",
     "text": [
      "The mode(s) of the list of numbers are:\n",
      "5\n",
      "4\n"
     ]
    }
   ],
   "source": [
    "''' Calculating the mode when the list of numbers may have multiple modes\n",
    "'''\n",
    "from collections import Counter\n",
    "def calculate_mode(numbers):\n",
    "    c = Counter(numbers)\n",
    "    numbers_freq = c.most_common()\n",
    "    max_count = numbers_freq[0][1]\n",
    "    modes = []\n",
    "    for num in numbers_freq:\n",
    "        if num[1] == max_count:\n",
    "            modes.append(num[0])\n",
    "    return modes\n",
    "if __name__ == '__main__':\n",
    "    scores = [5, 5, 5, 4, 4, 4, 9, 1, 3]\n",
    "    modes = calculate_mode(scores)\n",
    "    print('The mode(s) of the list of numbers are:')\n",
    "    for mode in modes:\n",
    "        print(mode)"
   ]
  },
  {
   "cell_type": "markdown",
   "metadata": {},
   "source": []
  },
  {
   "cell_type": "markdown",
   "metadata": {
    "id": "IhLGOPMN3rQ6"
   },
   "source": [
    "# 4.  Creating a Frequency Table\n",
    "\n",
    "Let’s consider the list of test scores again: 7, 8, 9, 2, 10, 9, 9, 9, 9, 4, 5, 6, 1, 5,\n",
    "6, 7, 8, 6, 1, and 10. **The frequency table** for this list is shown in the following table.\n",
    "For each number, we list the number of times it occurs in the second column.\n",
    "\n",
    "\n",
    "|Score|Frequency|\n",
    "| --- | --- | \n",
    "|1 |2|\n",
    "|2| 1|\n",
    "|4| 1|\n",
    "|5| 2|\n",
    "|6| 3|\n",
    "|7|2|\n",
    "|8|2|\n",
    "|9| 5|\n",
    "|10| 2|\n"
   ]
  },
  {
   "cell_type": "markdown",
   "metadata": {},
   "source": [
    "### Q 5. Create a Frequency Table for the list of test scores again: 7, 8, 9, 2, 10, 9, 9, 9, 9, 4, 5, 6, 1, 5, 6, 7, 8, 6, 1, and 10."
   ]
  },
  {
   "cell_type": "code",
   "execution_count": 18,
   "metadata": {},
   "outputs": [
    {
     "name": "stdout",
     "output_type": "stream",
     "text": [
      "Number\tFrequency\n",
      "1\t2\n",
      "2\t1\n",
      "4\t1\n",
      "5\t2\n",
      "6\t3\n",
      "7\t2\n",
      "8\t2\n",
      "9\t5\n",
      "10\t2\n"
     ]
    }
   ],
   "source": [
    "''' Frequency table for a list of numbers '''\n",
    "\n",
    "from collections import Counter\n",
    "\n",
    "def frequency_table(numbers):\n",
    "    table = Counter(numbers)\n",
    "    numbers_freq = table.most_common()\n",
    "    numbers_freq.sort()\n",
    "    print('Number\\tFrequency')\n",
    "    for number in numbers_freq:\n",
    "        print('{0}\\t{1}'.format(number[0], number[1]))\n",
    "if __name__=='__main__':\n",
    "    scores = [7, 8, 9, 2, 10, 9, 9, 9, 9, 4, 5, 6, 1, 5, 6, 7, 8, 6, 1, 10]\n",
    "    frequency_table(scores)"
   ]
  },
  {
   "cell_type": "markdown",
   "metadata": {},
   "source": [
    "### Homework:\n",
    "#### 1.  Find mean, median, mode of the following lists and create the frequency table for each:\n",
    "1. [100, 200, 34, 56, 230, 57,890]\n",
    "2. [1,5,9,14,54,789,20002,12,245677,13]\n",
    "3. [20,30,56,78,29,234,12,2,7]\n",
    "4. [9,10,34,12,23,34,45,67,78,1,12,14]\n",
    "5. [1,2,3,4,5,6,7,8,9]\n",
    "\n",
    "#### 2. The runs scored in a cricket match by 11 players is as follows:\n",
    "\n",
    "#### 7, 16, 121, 51, 101, 81, 1, 16, 9, 11, 16\n",
    "\n",
    "#### Find the mean, mode, median of this data and form the frequency table.\n",
    "\n",
    "#### 3. The weights in kg of 10 students are given below:\n",
    "\n",
    "#### 39, 43, 36, 38, 46, 51, 33, 44, 44, 43\n",
    "\n",
    "#### Find the mean, mode, median of this data and form the frequency table.\n",
    "#### 4. The mean of 8, 11, 6, 14, x and 13 is 66. Find the value of the observation x.\n",
    "\n"
   ]
  }
 ],
 "metadata": {
  "colab": {
   "name": "MAT251_Topic_7.ipynb",
   "provenance": []
  },
  "kernelspec": {
   "display_name": "Python 3 (ipykernel)",
   "language": "python",
   "name": "python3"
  },
  "language_info": {
   "codemirror_mode": {
    "name": "ipython",
    "version": 3
   },
   "file_extension": ".py",
   "mimetype": "text/x-python",
   "name": "python",
   "nbconvert_exporter": "python",
   "pygments_lexer": "ipython3",
   "version": "3.9.6"
  }
 },
 "nbformat": 4,
 "nbformat_minor": 1
}
