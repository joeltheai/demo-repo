{
 "cells": [
  {
   "cell_type": "code",
   "execution_count": null,
   "metadata": {
    "id": "skT9OPNfMJMD"
   },
   "outputs": [],
   "source": []
  },
  {
   "cell_type": "markdown",
   "metadata": {
    "id": "DB5_MH4jMJMG"
   },
   "source": [
    "# LISTS"
   ]
  },
  {
   "cell_type": "markdown",
   "metadata": {
    "id": "9iSB34n-MJMK"
   },
   "source": [
    "Lists are just like dynamically sized arrays, declared in other languages (vector in C++ and ArrayList in Java). Lists need not be homogeneous always which makes it the most powerful tool in Python. A single list may contain DataTypes like Integers, Strings, as well as Objects. Lists are mutable, and hence, they can be altered even after their creation."
   ]
  },
  {
   "cell_type": "markdown",
   "metadata": {
    "id": "QzC9gYcBMJMM"
   },
   "source": [
    "## Creating a List"
   ]
  },
  {
   "cell_type": "markdown",
   "metadata": {
    "id": "gu6oKm2sMJMN"
   },
   "source": [
    "Lists in Python can be created by just placing the sequence inside the square brackets[]. Unlike Sets, a list doesn’t need a built-in function for the creation of a list. "
   ]
  },
  {
   "cell_type": "code",
   "execution_count": null,
   "metadata": {
    "id": "Wff1TfxaMJMO",
    "outputId": "9d6b34bf-eacc-4f36-9fae-ed2188edb91f"
   },
   "outputs": [
    {
     "name": "stdout",
     "output_type": "stream",
     "text": [
      "Blank List: \n",
      "[]\n"
     ]
    }
   ],
   "source": [
    "# Creating a List\n",
    "List = []\n",
    "print(\"Blank List: \")\n",
    "print(List)"
   ]
  },
  {
   "cell_type": "code",
   "execution_count": null,
   "metadata": {
    "id": "sj0pxcq9MJMR",
    "outputId": "20147f60-fd5a-4208-cf22-71feaf21ea20"
   },
   "outputs": [
    {
     "name": "stdout",
     "output_type": "stream",
     "text": [
      "\n",
      "List of numbers: \n",
      "[10, 20, 14]\n"
     ]
    }
   ],
   "source": [
    "# Creating a List of numbers\n",
    "List = [10, 20, 14]\n",
    "print(\"\\nList of numbers: \")\n",
    "print(List)"
   ]
  },
  {
   "cell_type": "code",
   "execution_count": null,
   "metadata": {
    "id": "E6eUsf5ZMJMT",
    "outputId": "3b3a8e28-ce92-4897-d1df-a0837ac80a72"
   },
   "outputs": [
    {
     "name": "stdout",
     "output_type": "stream",
     "text": [
      "\n",
      "List Items: \n",
      "pen\n",
      "pineapple\n",
      "['pen', 'apple', 'pineapple']\n"
     ]
    }
   ],
   "source": [
    "# Creating a List of strings and accessing\n",
    "# using index\n",
    "List = [\"pen\", \"apple\", \"pineapple\"]\n",
    "print(\"\\nList Items: \")\n",
    "print(List[0])\n",
    "print(List[2])\n",
    "print(List)"
   ]
  },
  {
   "cell_type": "code",
   "execution_count": null,
   "metadata": {
    "id": "Xo4aoyEuMJMU",
    "outputId": "78e1568a-cc42-4129-e49e-fe1453855708"
   },
   "outputs": [
    {
     "name": "stdout",
     "output_type": "stream",
     "text": [
      "\n",
      "Multi-Dimensional List: \n",
      "[['pen', 'apple'], ['pineapple']]\n"
     ]
    }
   ],
   "source": [
    "# Creating a Multi-Dimensional List\n",
    "# (By Nesting a list inside a List)\n",
    "List = [['pen', 'apple'] , ['pineapple']]\n",
    "print(\"\\nMulti-Dimensional List: \")\n",
    "print(List)"
   ]
  },
  {
   "cell_type": "markdown",
   "metadata": {
    "id": "bG471M70MJMV"
   },
   "source": [
    "### 1. Create a list with (minimum 5 elements, also name the lists)\n",
    "$\\bullet$ repeating numbers \n",
    "$\\bullet$ both numbers and strings"
   ]
  },
  {
   "cell_type": "markdown",
   "metadata": {
    "id": "-vXQ1iTnMJMX"
   },
   "source": [
    "## Size of List"
   ]
  },
  {
   "cell_type": "code",
   "execution_count": null,
   "metadata": {
    "id": "-2zh-xJdMJMX",
    "outputId": "d077f6e5-65b4-4e63-b24d-f3e412c8df58"
   },
   "outputs": [
    {
     "name": "stdout",
     "output_type": "stream",
     "text": [
      "0\n",
      "3\n"
     ]
    }
   ],
   "source": [
    "# Creating a List\n",
    "List1 = []\n",
    "print(len(List1))\n",
    " \n",
    "# Creating a List of numbers\n",
    "List2 = [10, 20, 14]\n",
    "print(len(List2))"
   ]
  },
  {
   "cell_type": "markdown",
   "metadata": {
    "id": "H7ELXV7SMJMY"
   },
   "source": [
    "### 2. Name both the lists in classwork 1 and obtain their lengths"
   ]
  },
  {
   "cell_type": "markdown",
   "metadata": {
    "id": "P2ySlIYrMJMZ"
   },
   "source": [
    "## Adding Elements to a List"
   ]
  },
  {
   "cell_type": "markdown",
   "metadata": {
    "id": "HblHyycJMJMZ"
   },
   "source": [
    " Elements can be added to the List by using the built-in append() function. Only one element at a time can be added to the list by using the append() method, for the addition of multiple elements with the append() method, loops are used. Tuples can also be added to the list with the use of the append method because tuples are immutable. Unlike Sets, Lists can also be added to the existing list with the use of the append() method."
   ]
  },
  {
   "cell_type": "code",
   "execution_count": null,
   "metadata": {
    "id": "Xs-VF1CJMJMa",
    "outputId": "11bc412e-74ea-49f6-e5ad-d6461da640ef"
   },
   "outputs": [
    {
     "name": "stdout",
     "output_type": "stream",
     "text": [
      "Initial blank List: \n",
      "[]\n",
      "\n",
      "List after Addition of Three elements: \n",
      "[1, 2, 4]\n"
     ]
    }
   ],
   "source": [
    "# Creating a List\n",
    "List = []\n",
    "print(\"Initial blank List: \")\n",
    "print(List)\n",
    " \n",
    "# Addition of Elements\n",
    "# in the List\n",
    "List.append(1)\n",
    "List.append(2)\n",
    "List.append(4)\n",
    "print(\"\\nList after Addition of Three elements: \")\n",
    "print(List)\n",
    " "
   ]
  },
  {
   "cell_type": "code",
   "execution_count": null,
   "metadata": {
    "id": "JzCQeHs-MJMb",
    "outputId": "6b496f8d-85db-4068-914c-45404f9d20b8"
   },
   "outputs": [
    {
     "name": "stdout",
     "output_type": "stream",
     "text": [
      "\n",
      "List after Addition of elements from 1-3: \n",
      "[1, 2, 4, 1, 2, 3]\n"
     ]
    }
   ],
   "source": [
    "# Adding elements to the List\n",
    "# using Iterator\n",
    "for i in range(1, 4):\n",
    "    List.append(i)\n",
    "print(\"\\nList after Addition of elements from 1-3: \")\n",
    "print(List)"
   ]
  },
  {
   "cell_type": "code",
   "execution_count": null,
   "metadata": {
    "id": "MypKD6TeMJMb",
    "outputId": "cb6200d3-69d1-424f-cd34-3255fbdfefe1"
   },
   "outputs": [
    {
     "name": "stdout",
     "output_type": "stream",
     "text": [
      "\n",
      "List after Addition of a List: \n",
      "[1, 2, 4, 1, 2, 3, ['apple', 'pineapple']]\n"
     ]
    }
   ],
   "source": [
    "# Addition of List to a List\n",
    "List2 = ['apple', 'pineapple']\n",
    "List.append(List2)\n",
    "print(\"\\nList after Addition of a List: \")\n",
    "print(List)"
   ]
  },
  {
   "cell_type": "markdown",
   "metadata": {
    "id": "wJSB9iynMJMc"
   },
   "source": [
    "### Using insert() method"
   ]
  },
  {
   "cell_type": "markdown",
   "metadata": {
    "id": "hB3xkyfIMJMc"
   },
   "source": [
    "append() method only works for the addition of elements at the end of the List, for the addition of elements at the desired position, insert() method is used. Unlike append() which takes only one argument, the insert() method requires two arguments(position, value). "
   ]
  },
  {
   "cell_type": "code",
   "execution_count": null,
   "metadata": {
    "id": "XOieCpyrMJMd",
    "outputId": "b90befa5-fe41-4531-e10c-3a601bfca113"
   },
   "outputs": [
    {
     "name": "stdout",
     "output_type": "stream",
     "text": [
      "Initial List: \n",
      "[1, 2, 3, 4]\n",
      "\n",
      "List after performing Insert Operation: \n",
      "['pen', 1, 2, 3, 12, 4]\n"
     ]
    }
   ],
   "source": [
    "# Addition of elements in a List\n",
    "  \n",
    "# Creating a List\n",
    "List = [1,2,3,4]\n",
    "print(\"Initial List: \")\n",
    "print(List)\n",
    " \n",
    "# Addition of Element at\n",
    "# specific Position\n",
    "# (using Insert Method)\n",
    "List.insert(3, 12)\n",
    "List.insert(0, 'pen')\n",
    "print(\"\\nList after performing Insert Operation: \")\n",
    "print(List)"
   ]
  },
  {
   "cell_type": "markdown",
   "metadata": {
    "id": "ZJeTxY_ZMJMd"
   },
   "source": [
    "### Using extend() method"
   ]
  },
  {
   "cell_type": "markdown",
   "metadata": {
    "id": "mS4N3KimMJMf"
   },
   "source": [
    "Other than append() and insert() methods, there’s one more method for the Addition of elements, extend(), this method is used to add multiple elements at the same time at the end of the list.\n",
    "Note – append() and extend() methods can only add elements at the end."
   ]
  },
  {
   "cell_type": "code",
   "execution_count": null,
   "metadata": {
    "id": "5XTXhPoZMJMf",
    "outputId": "8d06b8d2-1552-4c1e-8fa9-e16b1171146b"
   },
   "outputs": [
    {
     "name": "stdout",
     "output_type": "stream",
     "text": [
      "Initial List: \n",
      "[1, 2, 3, 4]\n",
      "\n",
      "List after performing Extend Operation: \n",
      "[1, 2, 3, 4, 8, 'pen', 'pencil']\n"
     ]
    }
   ],
   "source": [
    "# Addition of elements in a List\n",
    "   \n",
    "# Creating a List\n",
    "List = [1,2,3,4]\n",
    "print(\"Initial List: \")\n",
    "print(List)\n",
    " \n",
    "# Addition of multiple elements\n",
    "# to the List at the end\n",
    "# (using Extend Method)\n",
    "List.extend([8, 'pen', 'pencil'])\n",
    "print(\"\\nList after performing Extend Operation: \")\n",
    "print(List)"
   ]
  },
  {
   "cell_type": "markdown",
   "metadata": {
    "id": "z3JCNls7MJMg"
   },
   "source": [
    "## Accessing elements from the List"
   ]
  },
  {
   "cell_type": "code",
   "execution_count": null,
   "metadata": {
    "id": "Ogi6zGaxMJMg",
    "outputId": "13872100-14e0-4e68-cec4-779fe91d37bc"
   },
   "outputs": [
    {
     "name": "stdout",
     "output_type": "stream",
     "text": [
      "Accessing a element from the list\n",
      "pen\n",
      "pineapple\n",
      "Accessing a element from a Multi-Dimensional list\n",
      "apple\n",
      "pineapple\n"
     ]
    }
   ],
   "source": [
    "# Creating a List with\n",
    "# the use of multiple values\n",
    "List = [\"pen\", \"apple\", \"pineapple\"]\n",
    " \n",
    "# accessing a element from the\n",
    "# list using index number\n",
    "print(\"Accessing a element from the list\")\n",
    "print(List[0])\n",
    "print(List[2])\n",
    " \n",
    "# Creating a Multi-Dimensional List\n",
    "# (By Nesting a list inside a List)\n",
    "List = [['pen', 'apple'] , ['pineapple']]\n",
    " \n",
    "# accessing an element from the\n",
    "# Multi-Dimensional List using\n",
    "# index number\n",
    "print(\"Accessing a element from a Multi-Dimensional list\")\n",
    "print(List[0][1])\n",
    "print(List[1][0])"
   ]
  },
  {
   "cell_type": "markdown",
   "metadata": {
    "id": "pGT8sLgtMJMh"
   },
   "source": [
    "### Negative indexing"
   ]
  },
  {
   "cell_type": "markdown",
   "metadata": {
    "id": "BIH0-ucZMJMh"
   },
   "source": [
    "In Python, negative sequence indexes represent positions from the end of the array. Instead of having to compute the offset as in List[len(List)-3], it is enough to just write List[-3]. Negative indexing means beginning from the end, -1 refers to the last item, -2 refers to the second-last item, etc."
   ]
  },
  {
   "cell_type": "code",
   "execution_count": null,
   "metadata": {
    "id": "d3C-KJlXMJMh",
    "outputId": "04e41051-c5ef-4e43-db94-588bb86b16fc"
   },
   "outputs": [
    {
     "name": "stdout",
     "output_type": "stream",
     "text": [
      "Accessing element using negative indexing\n",
      "pineapple\n",
      "apple\n"
     ]
    }
   ],
   "source": [
    "List = [1, 2, 'pen', 4, 'apple', 6, 'pineapple']\n",
    " \n",
    "# accessing an element using\n",
    "# negative indexing\n",
    "print(\"Accessing element using negative indexing\")\n",
    " \n",
    "# print the last element of list\n",
    "print(List[-1])\n",
    " \n",
    "# print the third last element of list\n",
    "print(List[-3])"
   ]
  },
  {
   "cell_type": "markdown",
   "metadata": {
    "id": "jEFSdko6MJMi"
   },
   "source": [
    "## Removing Elements from the List"
   ]
  },
  {
   "cell_type": "markdown",
   "metadata": {
    "id": "M5vGCA4sMJMi"
   },
   "source": [
    "### Using remove() method"
   ]
  },
  {
   "cell_type": "markdown",
   "metadata": {
    "id": "r1xntKAwMJMi"
   },
   "source": [
    "Elements can be removed from the List by using the built-in remove() function but an Error arises if the element doesn’t exist in the set. Remove() method only removes one element at a time, to remove a range of elements, the iterator is used. The remove() method removes the specified item."
   ]
  },
  {
   "cell_type": "markdown",
   "metadata": {
    "id": "ALLRDQjmMJMi"
   },
   "source": [
    "Note – Remove method in List will only remove the first occurrence of the searched element.\n",
    "\n"
   ]
  },
  {
   "cell_type": "code",
   "execution_count": null,
   "metadata": {
    "id": "p3Tq8-WKMJMj",
    "outputId": "dcfa3cc6-1095-4322-b879-f9d747900b40"
   },
   "outputs": [
    {
     "name": "stdout",
     "output_type": "stream",
     "text": [
      "Initial List: \n",
      "[1, 2, 3, 4, 5, 6, 7, 8, 9, 10, 11, 12]\n"
     ]
    }
   ],
   "source": [
    "# Creating a List\n",
    "List = [1, 2, 3, 4, 5, 6,\n",
    "        7, 8, 9, 10, 11, 12]\n",
    "print(\"Initial List: \")\n",
    "print(List)\n",
    " \n",
    "\n",
    " \n"
   ]
  },
  {
   "cell_type": "code",
   "execution_count": null,
   "metadata": {
    "id": "CS8-h50lMJMj",
    "outputId": "f4ecfe83-4b9a-40c9-c7fc-99b1a968b1f2"
   },
   "outputs": [
    {
     "name": "stdout",
     "output_type": "stream",
     "text": [
      "\n",
      "List after Removal of two elements: \n",
      "[1, 2, 3, 4, 7, 8, 9, 10, 11, 12]\n"
     ]
    }
   ],
   "source": [
    "# Removing elements from List\n",
    "# using Remove() method\n",
    "List.remove(5)\n",
    "List.remove(6)\n",
    "print(\"\\nList after Removal of two elements: \")\n",
    "print(List)"
   ]
  },
  {
   "cell_type": "code",
   "execution_count": null,
   "metadata": {
    "id": "6OsIHcBXMJMj",
    "outputId": "7eb3ab6b-1727-4b6b-9b5e-79ab49936b2c"
   },
   "outputs": [
    {
     "name": "stdout",
     "output_type": "stream",
     "text": [
      "\n",
      "List after Removing a range of elements: \n",
      "[7, 8, 9, 10, 11, 12]\n"
     ]
    }
   ],
   "source": [
    "# Removing elements from List\n",
    "# using iterator method\n",
    "for i in range(1, 5):\n",
    "    List.remove(i)\n",
    "print(\"\\nList after Removing a range of elements: \")\n",
    "print(List)"
   ]
  },
  {
   "cell_type": "markdown",
   "metadata": {
    "id": "TMnvyqkDMJMk"
   },
   "source": [
    "###  Using pop() method"
   ]
  },
  {
   "cell_type": "markdown",
   "metadata": {
    "id": "jeZkIsEKMJMk"
   },
   "source": [
    "Pop() function can also be used to remove and return an element from the set, but by default it removes only the last element of the set, to remove an element from a specific position of the List, the index of the element is passed as an argument to the pop() method.\n"
   ]
  },
  {
   "cell_type": "code",
   "execution_count": null,
   "metadata": {
    "id": "I4mITGc5MJMk",
    "outputId": "209f99e0-54e7-4a03-c0d9-ac948463b3b3"
   },
   "outputs": [
    {
     "name": "stdout",
     "output_type": "stream",
     "text": [
      "\n",
      "List after popping an element: \n",
      "[1, 2, 3, 4]\n"
     ]
    }
   ],
   "source": [
    "List = [1,2,3,4,5]\n",
    " \n",
    "# Removing element from the\n",
    "# Set using the pop() method\n",
    "List.pop()\n",
    "print(\"\\nList after popping an element: \")\n",
    "print(List)\n",
    " \n"
   ]
  },
  {
   "cell_type": "code",
   "execution_count": null,
   "metadata": {
    "id": "pjld4DI2MJMl",
    "outputId": "8052ef51-47ee-44f8-abca-0791cd700b34"
   },
   "outputs": [
    {
     "name": "stdout",
     "output_type": "stream",
     "text": [
      "\n",
      "List after popping a specific element: \n",
      "[1, 2, 4]\n"
     ]
    }
   ],
   "source": [
    "# Removing element at a\n",
    "# specific location from the\n",
    "# Set using the pop() method\n",
    "List.pop(2)\n",
    "print(\"\\nList after popping a specific element: \")\n",
    "print(List)"
   ]
  },
  {
   "cell_type": "markdown",
   "metadata": {
    "id": "w6rkLHIuMJMl"
   },
   "source": [
    "## Slicing of a List"
   ]
  },
  {
   "cell_type": "markdown",
   "metadata": {
    "id": "D9zLNFsUMJMl"
   },
   "source": [
    "In Python List, there are multiple ways to print the whole List with all the elements, but to print a specific range of elements from the list, we use the Slice operation. Slice operation is performed on Lists with the use of a colon(:). To print elements from beginning to a range use [: Index], to print elements from end-use [:-Index], to print elements from specific Index till the end use [Index:], to print elements within a range, use [Start Index:End Index] and to print the whole List with the use of slicing operation, use [:]. Further, to print the whole List in reverse order, use [::-1].\n"
   ]
  },
  {
   "cell_type": "markdown",
   "metadata": {
    "id": "hMJ0qcsYMJMl"
   },
   "source": [
    "Note – To print elements of List from rear-end, use Negative Indexes"
   ]
  },
  {
   "cell_type": "code",
   "execution_count": null,
   "metadata": {
    "id": "GOz9x-a7MJMm",
    "outputId": "cdfe3d58-1229-4baf-d118-d2c717efb2a1"
   },
   "outputs": [
    {
     "name": "stdout",
     "output_type": "stream",
     "text": [
      "Initial List: \n",
      "['A', 'B', 'C', 'D', 'E', 'F', 'G', 'H', 'I', 'J', 'K', 'L', 'M']\n",
      "\n",
      "Slicing elements in a range 3-8: \n",
      "['D', 'E', 'F', 'G', 'H']\n"
     ]
    }
   ],
   "source": [
    "# Creating a List\n",
    "List = ['A','B','C','D','E','F',\n",
    "        'G','H','I','J','K','L','M']\n",
    "print(\"Initial List: \")\n",
    "print(List)\n",
    " \n",
    "# Print elements of a range\n",
    "# using Slice operation\n",
    "Sliced_List = List[3:8]\n",
    "print(\"\\nSlicing elements in a range 3-8: \")\n",
    "print(Sliced_List)\n",
    " "
   ]
  },
  {
   "cell_type": "code",
   "execution_count": null,
   "metadata": {
    "id": "xPBeErKjMJMm",
    "outputId": "58c3afb6-bcee-431d-aba9-90973b3ed21b"
   },
   "outputs": [
    {
     "name": "stdout",
     "output_type": "stream",
     "text": [
      "\n",
      "Elements sliced from 5th element till the end: \n",
      "['F', 'G', 'H', 'I', 'J', 'K', 'L', 'M']\n"
     ]
    }
   ],
   "source": [
    "# Print elements from a\n",
    "# pre-defined point to end\n",
    "Sliced_List = List[5:]\n",
    "print(\"\\nElements sliced from 5th \"\n",
    "      \"element till the end: \")\n",
    "print(Sliced_List)"
   ]
  },
  {
   "cell_type": "code",
   "execution_count": null,
   "metadata": {
    "id": "LenfXEsjMJMm",
    "outputId": "bc8d374e-21f9-4b45-b6e3-79dec9c12674"
   },
   "outputs": [
    {
     "name": "stdout",
     "output_type": "stream",
     "text": [
      "\n",
      "Printing all elements using slice operation: \n",
      "['A', 'B', 'C', 'D', 'E', 'F', 'G', 'H', 'I', 'J', 'K', 'L', 'M']\n"
     ]
    }
   ],
   "source": [
    "# Printing elements from\n",
    "# beginning till end\n",
    "Sliced_List = List[:]\n",
    "print(\"\\nPrinting all elements using slice operation: \")\n",
    "print(Sliced_List)"
   ]
  },
  {
   "cell_type": "markdown",
   "metadata": {
    "id": "Qi7Vqzy7MJMn"
   },
   "source": [
    "### Negative index List slicing"
   ]
  },
  {
   "cell_type": "code",
   "execution_count": null,
   "metadata": {
    "id": "fb8Hy3JQMJMn",
    "outputId": "2db3c661-f70e-4d81-ec92-a1118a1d343f"
   },
   "outputs": [
    {
     "name": "stdout",
     "output_type": "stream",
     "text": [
      "Initial List: \n",
      "['A', 'B', 'C', 'D', 'E', 'F', 'G', 'H', 'I', 'J', 'K', 'L', 'M']\n"
     ]
    }
   ],
   "source": [
    "# Creating a List\n",
    "List = ['A','B','C','D','E','F',\n",
    "        'G','H','I','J','K','L','M']\n",
    "print(\"Initial List: \")\n",
    "print(List)\n",
    " "
   ]
  },
  {
   "cell_type": "code",
   "execution_count": null,
   "metadata": {
    "id": "5xEaKjKbMJMn",
    "outputId": "f53aba5c-4eb1-4a78-8ec8-99da45d01c99"
   },
   "outputs": [
    {
     "name": "stdout",
     "output_type": "stream",
     "text": [
      "\n",
      "Elements sliced till 6th element from last: \n",
      "['A', 'B', 'C', 'D', 'E', 'F', 'G']\n"
     ]
    }
   ],
   "source": [
    "# Print elements from beginning\n",
    "# to a pre-defined point using Slice\n",
    "Sliced_List = List[:-6]\n",
    "print(\"\\nElements sliced till 6th element from last: \")\n",
    "print(Sliced_List)"
   ]
  },
  {
   "cell_type": "code",
   "execution_count": null,
   "metadata": {
    "id": "myt5Pkk9MJMo",
    "outputId": "1428bf26-d1c1-4e80-99a2-390b36f1aabf"
   },
   "outputs": [
    {
     "name": "stdout",
     "output_type": "stream",
     "text": [
      "\n",
      "Elements sliced from index -6 to -1\n",
      "['H', 'I', 'J', 'K', 'L']\n"
     ]
    }
   ],
   "source": [
    "# Print elements of a range\n",
    "# using negative index List slicing\n",
    "Sliced_List = List[-6:-1]\n",
    "print(\"\\nElements sliced from index -6 to -1\")\n",
    "print(Sliced_List)"
   ]
  },
  {
   "cell_type": "code",
   "execution_count": null,
   "metadata": {
    "id": "rrJwDn6QMJMo",
    "outputId": "7e2384a5-d252-4398-fdf5-9f6a4202e0db"
   },
   "outputs": [
    {
     "name": "stdout",
     "output_type": "stream",
     "text": [
      "\n",
      "Printing List in reverse: \n",
      "['M', 'L', 'K', 'J', 'I', 'H', 'G', 'F', 'E', 'D', 'C', 'B', 'A']\n"
     ]
    }
   ],
   "source": [
    "# Printing elements in reverse\n",
    "# using Slice operation\n",
    "Sliced_List = List[::-1]\n",
    "print(\"\\nPrinting List in reverse: \")\n",
    "print(Sliced_List)"
   ]
  },
  {
   "cell_type": "code",
   "execution_count": null,
   "metadata": {
    "id": "AxZ3l1XOMJMo"
   },
   "outputs": [],
   "source": []
  }
 ],
 "metadata": {
  "colab": {
   "name": "TOPIC_2_LISTS.ipynb",
   "provenance": []
  },
  "kernelspec": {
   "display_name": "Python 3 (ipykernel)",
   "language": "python",
   "name": "python3"
  },
  "language_info": {
   "codemirror_mode": {
    "name": "ipython",
    "version": 3
   },
   "file_extension": ".py",
   "mimetype": "text/x-python",
   "name": "python",
   "nbconvert_exporter": "python",
   "pygments_lexer": "ipython3",
   "version": "3.9.6"
  }
 },
 "nbformat": 4,
 "nbformat_minor": 1
}
