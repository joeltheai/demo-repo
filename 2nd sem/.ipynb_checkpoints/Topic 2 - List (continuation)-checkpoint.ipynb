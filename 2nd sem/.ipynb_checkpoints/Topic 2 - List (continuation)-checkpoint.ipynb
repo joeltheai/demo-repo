{
 "cells": [
  {
   "cell_type": "markdown",
   "id": "309ffb0d",
   "metadata": {},
   "source": [
    "# Class - 2"
   ]
  },
  {
   "cell_type": "markdown",
   "id": "ec073cb1",
   "metadata": {},
   "source": [
    "1. Write a program that generates a list L of 20 random numbers between 1 and 100."
   ]
  },
  {
   "cell_type": "code",
   "execution_count": 33,
   "id": "14b2f6b6",
   "metadata": {},
   "outputs": [],
   "source": [
    "from random import randint\n",
    "L = []\n",
    "for i in range(20):\n",
    "    L.append(randint(1,100))\n",
    "    "
   ]
  },
  {
   "cell_type": "code",
   "execution_count": 34,
   "id": "b77ef3e2",
   "metadata": {},
   "outputs": [
    {
     "data": {
      "text/plain": [
       "[57, 1, 23, 21, 75, 38, 96, 89, 33, 96, 75, 65, 64, 66, 85, 18, 71, 53, 58, 24]"
      ]
     },
     "execution_count": 34,
     "metadata": {},
     "output_type": "execute_result"
    }
   ],
   "source": [
    "L"
   ]
  },
  {
   "cell_type": "markdown",
   "id": "f86d78a2",
   "metadata": {},
   "source": [
    "2. Replace each element in a list L with its square and cube."
   ]
  },
  {
   "cell_type": "code",
   "execution_count": 35,
   "id": "cdad2b7f",
   "metadata": {},
   "outputs": [],
   "source": [
    "for i in range(len(L)):\n",
    "    L[i] = L[i]**2"
   ]
  },
  {
   "cell_type": "code",
   "execution_count": 50,
   "id": "f87a2c35",
   "metadata": {},
   "outputs": [
    {
     "data": {
      "text/plain": [
       "[34296447249,\n",
       " 1,\n",
       " 148035889,\n",
       " 85766121,\n",
       " 177978515625,\n",
       " 3010936384,\n",
       " 782757789696,\n",
       " 496981290961,\n",
       " 1291467969,\n",
       " 782757789696,\n",
       " 177978515625,\n",
       " 75418890625,\n",
       " 68719476736,\n",
       " 82653950016,\n",
       " 377149515625,\n",
       " 34012224,\n",
       " 128100283921,\n",
       " 22164361129,\n",
       " 38068692544,\n",
       " 191102976]"
      ]
     },
     "execution_count": 50,
     "metadata": {},
     "output_type": "execute_result"
    }
   ],
   "source": [
    "L"
   ]
  },
  {
   "cell_type": "code",
   "execution_count": 51,
   "id": "4d609de1",
   "metadata": {},
   "outputs": [
    {
     "data": {
      "text/plain": [
       "[40341068970691068873250369779249,\n",
       " 1,\n",
       " 3244150909895248285300369,\n",
       " 630880792396715529789561,\n",
       " 5637710113660432398319244384765625,\n",
       " 27296360116495644500385071104,\n",
       " 479603335372621236652373132533825536,\n",
       " 122749609618842355502421774953773681,\n",
       " 2154025884392726618070214209,\n",
       " 479603335372621236652373132533825536,\n",
       " 5637710113660432398319244384765625,\n",
       " 428983333404378483310699462890625,\n",
       " 324518553658426726783156020576256,\n",
       " 564664961438246926567398233604096,\n",
       " 53646409805556201900516510009765625,\n",
       " 39346408075296537575424,\n",
       " 2102085018129621311776010144838961,\n",
       " 10888439761782913818722623349689,\n",
       " 55170114352623680311867516125184,\n",
       " 6979147079584381377970176]"
      ]
     },
     "execution_count": 51,
     "metadata": {},
     "output_type": "execute_result"
    }
   ],
   "source": [
    "for i in range(len(L)):\n",
    "    L[i] = L[i]**3\n",
    "L"
   ]
  },
  {
   "cell_type": "markdown",
   "id": "d99781ae",
   "metadata": {},
   "source": [
    "3. Count how many items in a list L are greater than 50."
   ]
  },
  {
   "cell_type": "code",
   "execution_count": 55,
   "id": "678f3926",
   "metadata": {},
   "outputs": [
    {
     "data": {
      "text/plain": [
       "9"
      ]
     },
     "execution_count": 55,
     "metadata": {},
     "output_type": "execute_result"
    }
   ],
   "source": [
    "count = 0\n",
    "for item in L:\n",
    "    if item>50:\n",
    "        count=count+1\n",
    "count"
   ]
  },
  {
   "cell_type": "markdown",
   "id": "73fcd412",
   "metadata": {},
   "source": [
    "4. Write a program that asks the user to enter a list of integers. Do the following:\n",
    "\n",
    "(a) Print the total number of items in the list.\n",
    "\n",
    "(b) Print the fourth item in the list.\n",
    "\n",
    "(c) Print the last 3 items in the list.\n",
    "\n",
    "(d) Print everything but first 2 items in the list.\n",
    "\n",
    "(e) Print the list in reverse order.\n",
    "\n",
    "(f) Print the largest and smallest item in the list.\n",
    "\n",
    "(g) Print the sum of items in the list.\n",
    "\n",
    "(h) Check if the list contains 0. If zero exists in the list,display its position. \n",
    "\n",
    "(i) Print the list after sorting the items.\n",
    "\n",
    "(j) Print the list after deleting the first item from the sorted list.\n",
    "\n",
    "(k) Print the list after changing the second-to-last item as 98.\n",
    "\n",
    "(l) Print the list after appending -500 to it.\n"
   ]
  },
  {
   "cell_type": "code",
   "execution_count": 62,
   "id": "5e56f664",
   "metadata": {},
   "outputs": [
    {
     "name": "stdout",
     "output_type": "stream",
     "text": [
      "Enter a list of at least 5 items: [2,43,32,1,0]\n",
      "(a) Number of items: 5\n",
      "(b) Fourth item: 1\n",
      "(c) Last 3 items: [32, 1, 0]\n",
      "(d) Everything but first 2 items: [32, 1, 0]\n",
      "(e) Reversed: [0, 1, 32, 43, 2]\n",
      "(f) Largest: 43   Smallest: 0\n",
      "(g) Sum: 78\n",
      "(h) First zero is at: 4\n",
      "(i) Now sorted: [0, 1, 2, 32, 43]\n",
      "(j) After deleting first item: [1, 2, 32, 43]\n",
      "(k) After changing second-to-last item: [1, 2, 98, 43]\n",
      "(l) After appending -500 to list: [1, 2, 98, 43, -500]\n"
     ]
    }
   ],
   "source": [
    "L = eval(input('Enter a list of at least 5 items: '))\n",
    "print('(a) Number of items:', len(L))\n",
    "print('(b) Fourth item:', L[3])\n",
    "print('(c) Last 3 items:', L[-3:])\n",
    "print('(d) Everything but first 2 items:', L[2:])\n",
    "print('(e) Reversed:', L[::-1])\n",
    "print('(f) Largest:', max(L), '  Smallest:', min(L))\n",
    "print('(g) Sum:', sum(L))\n",
    "if 0 in L:\n",
    "    print('(h) First zero is at:', L.index(0))\n",
    "else:\n",
    "    print('(h) No zeroes in the list.')\n",
    "L.sort()\n",
    "print('(i) Now sorted:', L)\n",
    "del L[0]\n",
    "print('(j) After deleting first item:', L)\n",
    "L[-2] = 98\n",
    "print('(k) After changing second-to-last item:', L)\n",
    "L.append(-500)\n",
    "print('(l) After appending -500 to list:', L)"
   ]
  },
  {
   "cell_type": "markdown",
   "id": "bde1053c",
   "metadata": {},
   "source": [
    "5. Given a list, find the smallest thing and the first index at which it occurs."
   ]
  },
  {
   "cell_type": "code",
   "execution_count": 70,
   "id": "184692fa",
   "metadata": {},
   "outputs": [
    {
     "name": "stdout",
     "output_type": "stream",
     "text": [
      "Enter a list: [12,14,55,34,42]\n",
      "Smallest item is 12 first occuring at index 0\n"
     ]
    }
   ],
   "source": [
    "L = eval(input('Enter a list: '))\n",
    "best = 0\n",
    "for i in range(len(L)):\n",
    "    if L[i] < L[best]:\n",
    "        best = i\n",
    "print('Smallest item is', L[best], 'first occuring at index', best)\n"
   ]
  },
  {
   "cell_type": "markdown",
   "id": "a88b2470",
   "metadata": {},
   "source": [
    "6. Given a list with some items greater than 10, print out smallest thing larger than 10."
   ]
  },
  {
   "cell_type": "code",
   "execution_count": 69,
   "id": "91566d6f",
   "metadata": {},
   "outputs": [
    {
     "name": "stdout",
     "output_type": "stream",
     "text": [
      "Enter a list with some items greater than 10: [12,14,55,34,42]\n",
      "Smallest thing greater than 10: 12\n"
     ]
    }
   ],
   "source": [
    "L = eval(input('Enter a list with some items greater than 10: '))\n",
    "smallest = max(L)\n",
    "for x in L:\n",
    "    if 10 < x < smallest:\n",
    "        smallest = x\n",
    "print('Smallest thing greater than 10:', smallest)\n"
   ]
  },
  {
   "cell_type": "markdown",
   "id": "dd8f82ca",
   "metadata": {},
   "source": [
    "7. Given a list, replace evens with zeroes and odds with two ones."
   ]
  },
  {
   "cell_type": "code",
   "execution_count": 68,
   "id": "64d7547c",
   "metadata": {},
   "outputs": [
    {
     "name": "stdout",
     "output_type": "stream",
     "text": [
      "Enter a list: [4,9,2,1,3,0]\n",
      "Modified list: [0, 1, 1, 0, 1, 1, 1, 1, 0]\n"
     ]
    }
   ],
   "source": [
    "L = eval(input('Enter a list: '))\n",
    "M = []\n",
    "for i in range(len(L)):\n",
    "    if L[i] % 2 == 0:\n",
    "        M.append(0)\n",
    "    else:\n",
    "        M.append(1)\n",
    "        M.append(1)\n",
    "L = M\n",
    "print('Modified list:', L)"
   ]
  },
  {
   "cell_type": "markdown",
   "id": "9ee03560",
   "metadata": {},
   "source": [
    "8. Given a list, print the following:\n",
    "\n",
    "(a) average, \n",
    "\n",
    "(b) smallest three items, \n",
    "\n",
    "(c) average after removing the smallest item."
   ]
  },
  {
   "cell_type": "code",
   "execution_count": 67,
   "id": "b91600f1",
   "metadata": {},
   "outputs": [
    {
     "name": "stdout",
     "output_type": "stream",
     "text": [
      "Enter a list:[4,9,2,1,3,0]\n",
      "(a) Average: 3.1666666666666665\n",
      "(b) Three smallest: [0, 1, 2]\n",
      "(c) Average, dropping smallest: 3.8\n"
     ]
    }
   ],
   "source": [
    "L = eval(input('Enter a list:'))\n",
    "print('(a) Average:', sum(L)/len(L))\n",
    "L.sort()\n",
    "print('(b) Three smallest:', L[:3])\n",
    "print('(c) Average, dropping smallest:', sum(L[1:])/len(L[1:]))"
   ]
  },
  {
   "cell_type": "markdown",
   "id": "e84b5e72",
   "metadata": {},
   "source": [
    "9. Given month number, print out the month name."
   ]
  },
  {
   "cell_type": "code",
   "execution_count": 65,
   "id": "8fe5e3fd",
   "metadata": {},
   "outputs": [
    {
     "name": "stdout",
     "output_type": "stream",
     "text": [
      "Enter a month number: 4\n",
      "April\n"
     ]
    }
   ],
   "source": [
    "#a Tedious way\n",
    "\n",
    "month = eval(input('Enter a month number: '))\n",
    "if month == 1:\n",
    "    print('January')\n",
    "elif month == 2:\n",
    "    print('February')\n",
    "elif month == 3:\n",
    "    print('March')\n",
    "elif month == 4:\n",
    "    print('April')\n",
    "elif month == 5:\n",
    "    print('May')\n",
    "elif month == 6:\n",
    "    print('June')\n",
    "elif month == 7:\n",
    "    print('July')\n",
    "elif month == 8:\n",
    "    print('August')\n",
    "elif month == 9:\n",
    "    print('September')\n",
    "elif month == 10:\n",
    "    print('October')\n",
    "elif month == 11:\n",
    "    print('November')\n",
    "elif month == 12:\n",
    "    print('December')"
   ]
  },
  {
   "cell_type": "code",
   "execution_count": 64,
   "id": "df66fd8d",
   "metadata": {},
   "outputs": [
    {
     "name": "stdout",
     "output_type": "stream",
     "text": [
      "Enter a month number: 4\n",
      "April\n"
     ]
    }
   ],
   "source": [
    "#b List way\n",
    "Months = ['January', 'February', 'March', 'April', 'May', 'June',\n",
    "          'July', 'August', 'September', 'October', 'November', 'December']\n",
    "month = eval(input('Enter a month number: '))\n",
    "print(Months[month-1])"
   ]
  },
  {
   "cell_type": "markdown",
   "id": "9af84c46",
   "metadata": {},
   "source": [
    "10. Create list [1,2,2,3,3,3,4,4,4,4,...,10,10,10,10,10,10,10,10,10,10]"
   ]
  },
  {
   "cell_type": "code",
   "execution_count": 63,
   "id": "3314b2ac",
   "metadata": {},
   "outputs": [
    {
     "name": "stdout",
     "output_type": "stream",
     "text": [
      "[1, 2, 2, 3, 3, 3, 4, 4, 4, 4, 5, 5, 5, 5, 5, 6, 6, 6, 6, 6, 6, 7, 7, 7, 7, 7, 7, 7, 8, 8, 8, 8, 8, 8, 8, 8, 9, 9, 9, 9, 9, 9, 9, 9, 9, 10, 10, 10, 10, 10, 10, 10, 10, 10, 10]\n"
     ]
    }
   ],
   "source": [
    "L = []\n",
    "for i in range(1, 11):\n",
    "    L += [i]*i\n",
    "print(L)"
   ]
  },
  {
   "cell_type": "markdown",
   "id": "87d96814",
   "metadata": {},
   "source": [
    "# Class - 3"
   ]
  },
  {
   "cell_type": "markdown",
   "id": "05e8fb48",
   "metadata": {},
   "source": [
    "11. Given two lists, create a list by going element-by-element and taking the larger one from the two lists."
   ]
  },
  {
   "cell_type": "code",
   "execution_count": 71,
   "id": "5b807be1",
   "metadata": {},
   "outputs": [
    {
     "name": "stdout",
     "output_type": "stream",
     "text": [
      "Enter first list: [1,2,3,4]\n",
      "Enter second list (same size as first): [0,2,1,9]\n",
      "[1, 2, 3, 9]\n"
     ]
    }
   ],
   "source": [
    "L = eval(input('Enter first list: '))\n",
    "M = eval(input('Enter second list (same size as first): '))\n",
    "N = []\n",
    "for i in range(len(L)):\n",
    "    if L[i] > M[i]:\n",
    "        N.append(L[i])\n",
    "    else:\n",
    "        N.append(M[i])\n",
    "print(N)\n"
   ]
  },
  {
   "cell_type": "markdown",
   "id": "1a106799",
   "metadata": {},
   "source": [
    "12. Given list, create a list of cumulative sums from it"
   ]
  },
  {
   "cell_type": "code",
   "execution_count": 74,
   "id": "91f4448d",
   "metadata": {},
   "outputs": [
    {
     "name": "stdout",
     "output_type": "stream",
     "text": [
      "Enter a list: [3,44,2,1,5]\n",
      "[3, 47, 49, 50, 55]\n"
     ]
    }
   ],
   "source": [
    "L = eval(input('Enter a list: '))\n",
    "Sums = []\n",
    "for i in range(len(L)):\n",
    "    Sums.append(sum(L[:i+1]))\n",
    "print(Sums)"
   ]
  },
  {
   "cell_type": "markdown",
   "id": "1c61b465",
   "metadata": {},
   "source": [
    "13. List of triangular numbers any of the series of numbers (1, 3, 6, 10, 15, etc.) obtained by continued summation of the natural numbers."
   ]
  },
  {
   "cell_type": "code",
   "execution_count": 75,
   "id": "1f30a5ad",
   "metadata": {},
   "outputs": [
    {
     "name": "stdout",
     "output_type": "stream",
     "text": [
      "How many triangular numbers do you want? 7\n",
      "[1, 3, 6, 10, 15, 21]\n"
     ]
    }
   ],
   "source": [
    "n = eval(input('How many triangular numbers do you want? '))\n",
    "L = []\n",
    "total = 0\n",
    "for i in range(1,n):\n",
    "    total += i\n",
    "    L.append(total)\n",
    "print(L)"
   ]
  },
  {
   "cell_type": "markdown",
   "id": "a11688ba",
   "metadata": {},
   "source": [
    "14. Riffle shuffle two lists - Create a list containing the first two elemnt from the two lists followed by the second two elements from the two lists and so on."
   ]
  },
  {
   "cell_type": "code",
   "execution_count": 84,
   "id": "ec1e412f",
   "metadata": {},
   "outputs": [
    {
     "name": "stdout",
     "output_type": "stream",
     "text": [
      "Enter a list: [1,5,2,7,4]\n",
      "Enter another list (same size as first): [4,2,3,1,8]\n",
      "[1, 4, 5, 2, 2, 3, 7, 1, 4, 8]\n"
     ]
    }
   ],
   "source": [
    "L = eval(input('Enter a list: '))\n",
    "M = eval(input('Enter another list (same size as first): '))\n",
    "N = []\n",
    "for i in range(len(L)):\n",
    "    N.append(L[i])\n",
    "    N.append(M[i])\n",
    "print(N)\n",
    "\n"
   ]
  },
  {
   "cell_type": "markdown",
   "id": "888e14df",
   "metadata": {},
   "source": [
    "15. Rotate items in a list left."
   ]
  },
  {
   "cell_type": "code",
   "execution_count": 83,
   "id": "7f476f90",
   "metadata": {},
   "outputs": [
    {
     "name": "stdout",
     "output_type": "stream",
     "text": [
      "Enter a list: [1,4,7,3,9]\n",
      "[4, 7, 3, 9, 1]\n"
     ]
    }
   ],
   "source": [
    "L = eval(input('Enter a list: '))\n",
    "save = L[0]\n",
    "for i in range(len(L)-1):\n",
    "    L[i] = L[i+1]\n",
    "L[-1] = save\n",
    "print(L)\n"
   ]
  },
  {
   "cell_type": "markdown",
   "id": "b40ea863",
   "metadata": {},
   "source": [
    "16. Create random list of 0s, 1s, and 2s, then create a new list of indices that repeats occur."
   ]
  },
  {
   "cell_type": "code",
   "execution_count": 82,
   "id": "a2c3400a",
   "metadata": {},
   "outputs": [
    {
     "name": "stdout",
     "output_type": "stream",
     "text": [
      "[2, 1, 1, 1, 1, 1, 2, 1, 1, 2, 0, 0, 0, 1, 2, 2, 1, 1, 1, 2]\n",
      "[2, 3, 4, 5, 8, 11, 12, 15, 17, 18]\n"
     ]
    }
   ],
   "source": [
    "from random import randint\n",
    "\n",
    "L = []\n",
    "for i in range(20):\n",
    "    L.append(randint(0, 2))\n",
    "print(L)\n",
    "\n",
    "Repeats = []\n",
    "for i in range(1, len(L)-1):\n",
    "    if L[i] == L[i-1]:\n",
    "        Repeats.append(i)\n",
    "print(Repeats)"
   ]
  },
  {
   "cell_type": "markdown",
   "id": "2b251635",
   "metadata": {},
   "source": [
    "17. Given list, create new list containing first 5 items in reverse order and rest as they were."
   ]
  },
  {
   "cell_type": "code",
   "execution_count": 81,
   "id": "94654e17",
   "metadata": {},
   "outputs": [
    {
     "name": "stdout",
     "output_type": "stream",
     "text": [
      "Enter a list of at least five items: [2,5,3,7,1,8,33,65,78,9,4]\n",
      "[1, 7, 3, 5, 2, 8, 33, 65, 78, 9, 4]\n"
     ]
    }
   ],
   "source": [
    "L = eval(input('Enter a list of at least five items: '))\n",
    "M = L[:5][::-1] + L[5:]\n",
    "print(M)"
   ]
  },
  {
   "cell_type": "markdown",
   "id": "7da4ade3",
   "metadata": {},
   "source": [
    "18. Given string of lowercase letters, create a list of how many times each letter occurs."
   ]
  },
  {
   "cell_type": "code",
   "execution_count": 80,
   "id": "90c720b2",
   "metadata": {},
   "outputs": [
    {
     "name": "stdout",
     "output_type": "stream",
     "text": [
      "Enter a string of lowercase letters: malayalam\n",
      "[4, 0, 0, 0, 0, 0, 0, 0, 0, 0, 0, 2, 2, 0, 0, 0, 0, 0, 0, 0, 0, 0, 0, 0, 1, 0]\n"
     ]
    }
   ],
   "source": [
    "s = input('Enter a string of lowercase letters: ')\n",
    "alphabet = 'abcdefghijklmnopqrstuvwxyz'\n",
    "L = []\n",
    "for c in alphabet:\n",
    "    L.append(s.count(c))\n",
    "print(L)\n"
   ]
  },
  {
   "cell_type": "markdown",
   "id": "a80fa1d5",
   "metadata": {},
   "source": [
    "19. Generate 100 random numbers from 1 to 50, then change first two 50s to -999."
   ]
  },
  {
   "cell_type": "code",
   "execution_count": 76,
   "id": "253dea5e",
   "metadata": {},
   "outputs": [
    {
     "name": "stdout",
     "output_type": "stream",
     "text": [
      "[33, 13, 43, 17, 14, 13, 35, 38, 16, 32, 40, 9, 21, 18, 39, 47, 31, 48, 47, 31, 1, 45, 49, 25, 6, 9, 15, 31, 1, 37, 12, 50, 26, 25, 17, 45, 16, 9, 46, 30, 18, 47, 27, 4, 33, 46, 7, 37, 8, 17, 18, 22, 10, 50, 23, 18, 45, 14, 40, 46, 1, 37, 9, 20, 28, 33, 20, 15, 48, 8, 40, 38, 16, 25, 19, 5, 33, 37, 8, 16, 27, 6, 29, 23, 10, 45, 38, 24, 33, 19, 27, 38, 30, 43, 28, 38, 8, 17, 7, 40]\n",
      "New list: [33, 13, 43, 17, 14, 13, 35, 38, 16, 32, 40, 9, 21, 18, 39, 47, 31, 48, 47, 31, 1, 45, 49, 25, 6, 9, 15, 31, 1, 37, 12, -999, 26, 25, 17, 45, 16, 9, 46, 30, 18, 47, 27, 4, 33, 46, 7, 37, 8, 17, 18, 22, 10, -999, 23, 18, 45, 14, 40, 46, 1, 37, 9, 20, 28, 33, 20, 15, 48, 8, 40, 38, 16, 25, 19, 5, 33, 37, 8, 16, 27, 6, 29, 23, 10, 45, 38, 24, 33, 19, 27, 38, 30, 43, 28, 38, 8, 17, 7, 40]\n"
     ]
    }
   ],
   "source": [
    "from random import randint\n",
    "\n",
    "L = []\n",
    "for i in range(100):\n",
    "    L.append(randint(1, 50))\n",
    "print(L)\n",
    "\n",
    "count = 0\n",
    "for i in range(len(L)):\n",
    "    if L[i] == 50 and count < 2:\n",
    "        L[i] = -999\n",
    "        count += 1\n",
    "if count == 0:\n",
    "    print('There were no 50s.')\n",
    "else:\n",
    "    print('New list:', L)\n"
   ]
  },
  {
   "cell_type": "code",
   "execution_count": null,
   "id": "91e1ca9a",
   "metadata": {},
   "outputs": [],
   "source": []
  }
 ],
 "metadata": {
  "kernelspec": {
   "display_name": "Python 3 (ipykernel)",
   "language": "python",
   "name": "python3"
  },
  "language_info": {
   "codemirror_mode": {
    "name": "ipython",
    "version": 3
   },
   "file_extension": ".py",
   "mimetype": "text/x-python",
   "name": "python",
   "nbconvert_exporter": "python",
   "pygments_lexer": "ipython3",
   "version": "3.9.6"
  }
 },
 "nbformat": 4,
 "nbformat_minor": 5
}
