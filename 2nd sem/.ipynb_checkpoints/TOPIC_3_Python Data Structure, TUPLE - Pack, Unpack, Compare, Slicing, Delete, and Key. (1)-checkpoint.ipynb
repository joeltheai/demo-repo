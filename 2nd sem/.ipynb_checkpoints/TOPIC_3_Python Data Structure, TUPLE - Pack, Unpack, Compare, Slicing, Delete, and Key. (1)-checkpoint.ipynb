{
 "cells": [
  {
   "cell_type": "markdown",
   "metadata": {},
   "source": [
    "# Python Data Structure – Python TUPLE – Pack, Unpack, Compare, Slicing, Delete, Key"
   ]
  },
  {
   "cell_type": "markdown",
   "metadata": {},
   "source": [
    "# What is Tuple Matching in Python?"
   ]
  },
  {
   "cell_type": "markdown",
   "metadata": {},
   "source": [
    "Tuple Matching is a method of grouping the tuples by matching the second element in the tuples. It is achieved by using a dictionary by checking the second element in each tuple in python programming. However, we can make new tuples by taking portions of existing tuples.\n"
   ]
  },
  {
   "cell_type": "markdown",
   "metadata": {},
   "source": [
    "# Tuple Syntax"
   ]
  },
  {
   "cell_type": "markdown",
   "metadata": {},
   "source": [
    "Tup = ('Jan','feb','march')\n",
    "\n",
    "To write an empty tuple, you need to write as two parentheses containing nothing-"
   ]
  },
  {
   "cell_type": "code",
   "execution_count": 1,
   "metadata": {},
   "outputs": [],
   "source": [
    "tup1 = ();"
   ]
  },
  {
   "cell_type": "markdown",
   "metadata": {},
   "source": [
    "For writing tuple for a single value, you need to include a comma, even though there is a single value. Also at the end you need to write semicolon as shown below."
   ]
  },
  {
   "cell_type": "code",
   "execution_count": 1,
   "metadata": {},
   "outputs": [],
   "source": [
    "Tup1 = (50,);"
   ]
  },
  {
   "cell_type": "markdown",
   "metadata": {},
   "source": [
    "Tuple indices begin at 0, and they can be concatenated, sliced and so on."
   ]
  },
  {
   "cell_type": "markdown",
   "metadata": {},
   "source": [
    "# Tuple Assignment"
   ]
  },
  {
   "cell_type": "markdown",
   "metadata": {},
   "source": [
    "### Packing\n"
   ]
  },
  {
   "cell_type": "markdown",
   "metadata": {},
   "source": [
    "The process of assigning values to a tuple is known as packing. "
   ]
  },
  {
   "cell_type": "markdown",
   "metadata": {},
   "source": [
    "###  1. Create a tuple to give the details of a movie i.e., name, year, director, actor, genre and print the director's name"
   ]
  },
  {
   "cell_type": "code",
   "execution_count": 11,
   "metadata": {},
   "outputs": [
    {
     "name": "stdout",
     "output_type": "stream",
     "text": [
      "Shawn Levy\n"
     ]
    }
   ],
   "source": [
    "tup_movie=('Free guy','2021','Shawn Levy','Ryan Reynolds','Sci-fi')\n",
    "print(tup_movie[2])"
   ]
  },
  {
   "cell_type": "markdown",
   "metadata": {},
   "source": [
    "### 2. Create a tuple which contains a list in it\n",
    " ### Create a tuple for the details of a movie i.e., name, year, director, actors, genre where the element 'actors' is a list"
   ]
  },
  {
   "cell_type": "code",
   "execution_count": 14,
   "metadata": {},
   "outputs": [
    {
     "name": "stdout",
     "output_type": "stream",
     "text": [
      "['Ryan Reynolds', 'Joe Keery', 'Pokimone']\n"
     ]
    }
   ],
   "source": [
    "tup_movie=('Free guy','2021','Shawn Levy',['Ryan Reynolds','Joe Keery','Pokimone'],'Sci-fi')\n",
    "print(tup_movie[3])"
   ]
  },
  {
   "cell_type": "markdown",
   "metadata": {},
   "source": [
    "### 3. Create a tuple as an element of a tuple\n",
    "### Create a tuple for the details of a student including name, reg.no, marks of english, science, social science, maths, second language and average marks"
   ]
  },
  {
   "cell_type": "code",
   "execution_count": 18,
   "metadata": {},
   "outputs": [
    {
     "name": "stdout",
     "output_type": "stream",
     "text": [
      "(60, 73, 89, 92, 57)\n"
     ]
    }
   ],
   "source": [
    "Stud_details=('Reshma',20,(60,73,89,92,57),74.2)\n",
    "print(Stud_details[2])"
   ]
  },
  {
   "cell_type": "markdown",
   "metadata": {},
   "source": [
    "# Unpacking"
   ]
  },
  {
   "cell_type": "markdown",
   "metadata": {},
   "source": [
    "In packing, we place value into a new tuple while in unpacking we extract those values back into variables."
   ]
  },
  {
   "cell_type": "code",
   "execution_count": 6,
   "metadata": {},
   "outputs": [
    {
     "name": "stdout",
     "output_type": "stream",
     "text": [
      "Guru99\n",
      "20\n",
      "Education\n"
     ]
    }
   ],
   "source": [
    "x = (\"Guru99\", 20, \"Education\") # tuple packing\n",
    "(company, emp, profile) = x # tuple unpacking\n",
    "print(company)\n",
    "print(emp)\n",
    "print(profile)"
   ]
  },
  {
   "cell_type": "markdown",
   "metadata": {},
   "source": [
    "###  5. Create a tuple for the details of a student including name, reg.no, marks of english, science, social science, maths, second language and average marks. Also retrive the mark of Science "
   ]
  },
  {
   "cell_type": "code",
   "execution_count": 19,
   "metadata": {},
   "outputs": [
    {
     "name": "stdout",
     "output_type": "stream",
     "text": [
      "73\n"
     ]
    }
   ],
   "source": [
    "Stud_details=('Reshma',20,(60,73,89,92,57),74.2)\n",
    "(name,reg_no,(english,science,social,maths,sec_lang),avg)=Stud_details\n",
    "print(science)"
   ]
  },
  {
   "cell_type": "markdown",
   "metadata": {},
   "source": [
    "### 6. Create a tuple for getting the number of students for each batch. "
   ]
  },
  {
   "cell_type": "code",
   "execution_count": 68,
   "metadata": {},
   "outputs": [
    {
     "name": "stdout",
     "output_type": "stream",
     "text": [
      "80\n"
     ]
    }
   ],
   "source": [
    "(CME,PME,PCM,BCZ)=(50,69,80,73)\n",
    "print(PCM)\n"
   ]
  },
  {
   "cell_type": "markdown",
   "metadata": {},
   "source": [
    " In unpacking of tuple, number of variables on left-hand side should be equal to number of values in given tuple.Sometimes, you don’t want to unpack every single item in a tuple. For example, you may want to unpack the first and second elements. In this case, you can use the * operator."
   ]
  },
  {
   "cell_type": "markdown",
   "metadata": {},
   "source": [
    "### 7. Create a tuple to assign the first and last element to the variables x and z respectively and others to variable y"
   ]
  },
  {
   "cell_type": "code",
   "execution_count": 37,
   "metadata": {},
   "outputs": [
    {
     "name": "stdout",
     "output_type": "stream",
     "text": [
      "[25, 50, 36, 70]\n"
     ]
    }
   ],
   "source": [
    "x,*y,z=(20,25,50,36,70,8)\n",
    "print(y)"
   ]
  },
  {
   "cell_type": "markdown",
   "metadata": {},
   "source": [
    "###  8. Do the problem number 5 using * operator"
   ]
  },
  {
   "cell_type": "code",
   "execution_count": 38,
   "metadata": {},
   "outputs": [
    {
     "name": "stdout",
     "output_type": "stream",
     "text": [
      "[60, 73, 89, 92, 57]\n"
     ]
    }
   ],
   "source": [
    "name,re_no,*marks,avg_marks=('Reshma',20,60,73,89,92,57,74.2)\n",
    "print(marks)"
   ]
  },
  {
   "cell_type": "markdown",
   "metadata": {},
   "source": [
    "# Comparing tuples"
   ]
  },
  {
   "cell_type": "markdown",
   "metadata": {},
   "source": [
    "A comparison operator in Python can work with tuples.\n",
    "\n",
    "The comparison starts with a first element of each tuple. If they do not compare to =,< or > then it proceed to the second element and so on.\n",
    "\n",
    "It starts with comparing the first element from each of the tuples\n",
    "\n",
    "Let's study this with an example-"
   ]
  },
  {
   "cell_type": "code",
   "execution_count": 41,
   "metadata": {},
   "outputs": [
    {
     "name": "stdout",
     "output_type": "stream",
     "text": [
      "a is bigger\n"
     ]
    }
   ],
   "source": [
    "#case 1 : All elements of a is greater than b\n",
    "\n",
    "a=(5,6)\n",
    "b=(1,4)\n",
    "if (a>b):print(\"a is bigger\")\n",
    "else: print(\"b is bigger\")"
   ]
  },
  {
   "cell_type": "code",
   "execution_count": 42,
   "metadata": {},
   "outputs": [
    {
     "name": "stdout",
     "output_type": "stream",
     "text": [
      "a is bigger\n"
     ]
    }
   ],
   "source": [
    "#case 2: First elements of both a and b are equal, but second element of a is greater than that of b\n",
    "\n",
    "a=(5,6)\n",
    "b=(5,4)\n",
    "if (a>b):print(\"a is bigger\")\n",
    "else: print (\"b is bigger\")"
   ]
  },
  {
   "cell_type": "code",
   "execution_count": 43,
   "metadata": {},
   "outputs": [
    {
     "name": "stdout",
     "output_type": "stream",
     "text": [
      "b is bigger\n"
     ]
    }
   ],
   "source": [
    "#case 3 : First element of b is greater than that of a but second element of a is greater than that of b\n",
    "\n",
    "a=(5,6)\n",
    "b=(6,4)\n",
    "if (a>b):print(\"a is bigger\")\n",
    "else: print(\"b is bigger\")"
   ]
  },
  {
   "cell_type": "markdown",
   "metadata": {},
   "source": [
    "Case 1: Comparison starts with a first element of each tuple. In this case 5>1, so the output a is bigger.\n",
    "\n",
    "Case 2: Comparison starts with a first element of each tuple. In this case 5>5 which is inconclusive. So it proceeds to the next element. 6>4, so the output a is bigger\n",
    "\n",
    "Case 3: Comparison starts with a first element of each tuple. In this case 5>6 which is false. So it goes into the else block and prints \"b is bigger.\"\n"
   ]
  },
  {
   "cell_type": "markdown",
   "metadata": {},
   "source": [
    "### 9. Check which tuple is greater and which one is smaller from three given tuples"
   ]
  },
  {
   "cell_type": "code",
   "execution_count": 50,
   "metadata": {},
   "outputs": [
    {
     "name": "stdout",
     "output_type": "stream",
     "text": [
      "tup_2 is greater\n"
     ]
    }
   ],
   "source": [
    "tup_1=[30,32,50,85]\n",
    "tup_2=[35,62,45,20]\n",
    "tup_3=[30,32,50,85]\n",
    "if (tup_1>tup_2):\n",
    "    if(tup_1>tup_3):\n",
    "        print('tup_1 is greater')\n",
    "elif(tup_2>tup_3):\n",
    "    print('tup_2 is greater')\n",
    "else:\n",
    "    print('tup_3 is greater')"
   ]
  },
  {
   "cell_type": "markdown",
   "metadata": {},
   "source": [
    "# Using tuples as keys in dictionaries"
   ]
  },
  {
   "cell_type": "markdown",
   "metadata": {},
   "source": [
    "Since tuples are hashable, and list is not, we must use tuple as the key if we need to create a composite key to use in a dictionary.\n",
    "\n",
    "Example: We would come across a composite key if we need to create a telephone directory that maps, first-name, last-name, pairs of telephone numbers, etc. Assuming that we have declared the variables as last and first number, we could write a dictionary assignment statement as shown below:"
   ]
  },
  {
   "cell_type": "markdown",
   "metadata": {},
   "source": [
    "directory[last,first] = number"
   ]
  },
  {
   "cell_type": "markdown",
   "metadata": {},
   "source": [
    "Dictionary can return the list of tuples by calling items, where each tuple is a key value pair."
   ]
  },
  {
   "cell_type": "code",
   "execution_count": 16,
   "metadata": {},
   "outputs": [
    {
     "name": "stdout",
     "output_type": "stream",
     "text": [
      "[('x', 100), ('y', 200)]\n"
     ]
    }
   ],
   "source": [
    "a = {'x':100, 'y':200}\n",
    "b = list(a.items())\n",
    "print(b)"
   ]
  },
  {
   "cell_type": "markdown",
   "metadata": {},
   "source": [
    "### 10. Create a list of tuples with the last four digits of the mobile number of students of a class"
   ]
  },
  {
   "cell_type": "code",
   "execution_count": 1,
   "metadata": {},
   "outputs": [
    {
     "name": "stdout",
     "output_type": "stream",
     "text": [
      "{'notebook': 35, 'chocolate': 40, 'marker': 10, 'talcum powder': 50, 'soap': 30} \n",
      "\n",
      "{'notebook': 35, 'chocolate': 40, 'marker': 10, 'talcum powder': 50, 'soap': 30, 'Rohan': 4351, 'Akash': 1223, 'Catherine': 3100} \n",
      "\n"
     ]
    }
   ],
   "source": [
    "mob_no_dic = { 'Rohan': 4351, 'Akash': 1223, 'Catherine': 3100 }\n",
    "cost_tup = [('notebook',35), ('chocolate', 40), ('marker', 10), ('talcum powder', 50), ('soap', 30)]\n",
    "\n",
    "\n",
    "    \n",
    "cost_dict = dict(cost_tup)\n",
    "print(cost_dict,\"\\n\")\n",
    "\n",
    "for i in mob_no_dic:\n",
    "    cost_dict[i] = mob_no_dic[i]\n",
    "    \n",
    "print(cost_dict,\"\\n\")\n",
    "\n"
   ]
  },
  {
   "cell_type": "code",
   "execution_count": 2,
   "metadata": {},
   "outputs": [
    {
     "name": "stdout",
     "output_type": "stream",
     "text": [
      "{'notebook': 35, 'chocolate': 40, 'marker': 10, 'talcum powder': 50, 'soap': 30} \n",
      "\n"
     ]
    },
    {
     "ename": "KeyError",
     "evalue": "0",
     "output_type": "error",
     "traceback": [
      "\u001b[1;31m---------------------------------------------------------------------------\u001b[0m",
      "\u001b[1;31mKeyError\u001b[0m                                  Traceback (most recent call last)",
      "\u001b[1;32mC:\\Users\\JAMESJ~1\\AppData\\Local\\Temp/ipykernel_5832/3566143053.py\u001b[0m in \u001b[0;36m<module>\u001b[1;34m\u001b[0m\n\u001b[0;32m      8\u001b[0m \u001b[1;33m\u001b[0m\u001b[0m\n\u001b[0;32m      9\u001b[0m \u001b[1;32mfor\u001b[0m \u001b[0mi\u001b[0m \u001b[1;32min\u001b[0m \u001b[0mrange\u001b[0m\u001b[1;33m(\u001b[0m\u001b[0mlen\u001b[0m\u001b[1;33m(\u001b[0m\u001b[0mmob_no_dic\u001b[0m\u001b[1;33m)\u001b[0m\u001b[1;33m)\u001b[0m\u001b[1;33m:\u001b[0m\u001b[1;33m\u001b[0m\u001b[1;33m\u001b[0m\u001b[0m\n\u001b[1;32m---> 10\u001b[1;33m     \u001b[0mcost_dict\u001b[0m\u001b[1;33m[\u001b[0m\u001b[0mi\u001b[0m\u001b[1;33m]\u001b[0m \u001b[1;33m=\u001b[0m \u001b[0mmob_no_dic\u001b[0m\u001b[1;33m[\u001b[0m\u001b[0mi\u001b[0m\u001b[1;33m]\u001b[0m\u001b[1;33m\u001b[0m\u001b[1;33m\u001b[0m\u001b[0m\n\u001b[0m\u001b[0;32m     11\u001b[0m \u001b[1;33m\u001b[0m\u001b[0m\n\u001b[0;32m     12\u001b[0m \u001b[0mprint\u001b[0m\u001b[1;33m(\u001b[0m\u001b[0mcost_dict\u001b[0m\u001b[1;33m)\u001b[0m\u001b[1;33m\u001b[0m\u001b[1;33m\u001b[0m\u001b[0m\n",
      "\u001b[1;31mKeyError\u001b[0m: 0"
     ]
    }
   ],
   "source": [
    "mob_no_dic = { 'Rohan': 4351, 'Akash': 1223, 'Catherine': 3100 }\n",
    "cost_tup = [('notebook',35), ('chocolate', 40), ('marker', 10), ('talcum powder', 50), ('soap', 30)]\n",
    "\n",
    "\n",
    "    \n",
    "cost_dict = dict(cost_tup)\n",
    "print(cost_dict,\"\\n\")\n",
    "\n",
    "for i in range(len(mob_no_dic)):\n",
    "    cost_dict[i] = mob_no_dic[i]\n",
    "    \n",
    "print(cost_dict)    "
   ]
  },
  {
   "cell_type": "code",
   "execution_count": 2,
   "metadata": {},
   "outputs": [
    {
     "name": "stdout",
     "output_type": "stream",
     "text": [
      "[('Rohan', 4351), ('Akash', 1223), ('Catherine', 3100)]\n"
     ]
    }
   ],
   "source": [
    "mob_no_dic = { 'Rohan': 4351, 'Akash': 1223, 'Catherine': 3100 }\n",
    "\n",
    "mob_no_tup = list(mob_no_dic.items())\n",
    "print(mob_no_tup)"
   ]
  },
  {
   "cell_type": "markdown",
   "metadata": {},
   "source": [
    "In Python the dict() method takes a list of tuples as an argument and each tuple store key-value pair element and it returns into a dictionary."
   ]
  },
  {
   "cell_type": "markdown",
   "metadata": {},
   "source": [
    "### 11. Create a dictionary of the cost of each items in a supermarket using a list of tuples"
   ]
  },
  {
   "cell_type": "code",
   "execution_count": 6,
   "metadata": {},
   "outputs": [
    {
     "name": "stdout",
     "output_type": "stream",
     "text": [
      "{'notebook': 35, 'chocolate': 40, 'marker': 10, 'talcum powder': 50, 'soap': 30}\n"
     ]
    }
   ],
   "source": [
    "cost_tup = [('notebook',35), ('chocolate', 40), ('marker', 10), ('talcum powder', 50), ('soap', 30)]\n",
    "\n",
    "cost_dic = dict(cost_tup)\n",
    "print(cost_dic)"
   ]
  },
  {
   "cell_type": "markdown",
   "metadata": {},
   "source": [
    "# Deleting Tuples"
   ]
  },
  {
   "cell_type": "markdown",
   "metadata": {},
   "source": [
    "Tuples are immutable and cannot be deleted. You cannot delete or remove items from a tuple. But deleting tuple entirely is possible by using the keyword"
   ]
  },
  {
   "cell_type": "markdown",
   "metadata": {},
   "source": [
    "del"
   ]
  },
  {
   "cell_type": "markdown",
   "metadata": {},
   "source": [
    "### 12. Remove all the duplicating tuples from the given 3 tuples\n"
   ]
  },
  {
   "cell_type": "code",
   "execution_count": 67,
   "metadata": {},
   "outputs": [
    {
     "name": "stdout",
     "output_type": "stream",
     "text": [
      "((3, 2, 5, 1, 5), (5, 2, 3, 6, 9))\n"
     ]
    }
   ],
   "source": [
    "tup_1=(3,2,5,1,5)\n",
    "tup_2=(5,2,3,6,9)\n",
    "tup_3=(3,2,5,1,5)\n",
    "remaining=0\n",
    "if (tup_1==tup_2):\n",
    "    del tup_2\n",
    "    remaining=(tup_1,tup_3)\n",
    "elif(tup_2==tup_3):\n",
    "    del tup_3\n",
    "    remaining=(tup_1,tup_2)\n",
    "elif(tup_1==tup_3):\n",
    "    del tup_3\n",
    "    remaining =(tup_1,tup_2)\n",
    "print(remaining)\n"
   ]
  },
  {
   "cell_type": "code",
   "execution_count": null,
   "metadata": {},
   "outputs": [],
   "source": []
  },
  {
   "cell_type": "markdown",
   "metadata": {},
   "source": [
    "# Advantages of tuple over list"
   ]
  },
  {
   "cell_type": "markdown",
   "metadata": {},
   "source": [
    "$\\bullet$ Iterating through tuple is faster than with list, since tuples are immutable.\n",
    "\n",
    "$\\bullet$ Tuples that consist of immutable elements can be used as key for dictionary, which is not possible with list\n",
    "\n",
    "$\\bullet$ If you have data that is immutable, implementing it as tuple will guarantee that it remains write-protected"
   ]
  },
  {
   "cell_type": "markdown",
   "metadata": {},
   "source": [
    "Packing and Unpacking of Tuples\n",
    "\n",
    "$\\bullet$ In packing, we place value into a new tuple while in unpacking we extract those values back into variables.\n",
    "\n",
    "$\\bullet$ A comparison operator in Python can work with tuples.\n",
    "\n",
    "\n",
    "Using tuples as keys in dictionaries\n",
    "\n",
    "$\\bullet$ Tuples are hashable, and list are not\n",
    "\n",
    "$\\bullet$ We must use tuple as the key if we need to create a composite key to use in a dictionary\n",
    "\n",
    "$\\bullet$ Dictionary can return the list of tuples by calling items, where each tuple is a key value pair\n",
    "\n",
    "Tuples are immutable and cannot be deleted. You cannot delete or remove items from a tuple. But deleting tuple entirely is possible by using the keyword \"del\"\n",
    "\n",
    "To fetch specific sets of sub-elements from tuple or list, we use this unique function called slicing"
   ]
  },
  {
   "cell_type": "code",
   "execution_count": 1,
   "metadata": {},
   "outputs": [
    {
     "name": "stdout",
     "output_type": "stream",
     "text": [
      "enter a list:[1,2,3,4,5]\n",
      "[1, 3, 6, 10, 15]\n"
     ]
    }
   ],
   "source": [
    "l = eval(input(\"enter a list:\",))\n",
    "sums = []\n",
    "for i in range(len(l)):\n",
    "    sums.append(sum(l[:i+1]))\n",
    "    \n",
    "print(sums)"
   ]
  },
  {
   "cell_type": "code",
   "execution_count": 2,
   "metadata": {},
   "outputs": [
    {
     "name": "stdout",
     "output_type": "stream",
     "text": [
      "[8, 6, 5, 6, 7, 9, 2]\n",
      "[8, 6, 5, 6, 7, 9, 2]\n",
      "[8, 6, 5, 6, 7, 9, 2]\n",
      "[8, 6, 5, 6, 7, 9, 2]\n"
     ]
    }
   ],
   "source": [
    "p=[2,9,7,6,5,6,8]\n",
    "p.reverse()\n",
    "for c in range(2,6):\n",
    "    print(p)"
   ]
  },
  {
   "cell_type": "code",
   "execution_count": 4,
   "metadata": {},
   "outputs": [
    {
     "name": "stdout",
     "output_type": "stream",
     "text": [
      "[2, 4, 6, 8, 10, 12, 14, 16, 18, 20, 22, 24, 26, 28]\n"
     ]
    }
   ],
   "source": [
    "l=[]\n",
    "while len(l)<10:\n",
    "    for i in range(1,30):\n",
    "        if i%2==0:\n",
    "            l.append(i)\n",
    "print(l)"
   ]
  },
  {
   "cell_type": "code",
   "execution_count": 3,
   "metadata": {},
   "outputs": [
    {
     "ename": "AttributeError",
     "evalue": "'dict' object has no attribute 'sort'",
     "output_type": "error",
     "traceback": [
      "\u001b[1;31m---------------------------------------------------------------------------\u001b[0m",
      "\u001b[1;31mAttributeError\u001b[0m                            Traceback (most recent call last)",
      "\u001b[1;32mC:\\Users\\JAMESJ~1\\AppData\\Local\\Temp/ipykernel_2264/2812113584.py\u001b[0m in \u001b[0;36m<module>\u001b[1;34m\u001b[0m\n\u001b[0;32m      1\u001b[0m \u001b[0mmob_no_dic\u001b[0m \u001b[1;33m=\u001b[0m \u001b[1;33m{\u001b[0m \u001b[1;34m'Rohan'\u001b[0m\u001b[1;33m:\u001b[0m \u001b[1;36m4351\u001b[0m\u001b[1;33m,\u001b[0m \u001b[1;34m'Akash'\u001b[0m\u001b[1;33m:\u001b[0m \u001b[1;36m1223\u001b[0m\u001b[1;33m,\u001b[0m \u001b[1;34m'Catherine'\u001b[0m\u001b[1;33m:\u001b[0m \u001b[1;36m3100\u001b[0m \u001b[1;33m}\u001b[0m\u001b[1;33m\u001b[0m\u001b[1;33m\u001b[0m\u001b[0m\n\u001b[1;32m----> 2\u001b[1;33m \u001b[0mmob_no_dic\u001b[0m\u001b[1;33m.\u001b[0m\u001b[0msort\u001b[0m\u001b[1;33m(\u001b[0m\u001b[1;33m)\u001b[0m\u001b[1;33m\u001b[0m\u001b[1;33m\u001b[0m\u001b[0m\n\u001b[0m",
      "\u001b[1;31mAttributeError\u001b[0m: 'dict' object has no attribute 'sort'"
     ]
    }
   ],
   "source": [
    "mob_no_dic = { 'Rohan': 4351, 'Akash': 1223, 'Catherine': 3100 }\n",
    "mob_no_dic.sort()"
   ]
  },
  {
   "cell_type": "code",
   "execution_count": 4,
   "metadata": {},
   "outputs": [
    {
     "ename": "NameError",
     "evalue": "name 'concat' is not defined",
     "output_type": "error",
     "traceback": [
      "\u001b[1;31m---------------------------------------------------------------------------\u001b[0m",
      "\u001b[1;31mNameError\u001b[0m                                 Traceback (most recent call last)",
      "\u001b[1;32mC:\\Users\\JAMESJ~1\\AppData\\Local\\Temp/ipykernel_2264/2068848893.py\u001b[0m in \u001b[0;36m<module>\u001b[1;34m\u001b[0m\n\u001b[0;32m      1\u001b[0m \u001b[0mt1\u001b[0m\u001b[1;33m=\u001b[0m\u001b[1;33m(\u001b[0m\u001b[1;36m1\u001b[0m\u001b[1;33m,\u001b[0m\u001b[1;36m2\u001b[0m\u001b[1;33m)\u001b[0m\u001b[1;33m\u001b[0m\u001b[1;33m\u001b[0m\u001b[0m\n\u001b[0;32m      2\u001b[0m \u001b[0mt2\u001b[0m\u001b[1;33m=\u001b[0m\u001b[1;33m(\u001b[0m\u001b[1;36m3\u001b[0m\u001b[1;33m,\u001b[0m\u001b[1;36m4\u001b[0m\u001b[1;33m)\u001b[0m\u001b[1;33m\u001b[0m\u001b[1;33m\u001b[0m\u001b[0m\n\u001b[1;32m----> 3\u001b[1;33m \u001b[0mt3\u001b[0m\u001b[1;33m=\u001b[0m\u001b[0mconcat\u001b[0m\u001b[1;33m(\u001b[0m\u001b[0mlist\u001b[0m\u001b[1;33m(\u001b[0m\u001b[0mt1\u001b[0m\u001b[1;33m)\u001b[0m\u001b[1;33m,\u001b[0m\u001b[0mlist\u001b[0m\u001b[1;33m(\u001b[0m\u001b[0mt2\u001b[0m\u001b[1;33m)\u001b[0m\u001b[1;33m)\u001b[0m\u001b[1;33m\u001b[0m\u001b[1;33m\u001b[0m\u001b[0m\n\u001b[0m\u001b[0;32m      4\u001b[0m \u001b[0mt3\u001b[0m\u001b[1;33m=\u001b[0m\u001b[0mtuple\u001b[0m\u001b[1;33m(\u001b[0m\u001b[0mt3\u001b[0m\u001b[1;33m)\u001b[0m\u001b[1;33m\u001b[0m\u001b[1;33m\u001b[0m\u001b[0m\n\u001b[0;32m      5\u001b[0m \u001b[0mt3\u001b[0m\u001b[1;33m\u001b[0m\u001b[1;33m\u001b[0m\u001b[0m\n",
      "\u001b[1;31mNameError\u001b[0m: name 'concat' is not defined"
     ]
    }
   ],
   "source": [
    "t1=(1,2)\n",
    "t2=(3,4)\n",
    "t3=concat(list(t1),list(t2))\n",
    "t3=tuple(t3)\n",
    "t3"
   ]
  },
  {
   "cell_type": "code",
   "execution_count": 1,
   "metadata": {},
   "outputs": [
    {
     "name": "stdout",
     "output_type": "stream",
     "text": [
      "[(1, 2), (5, 7), (3, 6)]\n"
     ]
    }
   ],
   "source": [
    "def removeDuplicates(lst):\n",
    "    return [t for t in (set(tuple(i) for i in lst))]\n",
    "\n",
    "# Driver code\n",
    "lst = [(1, 2), (5, 7), (3, 6), (1, 2)]\n",
    "print(removeDuplicates(lst))"
   ]
  },
  {
   "cell_type": "code",
   "execution_count": null,
   "metadata": {},
   "outputs": [],
   "source": []
  }
 ],
 "metadata": {
  "kernelspec": {
   "display_name": "Python 3 (ipykernel)",
   "language": "python",
   "name": "python3"
  },
  "language_info": {
   "codemirror_mode": {
    "name": "ipython",
    "version": 3
   },
   "file_extension": ".py",
   "mimetype": "text/x-python",
   "name": "python",
   "nbconvert_exporter": "python",
   "pygments_lexer": "ipython3",
   "version": "3.9.6"
  }
 },
 "nbformat": 4,
 "nbformat_minor": 2
}
