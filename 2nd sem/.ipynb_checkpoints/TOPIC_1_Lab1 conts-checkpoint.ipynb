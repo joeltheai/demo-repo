{
 "cells": [
  {
   "cell_type": "markdown",
   "id": "f4542c38",
   "metadata": {},
   "source": [
    "1.Python program to print number of positive numbers and negative numbers in a list"
   ]
  },
  {
   "cell_type": "code",
   "execution_count": 10,
   "id": "8a141ddf",
   "metadata": {},
   "outputs": [
    {
     "name": "stdout",
     "output_type": "stream",
     "text": [
      "Number of positive numbers: 2\n",
      "Number of positive numbers: 5\n"
     ]
    }
   ],
   "source": [
    "# list of numbers\n",
    "list1 = [-10, -21, -4, -45, -66, 93, 11]\n",
    "  \n",
    "pos_count, neg_count = 0, 0\n",
    "num = 0\n",
    "  \n",
    "# using while loop     \n",
    "while(num < len(list1)):\n",
    "      \n",
    "    # checking condition\n",
    "    if list1[num] >= 0:\n",
    "        pos_count += 1\n",
    "    else:\n",
    "        neg_count += 1\n",
    "      \n",
    "    # increment num \n",
    "    num += 1\n",
    "    \n",
    "print (\"Number of positive numbers:\",pos_count)\n",
    "print (\"Number of positive numbers:\",neg_count)"
   ]
  },
  {
   "cell_type": "markdown",
   "id": "dad668c2",
   "metadata": {},
   "source": [
    "2.Python program to print positive Numbers in a List"
   ]
  },
  {
   "cell_type": "code",
   "execution_count": 16,
   "id": "02abbec5",
   "metadata": {},
   "outputs": [
    {
     "name": "stdout",
     "output_type": "stream",
     "text": [
      "21 93 "
     ]
    }
   ],
   "source": [
    "# Python program to print positive Numbers in a List\n",
    "  \n",
    "# list of numbers\n",
    "list1 = [-10, 21, -4, -45, -66, 93]\n",
    "num = 0\n",
    "  \n",
    "# using while loop     \n",
    "while(num < len(list1)):\n",
    "      \n",
    "    # checking condition\n",
    "    if list1[num] >= 0:\n",
    "        print(list1[num], end = \" \")\n",
    "      \n",
    "    # increment num \n",
    "    num += 1\n",
    "     "
   ]
  },
  {
   "cell_type": "markdown",
   "id": "9acc7324",
   "metadata": {},
   "source": [
    " 3.Program to Create list with integers within given range \n",
    "  "
   ]
  },
  {
   "cell_type": "code",
   "execution_count": 17,
   "id": "c2871e65",
   "metadata": {},
   "outputs": [
    {
     "name": "stdout",
     "output_type": "stream",
     "text": [
      "Enter lower range: 2\n",
      "Enter upper range: 6\n",
      "[2, 3, 4, 5, 6]\n"
     ]
    }
   ],
   "source": [
    "#Take the input from the user:   \n",
    "r1 = int(input(\"Enter lower range: \")) \n",
    "r2 = int(input(\"Enter upper range: \"))  \n",
    "  \n",
    "def createList(r1, r2):\n",
    "    return list(range(r1, r2+1))\n",
    "print(createList(r1, r2))\n",
    "      \n"
   ]
  },
  {
   "cell_type": "markdown",
   "id": "282399e5",
   "metadata": {},
   "source": [
    "4.Program to remove all even numbers in the given list. "
   ]
  },
  {
   "cell_type": "code",
   "execution_count": 18,
   "id": "28388eba",
   "metadata": {},
   "outputs": [
    {
     "name": "stdout",
     "output_type": "stream",
     "text": [
      "New list after removing all even numbers:  [11, 5, 17, 23]\n"
     ]
    }
   ],
   "source": [
    "# creating a list\n",
    "list1 = [11, 5, 17, 18, 23, 50]\n",
    " \n",
    "# Iterate each element in list\n",
    "# and add them in variable total\n",
    "for ele in list1:\n",
    "    if ele % 2 == 0:\n",
    "        list1.remove(ele)\n",
    " \n",
    "# printing modified list\n",
    "print(\"New list after removing all even numbers: \", list1)"
   ]
  },
  {
   "cell_type": "markdown",
   "id": "f6e621db",
   "metadata": {},
   "source": [
    "# classworks"
   ]
  },
  {
   "cell_type": "markdown",
   "id": "ee9eb306",
   "metadata": {},
   "source": [
    "1.Python Program to check whether the given number is Armstrong number or not."
   ]
  },
  {
   "cell_type": "code",
   "execution_count": 1,
   "id": "02a3c0b7",
   "metadata": {},
   "outputs": [],
   "source": [
    " ###clue : abcd... = pow(a,n) + pow(b,n) + pow(c,n) + pow(d,n) + .... "
   ]
  },
  {
   "cell_type": "code",
   "execution_count": 2,
   "id": "0dcf01e3",
   "metadata": {},
   "outputs": [
    {
     "name": "stdout",
     "output_type": "stream",
     "text": [
      "Enter a number: 153\n",
      "153 is an Armstrong number\n"
     ]
    }
   ],
   "source": [
    "# Python program to check if the number is an Armstrong number or not\n",
    "\n",
    "# take input from the user\n",
    "num = int(input(\"Enter a number: \"))\n",
    "\n",
    "# initialize sum\n",
    "sum = 0\n",
    "\n",
    "# find the sum of the cube of each digit\n",
    "temp = num\n",
    "while temp > 0:\n",
    "   digit = temp % 10\n",
    "   sum += digit ** 3\n",
    "   temp //= 10\n",
    "\n",
    "# display the result\n",
    "if num == sum:\n",
    "   print(num,\"is an Armstrong number\")\n",
    "else:\n",
    "   print(num,\"is not an Armstrong number\")"
   ]
  },
  {
   "cell_type": "code",
   "execution_count": 3,
   "id": "e489d01b",
   "metadata": {},
   "outputs": [
    {
     "name": "stdout",
     "output_type": "stream",
     "text": [
      "Enter a number: 0\n",
      "0 is an Armstrong number\n"
     ]
    }
   ],
   "source": [
    "# Python program to check if the number is an Armstrong number or not\n",
    "\n",
    "# take input from the user\n",
    "num = int(input(\"Enter a number: \"))\n",
    "\n",
    "# initialize sum\n",
    "sum = 0\n",
    "\n",
    "# find the sum of the cube of each digit\n",
    "temp = num\n",
    "while temp > 0:\n",
    "   digit = temp % 10\n",
    "   sum += digit ** 3\n",
    "   temp //= 10\n",
    "\n",
    "# display the result\n",
    "if num == sum:\n",
    "   print(num,\"is an Armstrong number\")\n",
    "else:\n",
    "   print(num,\"is not an Armstrong number\")"
   ]
  },
  {
   "cell_type": "markdown",
   "id": "994db82f",
   "metadata": {},
   "source": [
    "2.Python Program for Program to find area of a circle with radius 5"
   ]
  },
  {
   "cell_type": "code",
   "execution_count": 4,
   "id": "1f0f8e4f",
   "metadata": {},
   "outputs": [
    {
     "name": "stdout",
     "output_type": "stream",
     "text": [
      "Area is 78.550000\n"
     ]
    }
   ],
   "source": [
    "# Python program to find Area of a circle\n",
    "  \n",
    "def findArea(r):\n",
    "    PI = 3.142\n",
    "    return PI * (r*r);\n",
    "  \n",
    "# Driver method\n",
    "print(\"Area is %.6f\" % findArea(5));"
   ]
  },
  {
   "cell_type": "markdown",
   "id": "b66ea473",
   "metadata": {},
   "source": [
    "3.Python Program for Program to find area of a circle  "
   ]
  },
  {
   "cell_type": "code",
   "execution_count": 6,
   "id": "06adc3ba",
   "metadata": {},
   "outputs": [
    {
     "name": "stdout",
     "output_type": "stream",
     "text": [
      "Enter the radius of a circle:5\n",
      "Area is 78.550000\n"
     ]
    }
   ],
   "source": [
    "# Python program to find Area of a circle\n",
    "r = float(input(\"Enter the radius of a circle:\")) \n",
    "def findArea(r):\n",
    "    PI = 3.142\n",
    "    return PI * (r*r);\n",
    "  \n",
    "# Driver method\n",
    "print(\"Area is %.6f\" % findArea(r))"
   ]
  },
  {
   "cell_type": "markdown",
   "id": "bc35023f",
   "metadata": {},
   "source": [
    "4.Python program to check whether number 11 is Prime or not"
   ]
  },
  {
   "cell_type": "code",
   "execution_count": 7,
   "id": "a4aba9c4",
   "metadata": {},
   "outputs": [
    {
     "name": "stdout",
     "output_type": "stream",
     "text": [
      "11 is a prime number\n"
     ]
    }
   ],
   "source": [
    "# Python program to check if\n",
    "# given number is prime or not\n",
    "  \n",
    "num = 11\n",
    "  \n",
    "# If given number is greater than 1\n",
    "if num > 1:\n",
    "  \n",
    "    # Iterate from 2 to n / 2\n",
    "    for i in range(2, int(num/2)+1):\n",
    "  \n",
    "        # If num is divisible by any number between\n",
    "        # 2 and n / 2, it is not prime\n",
    "        if (num % i) == 0:\n",
    "            print(num, \"is not a prime number\")\n",
    "            break\n",
    "    else:\n",
    "        print(num, \"is a prime number\")\n",
    "  \n",
    "else:\n",
    "    print(num, \"is not a prime number\")"
   ]
  },
  {
   "cell_type": "markdown",
   "id": "5680b950",
   "metadata": {},
   "source": [
    "5.Python program to check whether a given number is Prime or not"
   ]
  },
  {
   "cell_type": "code",
   "execution_count": 8,
   "id": "9ea486a6",
   "metadata": {},
   "outputs": [
    {
     "name": "stdout",
     "output_type": "stream",
     "text": [
      "Enter the number to  check:13\n",
      "13 is a prime number\n"
     ]
    }
   ],
   "source": [
    "# Python program to check if\n",
    "# given number is prime or not\n",
    "  \n",
    "num = int(input(\"Enter the number to  check:\")) \n",
    "  \n",
    "# If given number is greater than 1\n",
    "if num > 1:\n",
    "  \n",
    "    # Iterate from 2 to n / 2\n",
    "    for i in range(2, int(num/2)+1):\n",
    "  \n",
    "        # If num is divisible by any number between\n",
    "        # 2 and n / 2, it is not prime\n",
    "        if (num % i) == 0:\n",
    "            print(num, \"is not a prime number\")\n",
    "            break\n",
    "    else:\n",
    "        print(num, \"is a prime number\")\n",
    "  \n",
    "else:\n",
    "    print(num, \"is not a prime number\")"
   ]
  },
  {
   "cell_type": "markdown",
   "id": "744c0e4e",
   "metadata": {},
   "source": [
    "6.Python program to print all Prime numbers in an Interval"
   ]
  },
  {
   "cell_type": "code",
   "execution_count": 9,
   "id": "53ba5ec6",
   "metadata": {},
   "outputs": [
    {
     "name": "stdout",
     "output_type": "stream",
     "text": [
      "Enter lower range: 2\n",
      "Enter upper range: 7\n",
      "2\n",
      "3\n",
      "5\n",
      "7\n"
     ]
    }
   ],
   "source": [
    "#Take the input from the user:   \n",
    "lower = int(input(\"Enter lower range: \"))  \n",
    "upper = int(input(\"Enter upper range: \"))  \n",
    "  \n",
    "for num in range(lower,upper + 1):  \n",
    "   if num > 1:  \n",
    "       for i in range(2,num):  \n",
    "           if (num % i) == 0:  \n",
    "               break  \n",
    "       else:  \n",
    "           print(num)  "
   ]
  },
  {
   "cell_type": "code",
   "execution_count": null,
   "id": "28e57007",
   "metadata": {},
   "outputs": [],
   "source": []
  }
 ],
 "metadata": {
  "kernelspec": {
   "display_name": "Python 3 (ipykernel)",
   "language": "python",
   "name": "python3"
  },
  "language_info": {
   "codemirror_mode": {
    "name": "ipython",
    "version": 3
   },
   "file_extension": ".py",
   "mimetype": "text/x-python",
   "name": "python",
   "nbconvert_exporter": "python",
   "pygments_lexer": "ipython3",
   "version": "3.9.6"
  }
 },
 "nbformat": 4,
 "nbformat_minor": 5
}
