{
 "cells": [
  {
   "cell_type": "markdown",
   "id": "3c93d0b3",
   "metadata": {},
   "source": [
    "# Python Dictionary "
   ]
  },
  {
   "cell_type": "markdown",
   "id": "e67088f2",
   "metadata": {},
   "source": [
    "A dictionary is a more general version of a list. A dictionary can be considered as a list with special index."
   ]
  },
  {
   "cell_type": "markdown",
   "id": "730a43d2",
   "metadata": {},
   "source": [
    "### Creating dictionaries"
   ]
  },
  {
   "cell_type": "markdown",
   "id": "36117e26",
   "metadata": {},
   "source": [
    "1. To declare a dictionary we enclose it in curly braces, **{ }**. \n",
    "\n",
    "2. Each entry consists of a pair separated by a colon. \n",
    "\n",
    "3. The first part of the pair is called the **key** and the second is the **value**. The key acts like an index. <br>\n",
    "\n",
    "4. Keys are often strings, but they can be integers, floats, and many other things as well. \n",
    "\n",
    "5. You can mix different types of keys in the same dictionary and different types of values, too."
   ]
  },
  {
   "cell_type": "markdown",
   "id": "5a375122",
   "metadata": {},
   "source": [
    "## Syntax:\n",
    "    {\n",
    "    key1: value1,\n",
    "    key2: value2,    \n",
    "    . \n",
    "    .\n",
    "    .\n",
    "    \n",
    "    keyn: valuen\n",
    "    }"
   ]
  },
  {
   "cell_type": "code",
   "execution_count": 39,
   "id": "461e2087",
   "metadata": {},
   "outputs": [],
   "source": [
    "d = {'A': 'Apple', 'B': 'Boy', 'C' : 125, 1:58}"
   ]
  },
  {
   "cell_type": "code",
   "execution_count": 52,
   "id": "180e73f4",
   "metadata": {},
   "outputs": [
    {
     "name": "stdout",
     "output_type": "stream",
     "text": [
      "Apple\n",
      "58\n"
     ]
    }
   ],
   "source": [
    "a = d['A']\n",
    "b = d[1]\n",
    "print(a)\n",
    "print(b)"
   ]
  },
  {
   "cell_type": "code",
   "execution_count": 40,
   "id": "c4f9fd91",
   "metadata": {},
   "outputs": [
    {
     "data": {
      "text/plain": [
       "dict_keys(['A', 'B', 'C', 1])"
      ]
     },
     "execution_count": 40,
     "metadata": {},
     "output_type": "execute_result"
    }
   ],
   "source": [
    "d.keys()"
   ]
  },
  {
   "cell_type": "markdown",
   "id": "ac9cd68f",
   "metadata": {},
   "source": [
    "The return object is a dict_keys object which is an iterable. Thus, we can iterate over it in for loops"
   ]
  },
  {
   "cell_type": "code",
   "execution_count": 41,
   "id": "64513540",
   "metadata": {
    "scrolled": true
   },
   "outputs": [
    {
     "data": {
      "text/plain": [
       "dict_values(['Apple', 'Boy', 125, 58])"
      ]
     },
     "execution_count": 41,
     "metadata": {},
     "output_type": "execute_result"
    }
   ],
   "source": [
    "d.values()"
   ]
  },
  {
   "cell_type": "markdown",
   "id": "d6900d3a",
   "metadata": {},
   "source": [
    "We cannot index on dict_keys or dict_values but we can convert them to a list and then use indexing.\n"
   ]
  },
  {
   "cell_type": "code",
   "execution_count": 53,
   "id": "e30eca93",
   "metadata": {},
   "outputs": [
    {
     "data": {
      "text/plain": [
       "'Apple'"
      ]
     },
     "execution_count": 53,
     "metadata": {},
     "output_type": "execute_result"
    }
   ],
   "source": [
    "list(d.values())[0]"
   ]
  },
  {
   "cell_type": "markdown",
   "id": "f7ed4d5f",
   "metadata": {},
   "source": [
    "### Adding and updating items"
   ]
  },
  {
   "cell_type": "markdown",
   "id": "eedeca04",
   "metadata": {},
   "source": [
    "Dictionaries are mutable so we can update, add or delete items. The syntax for updating or adding an item is the same. If the given key exists in the dictionary, the value of the existing item is updated. Otherwise, a new item (i.e. key-value pair) is created."
   ]
  },
  {
   "cell_type": "code",
   "execution_count": 55,
   "id": "36874dde",
   "metadata": {},
   "outputs": [
    {
     "data": {
      "text/plain": [
       "{'A': 400, 'B': 'Boy', 'C': 125, 1: 58, 5: 'Ant'}"
      ]
     },
     "execution_count": 55,
     "metadata": {},
     "output_type": "execute_result"
    }
   ],
   "source": [
    "d['A'] = 400     #updating the value\n",
    "d"
   ]
  },
  {
   "cell_type": "markdown",
   "id": "e878a5b8",
   "metadata": {},
   "source": [
    "To add new item, follow the same code as for updating"
   ]
  },
  {
   "cell_type": "code",
   "execution_count": 13,
   "id": "d7c92897",
   "metadata": {},
   "outputs": [
    {
     "data": {
      "text/plain": [
       "{'A': 400, 'B': 'Boy', 'C': 125, 1: 58, 'E': 'Rose'}"
      ]
     },
     "execution_count": 13,
     "metadata": {},
     "output_type": "execute_result"
    }
   ],
   "source": [
    "d['E'] = 'Rose'\n",
    "d"
   ]
  },
  {
   "cell_type": "markdown",
   "id": "46e2b00b",
   "metadata": {},
   "source": [
    "### Note that this will not work with lists. "
   ]
  },
  {
   "cell_type": "code",
   "execution_count": 18,
   "id": "8380027f",
   "metadata": {},
   "outputs": [
    {
     "data": {
      "text/plain": [
       "[1, 2, 3, 4, 5]"
      ]
     },
     "execution_count": 18,
     "metadata": {},
     "output_type": "execute_result"
    }
   ],
   "source": [
    "L = [1,2,3,4,5]\n",
    "L"
   ]
  },
  {
   "cell_type": "code",
   "execution_count": 19,
   "id": "98191d00",
   "metadata": {},
   "outputs": [
    {
     "data": {
      "text/plain": [
       "[1, 2, 500, 4, 5]"
      ]
     },
     "execution_count": 19,
     "metadata": {},
     "output_type": "execute_result"
    }
   ],
   "source": [
    "L[2] = 500\n",
    "L"
   ]
  },
  {
   "cell_type": "markdown",
   "id": "00863d8c",
   "metadata": {},
   "source": [
    "### Doing **L[5] = 500** on a list with five elements would produce an index out of range error. But it does work with dictionaries."
   ]
  },
  {
   "cell_type": "code",
   "execution_count": 20,
   "id": "5c3d3f43",
   "metadata": {},
   "outputs": [
    {
     "ename": "IndexError",
     "evalue": "list assignment index out of range",
     "output_type": "error",
     "traceback": [
      "\u001b[1;31m---------------------------------------------------------------------------\u001b[0m",
      "\u001b[1;31mIndexError\u001b[0m                                Traceback (most recent call last)",
      "\u001b[1;32mC:\\Users\\Public\\Documents\\Wondershare\\CreatorTemp/ipykernel_19612/458512329.py\u001b[0m in \u001b[0;36m<module>\u001b[1;34m\u001b[0m\n\u001b[1;32m----> 1\u001b[1;33m \u001b[0mL\u001b[0m\u001b[1;33m[\u001b[0m\u001b[1;36m5\u001b[0m\u001b[1;33m]\u001b[0m \u001b[1;33m=\u001b[0m \u001b[1;36m500\u001b[0m\u001b[1;33m\u001b[0m\u001b[1;33m\u001b[0m\u001b[0m\n\u001b[0m\u001b[0;32m      2\u001b[0m \u001b[0mL\u001b[0m\u001b[1;33m\u001b[0m\u001b[1;33m\u001b[0m\u001b[0m\n",
      "\u001b[1;31mIndexError\u001b[0m: list assignment index out of range"
     ]
    }
   ],
   "source": [
    "L[5] = 500\n",
    "L"
   ]
  },
  {
   "cell_type": "markdown",
   "id": "5c83f403",
   "metadata": {},
   "source": [
    "### Deleting an item\n",
    "\n",
    "To delete an entry from a dictionary, use the **del** or **pop** functions:"
   ]
  },
  {
   "cell_type": "code",
   "execution_count": 56,
   "id": "a794174f",
   "metadata": {},
   "outputs": [
    {
     "data": {
      "text/plain": [
       "{'B': 'Boy', 'C': 125, 5: 'Ant'}"
      ]
     },
     "execution_count": 56,
     "metadata": {},
     "output_type": "execute_result"
    }
   ],
   "source": [
    "del d['A']\n",
    "\n",
    "d.pop(1)\n",
    "\n",
    "d"
   ]
  },
  {
   "cell_type": "markdown",
   "id": "fc69a669",
   "metadata": {},
   "source": [
    "### Empty dictionary \n",
    "The empty dictionary is **{ }**, which is the dictionary equivalent of **[ ]** for lists or **' '** for strings."
   ]
  },
  {
   "cell_type": "markdown",
   "id": "63274baf",
   "metadata": {},
   "source": [
    "### Example 1 -  We can use a dictionary as an actual dictionary of definitions:"
   ]
  },
  {
   "cell_type": "code",
   "execution_count": 26,
   "id": "4d85745e",
   "metadata": {},
   "outputs": [
    {
     "name": "stdout",
     "output_type": "stream",
     "text": [
      "Enter a word: Friend\n"
     ]
    },
    {
     "data": {
      "text/plain": [
       "'A person with whom one has a bond of mutual affection'"
      ]
     },
     "execution_count": 26,
     "metadata": {},
     "output_type": "execute_result"
    }
   ],
   "source": [
    "d = {'Peace' : 'A state or period in which there is no war', 'Friend' : 'A person with whom one has a bond of mutual affection'}\n",
    "\n",
    "word = input('Enter a word: ')\n",
    "d[word]"
   ]
  },
  {
   "cell_type": "markdown",
   "id": "18764076",
   "metadata": {},
   "source": [
    "### Alternative method to define a dictionary - use the function dict()"
   ]
  },
  {
   "cell_type": "code",
   "execution_count": 29,
   "id": "34ba65a4",
   "metadata": {},
   "outputs": [
    {
     "data": {
      "text/plain": [
       "{'A': 1, 'B': 3}"
      ]
     },
     "execution_count": 29,
     "metadata": {},
     "output_type": "execute_result"
    }
   ],
   "source": [
    "d = dict([('A',1),('B',3)])\n",
    "d"
   ]
  },
  {
   "cell_type": "markdown",
   "id": "9c6c7230",
   "metadata": {},
   "source": [
    "### Dictionary as iterable\n",
    "\n",
    "We can iterate over a dictionary. By default, the iteration is based on keys."
   ]
  },
  {
   "cell_type": "code",
   "execution_count": 58,
   "id": "c75d1ff9",
   "metadata": {},
   "outputs": [
    {
     "name": "stdout",
     "output_type": "stream",
     "text": [
      "Joy\n",
      "Aida\n",
      "Benny\n",
      "Joseph\n",
      "Tyson\n"
     ]
    }
   ],
   "source": [
    "Grades = {'Joy':'A', 'Aida':'A', 'Benny':'B+', 'Joseph':'C', 'Tyson':'A+'}\n",
    "\n",
    "for i in Grades:\n",
    "    print(i)"
   ]
  },
  {
   "cell_type": "markdown",
   "id": "a8aff582",
   "metadata": {},
   "source": [
    "To iterate over values"
   ]
  },
  {
   "cell_type": "code",
   "execution_count": 60,
   "id": "1ecab699",
   "metadata": {},
   "outputs": [
    {
     "data": {
      "text/plain": [
       "dict_values(['A', 'A', 'B+', 'C', 'A+'])"
      ]
     },
     "execution_count": 60,
     "metadata": {},
     "output_type": "execute_result"
    }
   ],
   "source": [
    "Grades.values()"
   ]
  },
  {
   "cell_type": "markdown",
   "id": "d8e88e0a",
   "metadata": {},
   "source": [
    "### Dictionary comprehension"
   ]
  },
  {
   "cell_type": "markdown",
   "id": "9c784279",
   "metadata": {},
   "source": [
    "It is similar to a list comprehension. Dictionary comprehension is a way to create dictionaries based on iterables."
   ]
  },
  {
   "cell_type": "markdown",
   "id": "ca8680a0",
   "metadata": {},
   "source": [
    "### Q. f(x) = x^4, x = 0,1,2,3,4,5"
   ]
  },
  {
   "cell_type": "code",
   "execution_count": 63,
   "id": "2c10933c",
   "metadata": {},
   "outputs": [
    {
     "data": {
      "text/plain": [
       "{0: 0, 1: 1, 2: 16, 3: 81, 4: 256}"
      ]
     },
     "execution_count": 63,
     "metadata": {},
     "output_type": "execute_result"
    }
   ],
   "source": [
    "f ={x: x**4 for x in range(5)}\n",
    "f"
   ]
  },
  {
   "cell_type": "markdown",
   "id": "57ac5f08",
   "metadata": {},
   "source": [
    "### Q. Write a program to print the given words with their corresponding lengths : \n",
    "1. Beautiful\n",
    "2. He\n",
    "3. You\n",
    "4. Fantastic\n",
    "5. a"
   ]
  },
  {
   "cell_type": "code",
   "execution_count": 65,
   "id": "f9c477fe",
   "metadata": {},
   "outputs": [
    {
     "data": {
      "text/plain": [
       "{'Beautiful': 9, 'He': 2, 'You': 3, 'Fantastic': 9, 'a': 1}"
      ]
     },
     "execution_count": 65,
     "metadata": {},
     "output_type": "execute_result"
    }
   ],
   "source": [
    "{word: len(word) for word in ['Beautiful', 'He', 'You', 'Fantastic', 'a']}"
   ]
  },
  {
   "cell_type": "markdown",
   "id": "9ecc2815",
   "metadata": {},
   "source": [
    "###  Creating a dictionary from a list of lists\n",
    "\n",
    "We can create a dictionary using a list of lists or list of tuples."
   ]
  },
  {
   "cell_type": "code",
   "execution_count": 67,
   "id": "f6cc334b",
   "metadata": {},
   "outputs": [
    {
     "data": {
      "text/plain": [
       "{'A': 4, 'B': 5, 'C': 11}"
      ]
     },
     "execution_count": 67,
     "metadata": {},
     "output_type": "execute_result"
    }
   ],
   "source": [
    "a = [['A',4], ['B',5], ['C',11]] #list of lists\n",
    "dict(a)\n",
    "\n",
    "\n",
    "b = [('A',4), ('B',5), ('C',11)] #list of tuples\n",
    "dict(b)"
   ]
  },
  {
   "cell_type": "markdown",
   "id": "a3d672ec",
   "metadata": {},
   "source": [
    "## sort()\n",
    "\n",
    "**d.items()** returns a list of pairs (called tuples), which are a lot like lists. <br>\n",
    "\n",
    "When we sort a list of tuples, the sorting is done by the first entry."
   ]
  },
  {
   "cell_type": "code",
   "execution_count": 32,
   "id": "aa4cde58",
   "metadata": {},
   "outputs": [
    {
     "name": "stdout",
     "output_type": "stream",
     "text": [
      "('A', 'Apple')\n",
      "('B', 'Boy')\n",
      "('C', 125)\n"
     ]
    }
   ],
   "source": [
    "d = {'A': 'Apple', 'B': 'Boy', 'C' : 125}\n",
    "items = list(d.items())\n",
    "items.sort()\n",
    "for i in items:\n",
    "    print(i)\n",
    "    \n",
    "# Sorting is done by the first entry which in this case is the word. So the sorting is done alphabetically."
   ]
  },
  {
   "cell_type": "markdown",
   "id": "12f53578",
   "metadata": {},
   "source": [
    "If we  want to order things by frequency, we can flip the order of the tuples and then sort:"
   ]
  },
  {
   "cell_type": "code",
   "execution_count": 34,
   "id": "0ef710cc",
   "metadata": {},
   "outputs": [
    {
     "name": "stdout",
     "output_type": "stream",
     "text": [
      "(100, 'A')\n",
      "(300, 'C')\n",
      "(400, 'E')\n"
     ]
    }
   ],
   "source": [
    "d = {'A':100, 'E':400, 'C' : 300}\n",
    "items = list(d.items())\n",
    "items = [(i[1], i[0]) for i in items]\n",
    "items.sort()\n",
    "for i in items:\n",
    "    print(i)"
   ]
  },
  {
   "cell_type": "code",
   "execution_count": 42,
   "id": "abba895e",
   "metadata": {},
   "outputs": [
    {
     "name": "stdout",
     "output_type": "stream",
     "text": [
      "[0, 1, 3, 5, 7, 9]\n"
     ]
    }
   ],
   "source": [
    "squares = {0: 0, 1: 1, 3: 9, 5: 25, 7: 49, 9: 81}\n",
    "print(sorted(squares))"
   ]
  },
  {
   "cell_type": "markdown",
   "id": "40e593a5",
   "metadata": {},
   "source": [
    " ### len()\n",
    "**len()** - Return the length (the number of items) in the dictionary."
   ]
  },
  {
   "cell_type": "code",
   "execution_count": 56,
   "id": "72514c06",
   "metadata": {},
   "outputs": [
    {
     "name": "stdout",
     "output_type": "stream",
     "text": [
      "6\n"
     ]
    }
   ],
   "source": [
    "print(len(squares))"
   ]
  },
  {
   "cell_type": "markdown",
   "id": "cd51d758",
   "metadata": {},
   "source": [
    " ### Update using another dictionary\n",
    " **update()**\t- Updates the dictionary with the key/value pairs from other, overwriting existing keys.<br>"
   ]
  },
  {
   "cell_type": "code",
   "execution_count": 44,
   "id": "65fdc8b7",
   "metadata": {
    "scrolled": true
   },
   "outputs": [
    {
     "name": "stdout",
     "output_type": "stream",
     "text": [
      "{'zero': 0, 'one': 1, 'two': 2}\n"
     ]
    }
   ],
   "source": [
    "x = {'zero': 0, 'one': 1}\n",
    "y = {'one': 1, 'two': 2}\n",
    "x.update(y)\n",
    "print(x)"
   ]
  },
  {
   "cell_type": "markdown",
   "id": "528eef55",
   "metadata": {},
   "source": [
    "### Append()"
   ]
  },
  {
   "cell_type": "code",
   "execution_count": 46,
   "id": "d6388e55",
   "metadata": {},
   "outputs": [
    {
     "name": "stdout",
     "output_type": "stream",
     "text": [
      "[{'one': 1, 'two': 2}, {'three': 3, 'four': 4}, {'six': 6, 'seven': 7}, {'eight': 8, 'nine': 9}]\n"
     ]
    }
   ],
   "source": [
    "myList = [{'one':1,'two':2},{'three':3,'four':4},{'six':6,'seven':7}]\n",
    "\n",
    "#append dictionary to list\n",
    "myList.append({'eight':8, 'nine':9})\n",
    "\n",
    "print(myList)"
   ]
  },
  {
   "cell_type": "markdown",
   "id": "0651b937",
   "metadata": {},
   "source": [
    "### copy()\n",
    "\n",
    "This method doesn’t modify the original, dictionary just returns copy of the dictionary."
   ]
  },
  {
   "cell_type": "code",
   "execution_count": 48,
   "id": "cce7aff1",
   "metadata": {},
   "outputs": [
    {
     "name": "stdout",
     "output_type": "stream",
     "text": [
      "new:  {1: 125, 'A': 'fish'}\n",
      "original:  {1: 125, 'A': 'fish'}\n"
     ]
    }
   ],
   "source": [
    "original = {1: 125, 'A': 'fish'}\n",
    " \n",
    "# copying using copy() function\n",
    "new = original.copy()\n",
    " \n",
    "print('new: ', new)\n",
    "\n",
    "print('original: ', original)"
   ]
  },
  {
   "cell_type": "code",
   "execution_count": 49,
   "id": "cd488aa8",
   "metadata": {},
   "outputs": [
    {
     "name": "stdout",
     "output_type": "stream",
     "text": [
      "Given Dictionary: {10: 'a', 20: [1, 2, 3], 30: 'c'}\n",
      "New copy: {10: 'a', 20: [1, 2, 3], 30: 'c'}\n",
      "Updated copy: {10: 10, 20: [1, 2, '45'], 30: 'c'}\n"
     ]
    }
   ],
   "source": [
    "dict1 = {10: 'a', 20: [1, 2, 3], 30: 'c'}\n",
    "print(\"Given Dictionary:\", dict1)\n",
    " \n",
    "\n",
    "dict2 = dict1.copy()\n",
    "print(\"New copy:\", dict2)\n",
    " \n",
    "\n",
    "dict2[10] = 10\n",
    "dict2[20][2] = '45'  #  item updated\n",
    "print(\"Updated copy:\", dict2)"
   ]
  },
  {
   "cell_type": "markdown",
   "id": "38777ea8",
   "metadata": {},
   "source": [
    "##### Using = Operator to Copy Dictionaries"
   ]
  },
  {
   "cell_type": "code",
   "execution_count": 65,
   "id": "577877bf",
   "metadata": {},
   "outputs": [
    {
     "name": "stdout",
     "output_type": "stream",
     "text": [
      "new:  {1: 'one', 2: 'two'}\n",
      "original:  {1: 'one', 2: 'two'}\n"
     ]
    }
   ],
   "source": [
    "original = {1:'one', 2:'two'}\n",
    "new = original\n",
    "\n",
    "print('new: ', new)\n",
    "print('original: ', original)"
   ]
  },
  {
   "cell_type": "markdown",
   "id": "5fa3c359",
   "metadata": {},
   "source": [
    "### cmp()\n",
    "cmp is not supported in Python 3 "
   ]
  },
  {
   "cell_type": "code",
   "execution_count": 50,
   "id": "05ac588c",
   "metadata": {},
   "outputs": [
    {
     "ename": "SyntaxError",
     "evalue": "invalid syntax (CreatorTemp/ipykernel_19612/3015808733.py, line 3)",
     "output_type": "error",
     "traceback": [
      "\u001b[1;36m  File \u001b[1;32m\"C:\\Users\\Public\\Documents\\Wondershare\\CreatorTemp/ipykernel_19612/3015808733.py\"\u001b[1;36m, line \u001b[1;32m3\u001b[0m\n\u001b[1;33m    print cmp(dict1, dict2)\u001b[0m\n\u001b[1;37m          ^\u001b[0m\n\u001b[1;31mSyntaxError\u001b[0m\u001b[1;31m:\u001b[0m invalid syntax\n"
     ]
    }
   ],
   "source": [
    "dict1 = {10: 'a', 20: [1, 2, 3], 30: 'c'}\n",
    "dict2 =  {10: 10, 20: [1, 2, '45'], 30: 'c'}\n",
    "print cmp(dict1, dict2)"
   ]
  },
  {
   "cell_type": "markdown",
   "id": "2a6ad690",
   "metadata": {},
   "source": []
  }
 ],
 "metadata": {
  "kernelspec": {
   "display_name": "Python 3 (ipykernel)",
   "language": "python",
   "name": "python3"
  },
  "language_info": {
   "codemirror_mode": {
    "name": "ipython",
    "version": 3
   },
   "file_extension": ".py",
   "mimetype": "text/x-python",
   "name": "python",
   "nbconvert_exporter": "python",
   "pygments_lexer": "ipython3",
   "version": "3.9.6"
  }
 },
 "nbformat": 4,
 "nbformat_minor": 5
}
