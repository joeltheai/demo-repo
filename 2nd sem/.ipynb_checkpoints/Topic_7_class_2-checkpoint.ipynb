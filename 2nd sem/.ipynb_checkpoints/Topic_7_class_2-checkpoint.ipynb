{
 "cells": [
  {
   "cell_type": "markdown",
   "id": "51e5b2a8",
   "metadata": {},
   "source": [
    "# Topic 7: Class 2"
   ]
  },
  {
   "cell_type": "markdown",
   "id": "eb1d22cc",
   "metadata": {},
   "source": [
    "## Dispersion: \n",
    " It is the statistical measure to find how far away the numbers in a set of data are from the mean of the\n",
    "data set.\n",
    "\n",
    "#### Three different measurements of dispersion: range, variance, and standard deviation."
   ]
  },
  {
   "cell_type": "markdown",
   "id": "23c2d167",
   "metadata": {},
   "source": [
    "### Finding the Range of a Set of Numbers\n",
    "#### Range: For a list of numbers, the range is the difference between the highest number and the lowest number."
   ]
  },
  {
   "cell_type": "markdown",
   "id": "921e23f0",
   "metadata": {},
   "source": [
    "### Q1. consider the list of donations during period A: 100, 60, 70, 900, 100, 200, 500, 500, 503, 600, 1000, and 1200. Find the range of the list of donations."
   ]
  },
  {
   "cell_type": "code",
   "execution_count": 4,
   "id": "4574762e",
   "metadata": {},
   "outputs": [
    {
     "name": "stdout",
     "output_type": "stream",
     "text": [
      "Lowest: 60 Highest: 1200 Range: 1140\n"
     ]
    }
   ],
   "source": [
    "''' Find the range '''\n",
    "def find_range(numbers):\n",
    "  lowest = min(numbers)\n",
    "  highest = max(numbers)\n",
    "  # Find the range\n",
    "  r = highest-lowest\n",
    "  return lowest, highest, r\n",
    "if __name__ == '__main__':\n",
    "  donations = [100, 60, 70, 900, 100, 200, 500, 500, 503, 600, 1000, 1200]\n",
    "  lowest, highest, r = find_range(donations)\n",
    "  print('Lowest: {0} Highest: {1} Range: {2}'.format(lowest, highest, r))"
   ]
  },
  {
   "cell_type": "markdown",
   "id": "eee89c7f",
   "metadata": {},
   "source": [
    "### Finding the Variance and Standard Deviation\n",
    "\n",
    "To calculate either of these, we first need to find the difference of each of the numbers from the mean. The variance is the average of the squares of those differences.\n",
    "\n",
    "A high variance means that values are far from the mean; a low variance means that the values are clustered close to the mean. \n",
    "\n",
    "We calculate the variance using the following formula:\n",
    "\n",
    "Variance=$\\sum$ $\\frac{(x_i-x_{mean})^2}{n}$\n",
    "\n",
    "In the formula, xi stands for individual numbers, xmean stands for the mean of these numbers, and n is the number of values in the list.\n",
    "\n",
    "Standard deviation=$\\sqrt{Variance}$"
   ]
  },
  {
   "cell_type": "markdown",
   "id": "35627d08",
   "metadata": {},
   "source": [
    "### Q2. Write a program to find the variance and standard deviation of a list of donations: 100, 60, 70, 900, 100, 200, 500, 500, 503, 600, 1000, and 1200."
   ]
  },
  {
   "cell_type": "code",
   "execution_count": 6,
   "id": "b6d15a5c",
   "metadata": {},
   "outputs": [
    {
     "name": "stdout",
     "output_type": "stream",
     "text": [
      "The variance of the list of numbers is 141047.35416666666\n",
      "The standard deviation of the list of numbers is 375.5627166887931\n"
     ]
    }
   ],
   "source": [
    "''' Find the variance and standard deviation of a list of numbers '''\n",
    "\n",
    "def calculate_mean(numbers):\n",
    "    s = sum(numbers)\n",
    "    N = len(numbers)\n",
    "    # Calculate the mean\n",
    "    mean = s/N\n",
    "    return mean\n",
    "\n",
    "def find_differences(numbers):\n",
    "    # Find the mean\n",
    "    mean = calculate_mean(numbers)\n",
    "    # Find the differences from the mean\n",
    "    diff = []\n",
    "    for num in numbers:\n",
    "        diff.append(num-mean)\n",
    "    return diff\n",
    "\n",
    "def calculate_variance(numbers):\n",
    "    # Find the list of differences\n",
    "    diff = find_differences(numbers)\n",
    "    # Find the squared differences\n",
    "    squared_diff = []\n",
    "    for d in diff:\n",
    "        squared_diff.append(d**2)\n",
    "    # Find the variance\n",
    "    sum_squared_diff = sum(squared_diff)\n",
    "    variance = sum_squared_diff/len(numbers)\n",
    "    return variance\n",
    "\n",
    "if __name__ == '__main__':\n",
    "    donations = [100, 60, 70, 900, 100, 200, 500, 500, 503, 600, 1000, 1200]\n",
    "    variance = calculate_variance(donations)\n",
    "    print('The variance of the list of numbers is {0}'.format(variance))\n",
    "    std = variance**0.5\n",
    "    print('The standard deviation of the list of numbers is {0}'.format(std))"
   ]
  },
  {
   "cell_type": "markdown",
   "id": "09d31010",
   "metadata": {},
   "source": [
    "### Homework:\n",
    "#### 1.  Let’s say we have the following data of the number of TVs sold by a consumer electronics shop over the week,\n",
    "|Day|The number of TVs sold |\n",
    "|---|---|\n",
    "|Monday|40|\n",
    "|Tuesday|5|\n",
    "|Wednesday|30|\n",
    "|Thursday|14|\n",
    "|Friday|15|\n",
    "|Saturday|50|\n",
    "|Sunday|33|\n",
    "calculate the range, variance and standard deviation. \n",
    "\n",
    "#### 2. The number of books bought at a book fair 200 students from a school are given in the following table.\n",
    "\n",
    "|Number of books |       0   |    1    |    2    |   3   |     4|\n",
    "|--- |   ---    |    ---   |    ---    |   ---  |     ---|\n",
    "|Number of students  |     35   |  64   |    68  |   18  |     15|\n",
    "\n",
    "#### calculate the range, variance and standard deviation.\n",
    "#### 3. The mean and standard deviation of 20 items are found to be 10 and 2 respectively. At the time of checking it was found that an item 12 was wrongly entered as 8. Calculate the correct mean and standard deviation.\n",
    "#### 4. Mean of 100 items is 48 and their standard deviation is 10. Find the sum of all the items and the sum of the squares of all the items.\n",
    "\n",
    "#### 5. Calculate the variance of the following table.\n",
    "\n",
    "|x |   2|    4 |   6|     8|    10|    12|    14|    16|\n",
    "|--- |   ---    |    ---   |    ---    |   ---  |     ---|---    |   ---  |     ---|\n",
    "|f |   4|    4|   5 |   15 |    8|      5|      4|    5|\n",
    "\n"
   ]
  }
 ],
 "metadata": {
  "kernelspec": {
   "display_name": "Python 3 (ipykernel)",
   "language": "python",
   "name": "python3"
  },
  "language_info": {
   "codemirror_mode": {
    "name": "ipython",
    "version": 3
   },
   "file_extension": ".py",
   "mimetype": "text/x-python",
   "name": "python",
   "nbconvert_exporter": "python",
   "pygments_lexer": "ipython3",
   "version": "3.9.6"
  }
 },
 "nbformat": 4,
 "nbformat_minor": 5
}
