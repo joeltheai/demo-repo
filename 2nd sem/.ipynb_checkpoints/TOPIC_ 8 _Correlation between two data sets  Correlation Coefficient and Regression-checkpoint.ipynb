{
 "cells": [
  {
   "cell_type": "code",
   "execution_count": 2,
   "id": "3708c51c",
   "metadata": {},
   "outputs": [
    {
     "name": "stdout",
     "output_type": "stream",
     "text": [
      "Today's date: 2021-12-28\n"
     ]
    }
   ],
   "source": [
    "from datetime import date\n",
    "today=date.today()\n",
    "print(\"Today's date:\",today)"
   ]
  },
  {
   "cell_type": "code",
   "execution_count": 1,
   "id": "196698c0",
   "metadata": {},
   "outputs": [],
   "source": [
    "from math import * \n",
    "import matplotlib.pyplot as plt"
   ]
  },
  {
   "cell_type": "markdown",
   "id": "745d2631",
   "metadata": {},
   "source": [
    "## Topic 8 : Correlation between two data sets - Correlation Coefficient and Regression"
   ]
  },
  {
   "cell_type": "markdown",
   "id": "92faac5f",
   "metadata": {},
   "source": [
    "## Definition of Correlation :\n",
    "\n",
    "\n",
    "Correlation is a statistical measure that expresses the extent to which two variables are linearly related (implying that they vary together at a common rate). It describes simple relationships without commenting on the cause and effect."
   ]
  },
  {
   "cell_type": "markdown",
   "id": "885ff5f6",
   "metadata": {},
   "source": [
    "## Definition of Correlation Coefficient :\n",
    "\n",
    "* The Karl Pearson's Correlation Coefficient or the Correlation Coefficient quantifies the strength of the relationship.\n",
    "\n",
    "* The coefficient can be either positive or negative, and its magnitude can range between −1 and 1 (inclusive). \n",
    "\n",
    "* A correlation coefficient of 0 indicates that there’s no linear correlation between the two quantities. (Note that this doesn’t mean the two quantities are independent of each other. There could still be a nonlinear relationship between them, for example). \n",
    "\n",
    "* A coefficient of 1 or close to 1 indicates that there’s a strong positive linear correlation. \n",
    "\n",
    "* A coefficient of exactly 1 is referred to as perfect positive correlation. \n",
    "\n",
    "* Similarly, a correlation coefficient of –1 or close to –1 indicates a strong negative correlation, where 1 indicates a perfect negative correlation."
   ]
  },
  {
   "cell_type": "markdown",
   "id": "c108ff6d",
   "metadata": {},
   "source": [
    "## Calculating the correlation coefficient:"
   ]
  },
  {
   "cell_type": "markdown",
   "id": "e6e6e942",
   "metadata": {},
   "source": [
    "The correlation coefficient is calculated using the formula : "
   ]
  },
  {
   "cell_type": "markdown",
   "id": "79a75084",
   "metadata": {},
   "source": [
    "$correlation = \\frac {n\\sum{xy}-{\\sum{x}\\sum{y}}}{\\sqrt{(n\\sum x^2-(\\sum x)^2)(n\\sum y^2-(\\sum y)^2)}}$"
   ]
  },
  {
   "cell_type": "markdown",
   "id": "4eeb5289",
   "metadata": {},
   "source": [
    "In the above formula, n is the total number of values present in each set of numbers (the sets have to be of equal length). The two sets of numbers are denoted by x and y (it doesn’t matter which one you denote as which). \n",
    "The other terms are described as follows:"
   ]
  },
  {
   "cell_type": "markdown",
   "id": "d71b4d7d",
   "metadata": {},
   "source": [
    "$\\sum {xy} =$   Sum of the products of the individual elements of the two sets of numbers, x and y\n",
    "\n",
    "$\\sum{x} =$   Sum of the numbers in set x\n",
    "\n",
    "$\\sum{y} =$   Sum of the numbers in set y\n",
    "\n",
    "$(\\sum{x})^2 =$  Square of the sum of the numbers in set x\n",
    "\n",
    "$(\\sum{y})^2 =$  Square of the sum of the numbers in set y\n",
    "\n",
    "$\\sum{x^2} =$   Sum of the squares of the numbers in set x\n",
    "\n",
    "$\\sum{y^2} =$   Sum of the squares of the numbers in set "
   ]
  },
  {
   "cell_type": "markdown",
   "id": "82e4247d",
   "metadata": {},
   "source": [
    "Note: Once we’ve calculated these terms, we can combine them according to the preceding formula to find the correlation coefficient. For small lists, it’s possible to do this by hand without too much effort, but it certainly gets complicated as the size of each set of numbers increases. We’ll use the zip() function, which will help us calculate the sum of products from the two sets of numbers. Programming techniques come to rescue in cases where we need to handle huge amount of data and computing them manually becomes almost impossible."
   ]
  },
  {
   "cell_type": "markdown",
   "id": "83a60769",
   "metadata": {},
   "source": [
    "#### zip function()\n",
    "\n",
    "The zip() function returns pairs of the corresponding elements in xand y, which you can then use in a loop to perform other operations (like printing, as shown in the preceding code). If the two lists are unequal in length, the function terminates when all the elements of the smaller list have been read.\n",
    "\n",
    "Syntax:\n",
    "zip(iterator1, iterator2, iterator3)"
   ]
  },
  {
   "cell_type": "markdown",
   "id": "c370f1b9",
   "metadata": {},
   "source": [
    "Given, an example of how the zip() function works:"
   ]
  },
  {
   "cell_type": "code",
   "execution_count": 25,
   "id": "4f7f2691",
   "metadata": {},
   "outputs": [
    {
     "name": "stdout",
     "output_type": "stream",
     "text": [
      "1 4\n",
      "2 5\n",
      "3 6\n"
     ]
    }
   ],
   "source": [
    "x = [1, 2, 3]\n",
    "y = [4, 5, 6]\n",
    "for x, y in zip(x, y):print(x,y)"
   ]
  },
  {
   "cell_type": "code",
   "execution_count": 29,
   "id": "26dc0aa8",
   "metadata": {},
   "outputs": [
    {
     "name": "stdout",
     "output_type": "stream",
     "text": [
      "((4, 8), (5, 9), (6, 10), (7, 11))\n"
     ]
    }
   ],
   "source": [
    "x=(4,5,6,7)\n",
    "y=(8,9,10,11,12)\n",
    "z=zip(x,y)\n",
    "print(tuple(z))"
   ]
  },
  {
   "cell_type": "markdown",
   "id": "55d1d74b",
   "metadata": {},
   "source": [
    "Now we’re ready to write a program that will calculate the correlation coefficient for us:"
   ]
  },
  {
   "cell_type": "code",
   "execution_count": 17,
   "id": "3c1cee67",
   "metadata": {},
   "outputs": [],
   "source": [
    "# Find the length of the lists and create a label, n, to refer to it. \n",
    "def find_corr_x_y(x,y):\n",
    "    n = len(x)\n",
    "    # Find the sum of the products\n",
    "    prod = []\n",
    "    for xi,yi in zip(x,y):\n",
    "        prod.append(xi*yi)\n",
    "    sum_prod_x_y = sum(prod)\n",
    "    sum_x = sum(x)\n",
    "    sum_y = sum(y)\n",
    "    squared_sum_x = sum_x**2\n",
    "    squared_sum_y = sum_y**2 \n",
    "    x_square = []\n",
    "    for xi in x:\n",
    "        x_square.append(xi**2)\n",
    "    # Find the sum\n",
    "    x_square_sum = sum(x_square)\n",
    "    y_square=[]\n",
    "    for yi in y:\n",
    "        y_square.append(yi**2)\n",
    "    # Find the sum\n",
    "    y_square_sum = sum(y_square)\n",
    "    # Use formula to calculate correlation : we do the same for the elements in y. We now have all the terms we need to calculate the correla\u0002tion, and we do this in the statements at z, {, and |.\n",
    "    numerator =(n*sum_prod_x_y - sum_x*sum_y)\n",
    "    denominator_term1 =(n*x_square_sum-squared_sum_x)\n",
    "    denominator_term2 =( n*y_square_sum-squared_sum_y)\n",
    "    denominator = (denominator_term1*denominator_term2)**0.5\n",
    "    (correlation) = numerator/denominator\n",
    "    return correlation "
   ]
  },
  {
   "cell_type": "markdown",
   "id": "5e935b91",
   "metadata": {},
   "source": [
    "####  Example: \n",
    "Given below is data of a fictional group of 10 students in high school and investigate whether there’s a relationship between their grades in school and how they fared on their college admission tests. The “High school grades” column lists the percentile scores of the students’ grades in high school, and the “College admission test scores” column shows their percentile scores on the college admission test.\n",
    "\n",
    "HSG (x)  = 90, 92, 95, 96, 87, 87, 90, 95, 98, 96\n",
    "\n",
    "CATS (y) = 85, 87, 86, 97, 96, 88, 89, 98, 98, 87"
   ]
  },
  {
   "cell_type": "code",
   "execution_count": 18,
   "id": "927be8aa",
   "metadata": {},
   "outputs": [
    {
     "data": {
      "text/plain": [
       "0.3183785775683751"
      ]
     },
     "execution_count": 18,
     "metadata": {},
     "output_type": "execute_result"
    }
   ],
   "source": [
    "x=[90, 92, 95, 96, 87, 87, 90, 95, 98, 96]\n",
    "y=[85, 87, 86, 97, 96, 88, 89, 98, 98, 87]\n",
    "find_corr_x_y(x, y)"
   ]
  },
  {
   "cell_type": "code",
   "execution_count": 19,
   "id": "17ffcddd",
   "metadata": {},
   "outputs": [
    {
     "data": {
      "image/png": "[encoded data removed]",
      "text/plain": [
       "<matplotlib.figure.Figure at 0x17e2fc11240>"
      ]
     },
     "metadata": {},
     "output_type": "display_data"
    }
   ],
   "source": [
    "# Showing relation through scatter plot.\n",
    "import matplotlib.pyplot as plt\n",
    "x=[90, 92, 95, 96, 87, 87, 90, 95, 98, 96]\n",
    "y=[85, 87, 86, 97, 96, 88, 89, 98, 98, 87]\n",
    "plt.scatter(x, y)\n",
    "plt.show()"
   ]
  },
  {
   "cell_type": "markdown",
   "id": "ad209ad4",
   "metadata": {},
   "source": [
    "Since the Karl Pearson's correlation coefficient is 0.32, there is a positive linear correlation."
   ]
  },
  {
   "cell_type": "markdown",
   "id": "5befb522",
   "metadata": {},
   "source": [
    "## Regression\n",
    "\n",
    "Linear regression is an approach for predicting a response using a single feature.\n",
    "It is assumed that the two variables are linearly related. Hence, we try to find a linear function that predicts the response value(y) as accurately as possible as a function of the feature or independent variable(x)."
   ]
  },
  {
   "cell_type": "markdown",
   "id": "5ae768cf",
   "metadata": {},
   "source": [
    "## Let us consider a dataset where we have a value of response y for every feature x:\n",
    "\n",
    "x : 0 1 2 3 4 5 6 7 8 9\n",
    "\n",
    "y : 1 3 2 5 7 8 8 9 10 12\n",
    "    \n",
    "For generality, we define: x as feature vector, i.e x = $x_1, x_2, …., x_n$, y as response vector, i.e y = $y_1, y_2, …., y_n$ for n observations (in the above example, $n=10$).\n",
    "\n",
    "A scatter plot of the above dataset looks like : "
   ]
  },
  {
   "cell_type": "code",
   "execution_count": 12,
   "id": "8b3e8df0",
   "metadata": {},
   "outputs": [
    {
     "data": {
      "image/png": "[encoded data removed]",
      "text/plain": [
       "<matplotlib.figure.Figure at 0x17e2f650cf8>"
      ]
     },
     "metadata": {},
     "output_type": "display_data"
    }
   ],
   "source": [
    "import matplotlib.pyplot as plt\n",
    "x = [0, 1, 2, 3, 4, 5, 6, 7, 8, 9]\n",
    "y = [1, 3, 2, 5, 7, 8, 8, 9, 10, 12]\n",
    "plt.scatter(x, y)\n",
    "plt.show()"
   ]
  },
  {
   "cell_type": "markdown",
   "id": "9698105b",
   "metadata": {},
   "source": [
    "The task is to find a line that fits best in the above scatter plot so that we can predict the response for any new feature values. (i.e a value of x not present in a dataset)\n",
    "This line is called a regression line.\n",
    "\n",
    "The equation of regression line is represented as: $h(x_i) = \\beta _0 + \\beta_1 x_i$  \n",
    "Here, $h(x_i)$  represents the predicted response value for ith observation.\n",
    "$\\beta_0$ and $\\beta_1$ are regression coefficients and represent y-intercept and slope of regression line respectively."
   ]
  },
  {
   "cell_type": "markdown",
   "id": "baa3b516",
   "metadata": {},
   "source": [
    "## Estimate the values of regression coefficients $\\beta_0$ and $\\beta_1$ by Least Squares.\n",
    "Consider:\n",
    "$y_i = \\beta_0 + \\beta_1 x_i + \\varepsilon_i = h(x_i) + \\varepsilon_i \\Rightarrow \\varepsilon_i = y_i-h(x_i)$    \n",
    "\n",
    "Here, $\\varepsilon_i$ is a residual error in ith observation. \n",
    "So, our aim is to minimize the total residual error.\n",
    "We define the squared error or cost function, J as: $J(\\beta_0,\\beta_1)= \\frac{1}{2n} \\sum_{i=1}^{n} \\varepsilon_i^{2}$    \n",
    "and our task is to find the value of $\\beta_0$ and $\\beta_1$ for which $J(\\beta_0,\\beta_1)$ is minimum.\n",
    "\n",
    "The results are:\n",
    "\n",
    "$\\beta_1 = \\frac{SS_{xy}}{SS_{xx}}$    \n",
    "\n",
    "$\\beta_0 = \\bar{y} - \\beta_1\\bar{x}$    \n",
    "\n",
    "where $SS_{xy}$ is the sum of cross-deviations of $y$ and $x$: \n",
    "\n",
    "$SS_{xy} = \\sum_{i=1}^{n} (x_i-\\bar{x})(y_i-\\bar{y}) = (\\sum_{i=1}^{n} y_ix_i) - n\\bar{x}\\bar{y}$    \n",
    "\n",
    "and $SS_{xx}$ is the sum of squared deviations of $x$: \n",
    "\n",
    "$SS_{xx} = \\sum_{i=1}^{n} (x_i-\\bar{x})^2 = (\\sum_{i=1}^{n}x_i^2) - n(\\bar{x})^2$    "
   ]
  },
  {
   "cell_type": "code",
   "execution_count": 13,
   "id": "8bc47514",
   "metadata": {},
   "outputs": [
    {
     "name": "stdout",
     "output_type": "stream",
     "text": [
      "Estimated coefficients:\n",
      "b_0 = 1.2363636363636363            \n",
      "b_1 = 1.1696969696969697\n"
     ]
    },
    {
     "data": {
      "image/png": "[encoded data removed]",
      "text/plain": [
       "<matplotlib.figure.Figure at 0x17e2f6727f0>"
      ]
     },
     "metadata": {},
     "output_type": "display_data"
    }
   ],
   "source": [
    "import numpy as np\n",
    "import matplotlib.pyplot as plt\n",
    " \n",
    "def estimate_coef(x, y):\n",
    "    # number of observations/points\n",
    "    n = np.size(x)\n",
    " \n",
    "    # mean of x and y vector\n",
    "    m_x = np.mean(x)\n",
    "    m_y = np.mean(y)\n",
    " \n",
    "    # calculating cross-deviation and deviation about x\n",
    "    SS_xy = np.sum(y*x) - n*m_y*m_x\n",
    "    SS_xx = np.sum(x*x) - n*m_x*m_x\n",
    " \n",
    "    # calculating regression coefficients\n",
    "    b_1 = SS_xy / SS_xx\n",
    "    b_0 = m_y - b_1*m_x\n",
    " \n",
    "    return (b_0, b_1)\n",
    " \n",
    "def plot_regression_line(x, y, b):\n",
    "    # plotting the actual points as scatter plot\n",
    "    plt.scatter(x, y, color = \"m\",\n",
    "               marker = \"o\", s = 30)\n",
    " \n",
    "    # predicted response vector\n",
    "    y_pred = b[0] + b[1]*x\n",
    " \n",
    "    # plotting the regression line\n",
    "    plt.plot(x, y_pred, color = \"g\")\n",
    " \n",
    "    # putting labels\n",
    "    plt.xlabel('x')\n",
    "    plt.ylabel('y')\n",
    " \n",
    "    # function to show plot\n",
    "    plt.show()\n",
    " \n",
    "def main():\n",
    "    # observations / data\n",
    "    x = np.array([0, 1, 2, 3, 4, 5, 6, 7, 8, 9])\n",
    "    y = np.array([1, 3, 2, 5, 7, 8, 8, 9, 10, 12])\n",
    " \n",
    "    # estimating coefficients\n",
    "    b = estimate_coef(x, y)\n",
    "    print(\"Estimated coefficients:\\nb_0 = {}  \\\n",
    "          \\nb_1 = {}\".format(b[0], b[1]))\n",
    " \n",
    "    # plotting regression line\n",
    "    plot_regression_line(x, y, b)\n",
    " \n",
    "if __name__ == \"__main__\":\n",
    "    main()"
   ]
  },
  {
   "cell_type": "markdown",
   "id": "5ada60c4",
   "metadata": {},
   "source": [
    "Conclusion: The figure represents a line of best fit."
   ]
  },
  {
   "cell_type": "markdown",
   "id": "5239910a",
   "metadata": {},
   "source": [
    "## Practice problems : \n",
    "\n",
    "Q1. For each of the following dataset plot the regression line and estimate the coefficients:\n",
    "\n",
    "(a) $x : 1,  3 ,  6 , 10 , 12$   and  $y : 5,  13,  25,  41,  49$\n",
    "      \n",
    "(b) $x : 1,  1 ,  3 , 5 , 5$   and  $y : 5,  1,  3,  1,  5$     "
   ]
  },
  {
   "cell_type": "code",
   "execution_count": 14,
   "id": "3a8b1283",
   "metadata": {},
   "outputs": [
    {
     "name": "stdout",
     "output_type": "stream",
     "text": [
      "Estimated coefficients:\n",
      "b_0 = 1.0            \n",
      "b_1 = 4.0\n"
     ]
    },
    {
     "data": {
      "image/png": "[encoded data removed]",
      "text/plain": [
       "<matplotlib.figure.Figure at 0x17e2fb27908>"
      ]
     },
     "metadata": {},
     "output_type": "display_data"
    }
   ],
   "source": [
    "# Solution to (a)\n",
    "import numpy as np\n",
    "import matplotlib.pyplot as plt\n",
    " \n",
    "def estimate_coef(x, y):\n",
    "    # number of observations/points\n",
    "    n = np.size(x)\n",
    " \n",
    "    # mean of x and y vector\n",
    "    m_x = np.mean(x)\n",
    "    m_y = np.mean(y)\n",
    " \n",
    "    # calculating cross-deviation and deviation about x\n",
    "    SS_xy = np.sum(y*x) - n*m_y*m_x\n",
    "    SS_xx = np.sum(x*x) - n*m_x*m_x\n",
    " \n",
    "    # calculating regression coefficients\n",
    "    b_1 = SS_xy / SS_xx\n",
    "    b_0 = m_y - b_1*m_x\n",
    " \n",
    "    return (b_0, b_1)\n",
    " \n",
    "def plot_regression_line(x, y, b):\n",
    "    # plotting the actual points as scatter plot\n",
    "    plt.scatter(x, y, color = \"m\",\n",
    "               marker = \"o\", s = 30)\n",
    " \n",
    "    # predicted response vector\n",
    "    y_pred = b[0] + b[1]*x\n",
    " \n",
    "    # plotting the regression line\n",
    "    plt.plot(x, y_pred, color = \"g\")\n",
    " \n",
    "    # putting labels\n",
    "    plt.xlabel('x')\n",
    "    plt.ylabel('y')\n",
    " \n",
    "    # function to show plot\n",
    "    plt.show()\n",
    " \n",
    "def main():\n",
    "    # observations / data\n",
    "    x = np.array([1, 3, 6, 10, 12])\n",
    "    y = np.array([5, 13, 25, 41, 49])\n",
    " \n",
    "    # estimating coefficients\n",
    "    b = estimate_coef(x, y)\n",
    "    print(\"Estimated coefficients:\\nb_0 = {}  \\\n",
    "          \\nb_1 = {}\".format(b[0], b[1]))\n",
    " \n",
    "    # plotting regression line\n",
    "    plot_regression_line(x, y, b)\n",
    " \n",
    "if __name__ == \"__main__\":\n",
    "    main()"
   ]
  },
  {
   "cell_type": "markdown",
   "id": "9c8ad7fc",
   "metadata": {},
   "source": [
    "Think for yourself: Is the line, representative of the given data? Explain."
   ]
  },
  {
   "cell_type": "code",
   "execution_count": 15,
   "id": "e49330f0",
   "metadata": {},
   "outputs": [
    {
     "name": "stdout",
     "output_type": "stream",
     "text": [
      "Estimated coefficients:\n",
      "b_0 = 3.0            \n",
      "b_1 = 0.0\n"
     ]
    },
    {
     "data": {
      "image/png": "[encoded data removed]",
      "text/plain": [
       "<matplotlib.figure.Figure at 0x17e2f6e7630>"
      ]
     },
     "metadata": {},
     "output_type": "display_data"
    }
   ],
   "source": [
    "# Solution to (b)\n",
    "import numpy as np\n",
    "import matplotlib.pyplot as plt\n",
    " \n",
    "def estimate_coef(x, y):\n",
    "    # number of observations/points\n",
    "    n = np.size(x)\n",
    " \n",
    "    # mean of x and y vector\n",
    "    m_x = np.mean(x)\n",
    "    m_y = np.mean(y)\n",
    " \n",
    "    # calculating cross-deviation and deviation about x\n",
    "    SS_xy = np.sum(y*x) - n*m_y*m_x\n",
    "    SS_xx = np.sum(x*x) - n*m_x*m_x\n",
    " \n",
    "    # calculating regression coefficients\n",
    "    b_1 = SS_xy / SS_xx\n",
    "    b_0 = m_y - b_1*m_x\n",
    " \n",
    "    return (b_0, b_1)\n",
    " \n",
    "def plot_regression_line(x, y, b):\n",
    "    # plotting the actual points as scatter plot\n",
    "    plt.scatter(x, y, color = \"m\",\n",
    "               marker = \"o\", s = 30)\n",
    " \n",
    "    # predicted response vector\n",
    "    y_pred = b[0] + b[1]*x\n",
    " \n",
    "    # plotting the regression line\n",
    "    plt.plot(x, y_pred, color = \"g\")\n",
    " \n",
    "    # putting labels\n",
    "    plt.xlabel('x')\n",
    "    plt.ylabel('y')\n",
    " \n",
    "    # function to show plot\n",
    "    plt.show()\n",
    " \n",
    "def main():\n",
    "    # observations / data\n",
    "    x = np.array([1, 1, 3, 5, 5])\n",
    "    y = np.array([5, 1, 3, 1, 5])\n",
    " \n",
    "    # estimating coefficients\n",
    "    b = estimate_coef(x, y)\n",
    "    print(\"Estimated coefficients:\\nb_0 = {}  \\\n",
    "          \\nb_1 = {}\".format(b[0], b[1]))\n",
    " \n",
    "    # plotting regression line\n",
    "    plot_regression_line(x, y, b)\n",
    " \n",
    "if __name__ == \"__main__\":\n",
    "    main()"
   ]
  },
  {
   "cell_type": "markdown",
   "id": "09585819",
   "metadata": {},
   "source": [
    "Think for yourself: Does this line represent the data? The linear best fit line is the line which minimizes the sum of squared residuals."
   ]
  },
  {
   "cell_type": "markdown",
   "id": "21644c61",
   "metadata": {},
   "source": [
    "Q2. The following data shows the marks obtained by 10 pupils in Maths and Physics.\n",
    "\n",
    "Physics(x): 20, 23, 8, 29, 14, 11, 11, 20, 17, 17 \n",
    "\n",
    "Maths(y): 30, 35, 21, 33, 33, 26, 22, 31, 33, 36 \n",
    "\n",
    "Determine \n",
    "\n",
    "(a) correlation coefficient \n",
    "\n",
    "(b) obtain the scatter plot \n",
    "\n",
    "(c)Show the line of regression for the same. \n",
    "\n"
   ]
  },
  {
   "cell_type": "code",
   "execution_count": null,
   "id": "585e8cae",
   "metadata": {},
   "outputs": [],
   "source": []
  }
 ],
 "metadata": {
  "kernelspec": {
   "display_name": "Python 3 (ipykernel)",
   "language": "python",
   "name": "python3"
  },
  "language_info": {
   "codemirror_mode": {
    "name": "ipython",
    "version": 3
   },
   "file_extension": ".py",
   "mimetype": "text/x-python",
   "name": "python",
   "nbconvert_exporter": "python",
   "pygments_lexer": "ipython3",
   "version": "3.9.6"
  }
 },
 "nbformat": 4,
 "nbformat_minor": 5
}
