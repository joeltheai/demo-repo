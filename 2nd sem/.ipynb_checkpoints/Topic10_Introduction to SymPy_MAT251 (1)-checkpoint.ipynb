{
 "cells": [
  {
   "cell_type": "code",
   "execution_count": 1,
   "id": "5d224b81",
   "metadata": {},
   "outputs": [
    {
     "name": "stdout",
     "output_type": "stream",
     "text": [
      "Today's date: 2022-04-30\n"
     ]
    }
   ],
   "source": [
    "from datetime import date\n",
    "today=date.today()\n",
    "print(\"Today's date:\",today)"
   ]
  },
  {
   "cell_type": "markdown",
   "id": "4d0d3f1e",
   "metadata": {},
   "source": [
    "# ALGEBRA AND SYMBOLIC MATH WITH SYMPY"
   ]
  },
  {
   "cell_type": "markdown",
   "id": "33ae1258",
   "metadata": {},
   "source": [
    "SymPy—a Python library that lets you write expressions containing symbols and perform operations on them. Since it is a third-party library, you’ll sometimes need to install it before you can use it in your programs. \n",
    "\n",
    "pip install sympy (Check if sympy is already installed and if it's not, use this command to install sympy.)"
   ]
  },
  {
   "cell_type": "markdown",
   "id": "6f8dbb4b",
   "metadata": {},
   "source": [
    "### Use of Sympy\n",
    "\n",
    "* Symbolic computation deals with the computation of mathematical objects symbolically.\n",
    "\n",
    "* The mathematical objects are represented exactly, not approximately, and the matheatical expressions with unevaluated variables are left in symbolic form.\n",
    "\n",
    "* Symbolic computation systems (which by the way, are also called computer algebra systems or just CASs).\n",
    "\n",
    "* SymPy can simplify expressions, compute derivatives, integrals and limits, solve equations, work with matrices and much, much more and do it all symbolically.\n",
    "\n",
    "* It includes modules for plotting, printing (like 2D pretty printed output of math formulas, or LATEX), code generation physics, statistics, combinatorics, number theory, geometry, logic and more."
   ]
  },
  {
   "cell_type": "code",
   "execution_count": 2,
   "id": "0ae6db71",
   "metadata": {},
   "outputs": [
    {
     "name": "stdout",
     "output_type": "stream",
     "text": [
      "Help on package sympy:\n",
      "\n",
      "NAME\n",
      "    sympy\n",
      "\n",
      "DESCRIPTION\n",
      "    SymPy is a Python library for symbolic mathematics. It aims to become a\n",
      "    full-featured computer algebra system (CAS) while keeping the code as simple\n",
      "    as possible in order to be comprehensible and easily extensible.  SymPy is\n",
      "    written entirely in Python. It depends on mpmath, and other external libraries\n",
      "    may be optionally for things like plotting support.\n",
      "    \n",
      "    See the webpage for more information and documentation:\n",
      "    \n",
      "        http://sympy.org\n",
      "\n",
      "PACKAGE CONTENTS\n",
      "    abc\n",
      "    assumptions (package)\n",
      "    benchmarks (package)\n",
      "    calculus (package)\n",
      "    categories (package)\n",
      "    codegen (package)\n",
      "    combinatorics (package)\n",
      "    concrete (package)\n",
      "    conftest\n",
      "    core (package)\n",
      "    crypto (package)\n",
      "    deprecated (package)\n",
      "    diffgeom (package)\n",
      "    external (package)\n",
      "    functions (package)\n",
      "    galgebra\n",
      "    geometry (package)\n",
      "    holonomic (package)\n",
      "    integrals (package)\n",
      "    interactive (package)\n",
      "    liealgebras (package)\n",
      "    logic (package)\n",
      "    matrices (package)\n",
      "    ntheory (package)\n",
      "    parsing (package)\n",
      "    physics (package)\n",
      "    plotting (package)\n",
      "    polys (package)\n",
      "    printing (package)\n",
      "    release\n",
      "    sandbox (package)\n",
      "    series (package)\n",
      "    sets (package)\n",
      "    simplify (package)\n",
      "    solvers (package)\n",
      "    stats (package)\n",
      "    strategies (package)\n",
      "    tensor (package)\n",
      "    unify (package)\n",
      "    utilities (package)\n",
      "    vector (package)\n",
      "\n",
      "SUBMODULES\n",
      "    add\n",
      "    array\n",
      "    ask_generated\n",
      "    assume\n",
      "    basic\n",
      "    bivariate\n",
      "    boolalg\n",
      "    cache\n",
      "    class_registry\n",
      "    combinatorial\n",
      "    common\n",
      "    compatibility\n",
      "    conditionset\n",
      "    containers\n",
      "    contains\n",
      "    continued_fraction\n",
      "    coreerrors\n",
      "    cse_main\n",
      "    cse_opts\n",
      "    curve\n",
      "    decorator\n",
      "    decorators\n",
      "    dense\n",
      "    deutils\n",
      "    elementary\n",
      "    ellipse\n",
      "    entity\n",
      "    enumerative\n",
      "    epathtools\n",
      "    evalf\n",
      "    exceptions\n",
      "    expr\n",
      "    expr_with_intlimits\n",
      "    expr_with_limits\n",
      "    expressions\n",
      "    exprtools\n",
      "    factor_\n",
      "    facts\n",
      "    fancysets\n",
      "    function\n",
      "    generate\n",
      "    gosper\n",
      "    immutable\n",
      "    index_methods\n",
      "    indexed\n",
      "    inequalities\n",
      "    inference\n",
      "    iterables\n",
      "    line\n",
      "    magic\n",
      "    manualintegrate\n",
      "    meijerint\n",
      "    memoization\n",
      "    misc\n",
      "    mod\n",
      "    mul\n",
      "    multidimensional\n",
      "    multinomial\n",
      "    numbers\n",
      "    ode\n",
      "    operations\n",
      "    parabola\n",
      "    partitions_\n",
      "    pde\n",
      "    plane\n",
      "    point\n",
      "    polygon\n",
      "    polysys\n",
      "    power\n",
      "    primetest\n",
      "    products\n",
      "    recurr\n",
      "    relational\n",
      "    residue_ntheory\n",
      "    rules\n",
      "    runtests\n",
      "    singleton\n",
      "    singularityfunctions\n",
      "    sparse\n",
      "    special\n",
      "    summations\n",
      "    symbol\n",
      "    timeutils\n",
      "    transforms\n",
      "    traversaltools\n",
      "    trigonometry\n",
      "    util\n",
      "\n",
      "DATA\n",
      "    C = <sympy.deprecated.class_registry.ClassRegistry object>\n",
      "    CC = CC\n",
      "    Catalan = Catalan\n",
      "    E = E\n",
      "    EX = EX\n",
      "    EulerGamma = EulerGamma\n",
      "    FU = {'L': <function L>, 'TR0': <function TR0>, 'TR1': <function TR1>,...\n",
      "    GoldenRatio = GoldenRatio\n",
      "    I = I\n",
      "    Id = Lambda(_x, _x)\n",
      "    Q = <sympy.assumptions.ask.AssumptionKeys object>\n",
      "    QQ = QQ\n",
      "    RR = RR\n",
      "    S = S\n",
      "    SYMPY_DEBUG = False\n",
      "    ZZ = ZZ\n",
      "    false = False\n",
      "    grevlex = ReversedGradedLexOrder()\n",
      "    grlex = GradedLexOrder()\n",
      "    igrevlex = InverseOrder()\n",
      "    igrlex = InverseOrder()\n",
      "    ilex = InverseOrder()\n",
      "    lex = LexOrder()\n",
      "    nan = nan\n",
      "    oo = oo\n",
      "    pi = pi\n",
      "    plot_backends = {'default': <class 'sympy.plotting.plot.DefaultBackend...\n",
      "    sieve = <Sieve with 6 primes sieved: 2, 3, 5, ... 11, 13>\n",
      "    true = True\n",
      "    zoo = zoo\n",
      "\n",
      "VERSION\n",
      "    1.1.1\n",
      "\n",
      "FILE\n",
      "    c:\\programdata\\anaconda3\\lib\\site-packages\\sympy\\__init__.py\n",
      "\n",
      "\n"
     ]
    }
   ],
   "source": [
    "import sympy\n",
    "help (sympy)"
   ]
  },
  {
   "cell_type": "markdown",
   "id": "dff30038",
   "metadata": {},
   "source": [
    "Without importing SymPy, the following code evaluates the expression and finds the numerical value."
   ]
  },
  {
   "cell_type": "code",
   "execution_count": 3,
   "id": "d739419e",
   "metadata": {},
   "outputs": [
    {
     "data": {
      "text/plain": [
       "3"
      ]
     },
     "execution_count": 3,
     "metadata": {},
     "output_type": "execute_result"
    }
   ],
   "source": [
    "x = 1\n",
    "x + x + 1"
   ]
  },
  {
   "cell_type": "markdown",
   "id": "1106e435",
   "metadata": {},
   "source": [
    "To use a symbol in your program, you need to create an object of the Symbol class, as follows:"
   ]
  },
  {
   "cell_type": "code",
   "execution_count": 4,
   "id": "b69d6646",
   "metadata": {},
   "outputs": [],
   "source": [
    "from sympy import Symbol\n",
    "x = Symbol('x')"
   ]
  },
  {
   "cell_type": "code",
   "execution_count": 5,
   "id": "e243f11a",
   "metadata": {},
   "outputs": [
    {
     "data": {
      "text/plain": [
       "2*x + 1"
      ]
     },
     "execution_count": 5,
     "metadata": {},
     "output_type": "execute_result"
    }
   ],
   "source": [
    "from sympy import Symbol\n",
    "x = Symbol('x')\n",
    "x + x + 1"
   ]
  },
  {
   "cell_type": "code",
   "execution_count": 6,
   "id": "d332f588",
   "metadata": {},
   "outputs": [
    {
     "data": {
      "text/plain": [
       "2*x + 1"
      ]
     },
     "execution_count": 6,
     "metadata": {},
     "output_type": "execute_result"
    }
   ],
   "source": [
    "a = Symbol('x')\n",
    "a + a + 1"
   ]
  },
  {
   "cell_type": "markdown",
   "id": "4793736c",
   "metadata": {},
   "source": [
    "For any Symbol object, its name attribute is a string that is the actual symbol it \n",
    "represents:"
   ]
  },
  {
   "cell_type": "code",
   "execution_count": 7,
   "id": "595510f3",
   "metadata": {},
   "outputs": [
    {
     "data": {
      "text/plain": [
       "'x'"
      ]
     },
     "execution_count": 7,
     "metadata": {},
     "output_type": "execute_result"
    }
   ],
   "source": [
    "x = Symbol('x')\n",
    "x.name"
   ]
  },
  {
   "cell_type": "code",
   "execution_count": 8,
   "id": "9539db52",
   "metadata": {},
   "outputs": [],
   "source": [
    "x = Symbol('x')\n",
    "y = Symbol('y')\n",
    "z = Symbol('z')"
   ]
  },
  {
   "cell_type": "code",
   "execution_count": 9,
   "id": "41db4081",
   "metadata": {},
   "outputs": [],
   "source": [
    "from sympy import symbols\n",
    "x,y,z = symbols('x,y,z')"
   ]
  },
  {
   "cell_type": "code",
   "execution_count": 10,
   "id": "6ecf4d28",
   "metadata": {},
   "outputs": [
    {
     "data": {
      "text/plain": [
       "2*x*y"
      ]
     },
     "execution_count": 10,
     "metadata": {},
     "output_type": "execute_result"
    }
   ],
   "source": [
    "from sympy import Symbol\n",
    "x = Symbol('x')\n",
    "y = Symbol('y')\n",
    "s = x*y + x*y\n",
    "s"
   ]
  },
  {
   "cell_type": "markdown",
   "id": "16a256ef",
   "metadata": {},
   "source": [
    "Let’s see whether we can find the product of x(x + x):"
   ]
  },
  {
   "cell_type": "code",
   "execution_count": 11,
   "id": "5d553f3a",
   "metadata": {},
   "outputs": [
    {
     "data": {
      "text/plain": [
       "2*x**2"
      ]
     },
     "execution_count": 11,
     "metadata": {},
     "output_type": "execute_result"
    }
   ],
   "source": [
    "p = x*(x + x)\n",
    "p"
   ]
  },
  {
   "cell_type": "code",
   "execution_count": 12,
   "id": "db0ab019",
   "metadata": {},
   "outputs": [
    {
     "data": {
      "text/plain": [
       "(x + 2)*(x + 3)"
      ]
     },
     "execution_count": 12,
     "metadata": {},
     "output_type": "execute_result"
    }
   ],
   "source": [
    "p = (x + 2)*(x + 3)\n",
    "p"
   ]
  },
  {
   "cell_type": "markdown",
   "id": "ac521494",
   "metadata": {},
   "source": [
    "SymPy will automatically make these simple addition and multiplication calculations, but if we enter a more complex expression, it will remain unchanged."
   ]
  },
  {
   "cell_type": "markdown",
   "id": "8e1f873d",
   "metadata": {},
   "source": [
    "### The symbols() function that we have been using has a shortcut to create numbered symbols."
   ]
  },
  {
   "cell_type": "code",
   "execution_count": 13,
   "id": "6281a42f",
   "metadata": {},
   "outputs": [
    {
     "data": {
      "text/plain": [
       "(a0, a1, a2, a3, a4)"
      ]
     },
     "execution_count": 13,
     "metadata": {},
     "output_type": "execute_result"
    }
   ],
   "source": [
    "syms = symbols(\"a0:5\")\n",
    "syms"
   ]
  },
  {
   "cell_type": "markdown",
   "id": "a4d4adf1",
   "metadata": {},
   "source": [
    "## Pretty printing"
   ]
  },
  {
   "cell_type": "markdown",
   "id": "e0b3299f",
   "metadata": {},
   "source": [
    "If you want the expressions we’ve been working with to look a bit nicer when \n",
    "you print them, you can use the pprint() function. This function will print \n",
    "the expression in a way that more closely resembles how we’d normally \n",
    "write it on paper. "
   ]
  },
  {
   "cell_type": "code",
   "execution_count": 14,
   "id": "16319a73",
   "metadata": {},
   "outputs": [
    {
     "data": {
      "text/plain": [
       "x**2 + 2*x*y + y**2"
      ]
     },
     "execution_count": 14,
     "metadata": {},
     "output_type": "execute_result"
    }
   ],
   "source": [
    "expr = x*x + 2*x*y + y*y\n",
    "expr"
   ]
  },
  {
   "cell_type": "code",
   "execution_count": 15,
   "id": "5abff811",
   "metadata": {},
   "outputs": [
    {
     "name": "stdout",
     "output_type": "stream",
     "text": [
      " 2            2\n",
      "x  + 2⋅x⋅y + y \n"
     ]
    }
   ],
   "source": [
    "from sympy import pprint\n",
    "pprint(expr)"
   ]
  },
  {
   "cell_type": "markdown",
   "id": "2c6c1b97",
   "metadata": {},
   "source": [
    "You can also change the order of the terms when you print an expression"
   ]
  },
  {
   "cell_type": "code",
   "execution_count": 16,
   "id": "9238fe83",
   "metadata": {},
   "outputs": [
    {
     "name": "stdout",
     "output_type": "stream",
     "text": [
      "   2          \n",
      "2⋅x  + 2⋅x + 1\n"
     ]
    }
   ],
   "source": [
    "expr = 1 + 2*x + 2*x**2\n",
    "pprint(expr)"
   ]
  },
  {
   "cell_type": "markdown",
   "id": "6606248b",
   "metadata": {},
   "source": [
    "The terms are arranged in the order of powers of x, from highest to \n",
    "lowest. If you want the expression in the opposite order, with the highest \n",
    "power of x last, you can make that happen with the init_printing() function, \n",
    "as follows:"
   ]
  },
  {
   "cell_type": "code",
   "execution_count": 17,
   "id": "f227fac7",
   "metadata": {},
   "outputs": [
    {
     "name": "stdout",
     "output_type": "stream",
     "text": [
      "             2\n",
      "1 + 2⋅x + 2⋅x \n"
     ]
    }
   ],
   "source": [
    "from sympy import init_printing\n",
    "init_printing(order='rev-lex')\n",
    "pprint(expr)"
   ]
  },
  {
   "cell_type": "markdown",
   "id": "0958c795",
   "metadata": {},
   "source": [
    "The init_printing() function is first imported and called with the keyword argument order='rev-lex'. This indicates that we want SymPy to print \n",
    "the expressions so that they’re in reverse lexicographical order. In this case, the \n",
    "keyword argument tells Python to print the lower-power terms first."
   ]
  },
  {
   "cell_type": "markdown",
   "id": "da87039f",
   "metadata": {},
   "source": [
    "factor_list returns a more structured output."
   ]
  },
  {
   "cell_type": "code",
   "execution_count": 1,
   "id": "448a2651",
   "metadata": {},
   "outputs": [
    {
     "data": {
      "text/plain": [
       "(1, [(x - y, 1), (x + y, 1)])"
      ]
     },
     "execution_count": 1,
     "metadata": {},
     "output_type": "execute_result"
    }
   ],
   "source": [
    "from sympy import symbols,factor_list\n",
    "x,y,z=symbols('x,y,z')\n",
    "factor_list(x**2-y**2)"
   ]
  },
  {
   "cell_type": "markdown",
   "id": "67a83916",
   "metadata": {},
   "source": [
    "## Working with Expressions\n",
    "\n",
    "###  Factorizing and Expanding Expressions"
   ]
  },
  {
   "cell_type": "markdown",
   "id": "29ceaa54",
   "metadata": {},
   "source": [
    "The factor() function decomposes an expression into its factors. \n",
    "\n",
    "The expand() function expands an expression, expressing it as a sum of individual terms."
   ]
  },
  {
   "cell_type": "code",
   "execution_count": 2,
   "id": "c456e64f",
   "metadata": {},
   "outputs": [],
   "source": [
    "from sympy import Symbol\n",
    "x = Symbol('x')\n",
    "y = Symbol('y')"
   ]
  },
  {
   "cell_type": "code",
   "execution_count": 3,
   "id": "d41cbec0",
   "metadata": {},
   "outputs": [
    {
     "data": {
      "text/plain": [
       "(x - y)*(x + y)"
      ]
     },
     "execution_count": 3,
     "metadata": {},
     "output_type": "execute_result"
    }
   ],
   "source": [
    "from sympy import factor\n",
    "expr = x**2 - y**2\n",
    "factor(expr)"
   ]
  },
  {
   "cell_type": "code",
   "execution_count": 4,
   "id": "d2a96141",
   "metadata": {},
   "outputs": [
    {
     "name": "stdout",
     "output_type": "stream",
     "text": [
      " 2    2\n",
      "x  - y \n"
     ]
    }
   ],
   "source": [
    "from sympy import factor, expand, pprint\n",
    "factors = factor(expr)\n",
    "pprint(expand(factors))"
   ]
  },
  {
   "cell_type": "code",
   "execution_count": 5,
   "id": "cd053f81",
   "metadata": {},
   "outputs": [
    {
     "data": {
      "text/plain": [
       "(x + y)**3"
      ]
     },
     "execution_count": 5,
     "metadata": {},
     "output_type": "execute_result"
    }
   ],
   "source": [
    "expr = x**3 + 3*x**2*y + 3*x*y**2 + y**3\n",
    "factors = factor(expr)\n",
    "factors"
   ]
  },
  {
   "cell_type": "code",
   "execution_count": 6,
   "id": "14be39a9",
   "metadata": {},
   "outputs": [
    {
     "name": "stdout",
     "output_type": "stream",
     "text": [
      " 3      2          2    3\n",
      "x  + 3⋅x ⋅y + 3⋅x⋅y  + y \n"
     ]
    }
   ],
   "source": [
    "pprint(expand(factors))"
   ]
  },
  {
   "cell_type": "code",
   "execution_count": 7,
   "id": "0d450747",
   "metadata": {},
   "outputs": [
    {
     "name": "stdout",
     "output_type": "stream",
     "text": [
      "x⋅y + x + y\n"
     ]
    }
   ],
   "source": [
    "expr = x + y + x*y\n",
    "pprint(factor(expr))"
   ]
  },
  {
   "cell_type": "markdown",
   "id": "e0613bb9",
   "metadata": {},
   "source": [
    "#### Substituting Values in an expression"
   ]
  },
  {
   "cell_type": "code",
   "execution_count": 8,
   "id": "f54da45a",
   "metadata": {},
   "outputs": [
    {
     "data": {
      "text/plain": [
       "x**2 + 2*x*y + y**2"
      ]
     },
     "execution_count": 8,
     "metadata": {},
     "output_type": "execute_result"
    }
   ],
   "source": [
    "x = Symbol('x')\n",
    "y = Symbol('y')\n",
    "x*x + x*y + x*y + y*y"
   ]
  },
  {
   "cell_type": "markdown",
   "id": "81432ab6",
   "metadata": {},
   "source": [
    "We can substitute numbers in for the symbols using the subs() method. The argument to the subs() method is a Python \n",
    "dictionary, which contains the two symbol labels and the numerical values \n",
    "we want to substitute in for each symbol. "
   ]
  },
  {
   "cell_type": "code",
   "execution_count": 9,
   "id": "4a65e2a2",
   "metadata": {},
   "outputs": [
    {
     "data": {
      "text/plain": [
       "9"
      ]
     },
     "execution_count": 9,
     "metadata": {},
     "output_type": "execute_result"
    }
   ],
   "source": [
    "expr = x*x + x*y + x*y + y*y\n",
    "res = expr.subs({x:1, y:2})\n",
    "res"
   ]
  },
  {
   "cell_type": "markdown",
   "id": "fbf78ecc",
   "metadata": {},
   "source": [
    "You can also express one symbol in terms of another and substitute accordingly, using the subs() method. if x=1-y"
   ]
  },
  {
   "cell_type": "code",
   "execution_count": 10,
   "id": "0cee5d78",
   "metadata": {},
   "outputs": [
    {
     "data": {
      "text/plain": [
       "y**2 + 2*y*(-y + 1) + (-y + 1)**2"
      ]
     },
     "execution_count": 10,
     "metadata": {},
     "output_type": "execute_result"
    }
   ],
   "source": [
    "expr.subs({x:1-y})"
   ]
  },
  {
   "cell_type": "markdown",
   "id": "7c78f110",
   "metadata": {},
   "source": [
    "To simplify further, for instance if there are  terms that cancel each other out, we can use SymPy’s simplify() function. The simplify() function can also simplify complicated expressions, such as those including logarithms and trigonometric functions"
   ]
  },
  {
   "cell_type": "code",
   "execution_count": 11,
   "id": "192d6db1",
   "metadata": {},
   "outputs": [
    {
     "data": {
      "text/plain": [
       "1"
      ]
     },
     "execution_count": 11,
     "metadata": {},
     "output_type": "execute_result"
    }
   ],
   "source": [
    "expr_subs = expr.subs({x:1-y})\n",
    "from sympy import simplify\n",
    "simplify(expr_subs)"
   ]
  },
  {
   "cell_type": "markdown",
   "id": "d40ab948",
   "metadata": {},
   "source": [
    "#### Converting Strings to Mathematical Expressions"
   ]
  },
  {
   "cell_type": "markdown",
   "id": "52f5f08a",
   "metadata": {},
   "source": [
    "SymPy’s sympify() function helps us to convert the string into a SymPy object that makes it possible to apply SymPy’s \n",
    "functions to the input. "
   ]
  },
  {
   "cell_type": "code",
   "execution_count": 24,
   "id": "71c1f5c7",
   "metadata": {},
   "outputs": [
    {
     "name": "stdout",
     "output_type": "stream",
     "text": [
      "Enter a mathematical expression: 3*x**2-4*x+5+y**2\n"
     ]
    },
    {
     "data": {
      "text/plain": [
       "'3*x**2-4*x+5+y**2'"
      ]
     },
     "execution_count": 24,
     "metadata": {},
     "output_type": "execute_result"
    }
   ],
   "source": [
    "from sympy import sympify\n",
    "expr = input('Enter a mathematical expression: ')\n",
    "expr"
   ]
  },
  {
   "cell_type": "code",
   "execution_count": 25,
   "id": "48fbf65a",
   "metadata": {},
   "outputs": [
    {
     "data": {
      "text/plain": [
       "3*x**2 - 4*x + y**2 + 5"
      ]
     },
     "execution_count": 25,
     "metadata": {},
     "output_type": "execute_result"
    }
   ],
   "source": [
    "expr = sympify(expr)\n",
    "expr"
   ]
  },
  {
   "cell_type": "code",
   "execution_count": 28,
   "id": "e16f93c5",
   "metadata": {},
   "outputs": [
    {
     "data": {
      "text/plain": [
       "6*x**2 - 8*x + 2*y**2 + 10"
      ]
     },
     "execution_count": 28,
     "metadata": {},
     "output_type": "execute_result"
    }
   ],
   "source": [
    "2*expr"
   ]
  },
  {
   "cell_type": "markdown",
   "id": "69c89f32",
   "metadata": {},
   "source": [
    "### Solving Equations"
   ]
  },
  {
   "cell_type": "markdown",
   "id": "e336d190",
   "metadata": {},
   "source": [
    "When \n",
    "you input an expression with a symbol representing a variable, such as x, \n",
    "solve() calculates the value of that symbol. This function always makes its \n",
    "calculation by assuming the expression you enter is equal to zero—that is, \n",
    "it prints the value that, when substituted for the symbol, makes the entire \n",
    "expression equal zero."
   ]
  },
  {
   "cell_type": "code",
   "execution_count": 29,
   "id": "4ce853c8",
   "metadata": {},
   "outputs": [
    {
     "data": {
      "text/plain": [
       "[12]"
      ]
     },
     "execution_count": 29,
     "metadata": {},
     "output_type": "execute_result"
    }
   ],
   "source": [
    "from sympy import Symbol, solve \n",
    "x = Symbol('x')\n",
    "expr = x - 5 - 7\n",
    "solve(expr)"
   ]
  },
  {
   "cell_type": "markdown",
   "id": "b9a16a46",
   "metadata": {},
   "source": [
    "#### Solving Quadratic Equation"
   ]
  },
  {
   "cell_type": "code",
   "execution_count": 30,
   "id": "b86d90d2",
   "metadata": {},
   "outputs": [
    {
     "data": {
      "text/plain": [
       "[{x: -4}, {x: -1}]"
      ]
     },
     "execution_count": 30,
     "metadata": {},
     "output_type": "execute_result"
    }
   ],
   "source": [
    "from sympy import solve\n",
    "x = Symbol('x')\n",
    "expr = x**2 + 5*x + 4\n",
    "solve(expr, dict=True)"
   ]
  },
  {
   "cell_type": "code",
   "execution_count": 31,
   "id": "c456eb54",
   "metadata": {},
   "outputs": [
    {
     "data": {
      "text/plain": [
       "[{x: -1/2 - sqrt(3)*I/2}, {x: -1/2 + sqrt(3)*I/2}]"
      ]
     },
     "execution_count": 31,
     "metadata": {},
     "output_type": "execute_result"
    }
   ],
   "source": [
    "x=Symbol('x') #complex roots\n",
    "expr = x**2 + x + 1\n",
    "solve(expr, dict=True)"
   ]
  },
  {
   "cell_type": "markdown",
   "id": "2f6f7abf",
   "metadata": {},
   "source": [
    "#### Solving a System of Linear Equations"
   ]
  },
  {
   "cell_type": "code",
   "execution_count": 32,
   "id": "bb769409",
   "metadata": {},
   "outputs": [],
   "source": [
    "x = Symbol('x')\n",
    "y = Symbol('y')\n",
    "expr1 = 2*x + 3*y - 6\n",
    "expr2 = 3*x + 2*y - 12"
   ]
  },
  {
   "cell_type": "code",
   "execution_count": 33,
   "id": "c39eb46c",
   "metadata": {},
   "outputs": [
    {
     "data": {
      "text/plain": [
       "[{x: 24/5, y: -6/5}]"
      ]
     },
     "execution_count": 33,
     "metadata": {},
     "output_type": "execute_result"
    }
   ],
   "source": [
    "solve((expr1, expr2), dict=True)"
   ]
  },
  {
   "cell_type": "code",
   "execution_count": 34,
   "id": "f315742e",
   "metadata": {},
   "outputs": [
    {
     "data": {
      "text/plain": [
       "0"
      ]
     },
     "execution_count": 34,
     "metadata": {},
     "output_type": "execute_result"
    }
   ],
   "source": [
    "soln = solve((expr1, expr2), dict=True)\n",
    "soln = soln[0]\n",
    "expr1.subs({x:soln[x], y:soln[y]})"
   ]
  },
  {
   "cell_type": "code",
   "execution_count": 35,
   "id": "7c700f43",
   "metadata": {},
   "outputs": [
    {
     "data": {
      "text/plain": [
       "0"
      ]
     },
     "execution_count": 35,
     "metadata": {},
     "output_type": "execute_result"
    }
   ],
   "source": [
    "expr2.subs({x:soln[x], y:soln[y]})"
   ]
  },
  {
   "cell_type": "code",
   "execution_count": null,
   "id": "8e295efa",
   "metadata": {},
   "outputs": [],
   "source": []
  }
 ],
 "metadata": {
  "kernelspec": {
   "display_name": "Python 3 (ipykernel)",
   "language": "python",
   "name": "python3"
  },
  "language_info": {
   "codemirror_mode": {
    "name": "ipython",
    "version": 3
   },
   "file_extension": ".py",
   "mimetype": "text/x-python",
   "name": "python",
   "nbconvert_exporter": "python",
   "pygments_lexer": "ipython3",
   "version": "3.9.6"
  }
 },
 "nbformat": 4,
 "nbformat_minor": 5
}
