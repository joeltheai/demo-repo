{
 "cells": [
  {
   "cell_type": "markdown",
   "id": "7f518f7e",
   "metadata": {},
   "source": [
    "### Find the Maximum and Minimum K elements in Tuple"
   ]
  },
  {
   "cell_type": "code",
   "execution_count": 18,
   "id": "d71a48ca",
   "metadata": {},
   "outputs": [
    {
     "name": "stdout",
     "output_type": "stream",
     "text": [
      "The original tuple is :  (5, 20, 3, 7, 6, 8)\n",
      "The extracted values :  (3, 5, 8, 20)\n"
     ]
    }
   ],
   "source": [
    "tup = (5, 20, 3, 7, 6, 8)\n",
    " \n",
    "# printing original tuple\n",
    "print(\"The original tuple is : \", tup)\n",
    " \n",
    "# initializing K\n",
    "K = 2\n",
    " \n",
    "# Maximum and Minimum K elements in Tuple\n",
    "# Using slicing + sorted()\n",
    "tup = list(tup)\n",
    "temp = sorted(tup)\n",
    "res = tuple(temp[:K] + temp[-K:])\n",
    " \n",
    "# printing result\n",
    "print(\"The extracted values : \", res)\n"
   ]
  },
  {
   "cell_type": "markdown",
   "id": "24f644b0",
   "metadata": {},
   "source": [
    "### Write a python program to sort a list of tuples by the second Item"
   ]
  },
  {
   "cell_type": "code",
   "execution_count": 3,
   "id": "1ffff605",
   "metadata": {},
   "outputs": [
    {
     "name": "stdout",
     "output_type": "stream",
     "text": [
      "[('banana', 5), ('orange', 10), ('blueberry', 15), ('cherry', 20), ('apple', 24), ('pineapple', 28)]\n"
     ]
    }
   ],
   "source": [
    "  \n",
    "# Function to sort the list of tuples by its second item\n",
    "def Sort_Tuple(tup): \n",
    "      \n",
    "    # getting length of list of tuples\n",
    "    lst = len(tup) \n",
    "    for i in range(0, lst): \n",
    "          \n",
    "        for j in range(0, lst-i-1): \n",
    "            if (tup[j][1] > tup[j + 1][1]): \n",
    "                temp = tup[j] \n",
    "                tup[j]= tup[j + 1] \n",
    "                tup[j + 1]= temp \n",
    "    return tup \n",
    "  \n",
    "# Driver Code \n",
    "tup =[('apple', 24), ('orange', 10), ('pineapple', 28), \n",
    "      ('banana', 5), ('cherry', 20), ('blueberry', 15)]\n",
    "\n",
    "print(Sort_Tuple(tup))"
   ]
  },
  {
   "cell_type": "markdown",
   "id": "a103dbaf",
   "metadata": {},
   "source": [
    "### Write a program to create a list of tuples and add a number to each element of each tuple in the list"
   ]
  },
  {
   "cell_type": "code",
   "execution_count": 15,
   "id": "aa4068c8",
   "metadata": {},
   "outputs": [
    {
     "name": "stdout",
     "output_type": "stream",
     "text": [
      "The original list :  [(1, 3, 4), (2, 4, 6), (3, 8, 1)]\n",
      "List after bulk update :  [(5, 7, 8), (6, 8, 10), (7, 12, 5)]\n"
     ]
    }
   ],
   "source": [
    "\n",
    "# initialize list\n",
    "lst = [(1, 3, 4), (2, 4, 6), (3, 8, 1)]\n",
    "  \n",
    "# printing original list \n",
    "print(\"The original list : \",lst)\n",
    "  \n",
    "# initialize add element\n",
    "add_ele = 4\n",
    "  \n",
    "# Update each element in tuple list\n",
    "# Using list comprehension\n",
    "res = [tuple(j + add_ele for j in sub ) for sub in lst]\n",
    "  \n",
    "# printing result\n",
    "print(\"List after bulk update : \", res)"
   ]
  },
  {
   "cell_type": "markdown",
   "id": "211b953a",
   "metadata": {},
   "source": [
    "### Write a program to create a tuple with the product of adjacent elements in a tuple."
   ]
  },
  {
   "cell_type": "code",
   "execution_count": 19,
   "id": "534ed8ed",
   "metadata": {},
   "outputs": [
    {
     "name": "stdout",
     "output_type": "stream",
     "text": [
      "The original tuple :  (1, 5, 7, 8, 10)\n",
      "Resultant tuple after multiplication :  (5, 35, 56, 80)\n"
     ]
    }
   ],
   "source": [
    "# Python3 code to demonstrate working of\n",
    "# Adjacent element multiplication\n",
    "# using zip() + generator expression + tuple\n",
    "  \n",
    "# initialize tuple\n",
    "tup = (1, 5, 7, 8, 10)\n",
    "  \n",
    "# printing original tuple\n",
    "print(\"The original tuple : \",tup)\n",
    "  \n",
    "\n",
    "res = tuple(tup[i] * tup[i+1] for i in range(0,len(tup)-1))\n",
    "  \n",
    "# printing result\n",
    "print(\"Resultant tuple after multiplication : \",res)"
   ]
  },
  {
   "cell_type": "markdown",
   "id": "eb4bc171",
   "metadata": {},
   "source": [
    "### write a program to find the tuples with lengths in a range from a list of tuples."
   ]
  },
  {
   "cell_type": "code",
   "execution_count": 17,
   "id": "f86c716a",
   "metadata": {},
   "outputs": [
    {
     "name": "stdout",
     "output_type": "stream",
     "text": [
      "The original list is :  [(4,), (5, 6), (2, 3, 5), (5, 6, 8, 2), (5, 9)]\n",
      "The tuple list after filtering range records :  [(5, 6), (2, 3, 5), (5, 9)]\n"
     ]
    }
   ],
   "source": [
    "\n",
    "  \n",
    "# Initializing list\n",
    "lst = [(4, ), (5, 6), (2, 3, 5), (5, 6, 8, 2), (5, 9)]\n",
    "  \n",
    "# printing original list\n",
    "print(\"The original list is : \",lst)\n",
    "  \n",
    "# Initializing desired lengths \n",
    "i, j = 2, 3\n",
    "  \n",
    "# Filter Range Length Tuples\n",
    "# Using list comprehension + len()\n",
    "res = [sub for sub in lst if len(sub) >= i and len(sub) <= j]\n",
    "      \n",
    "# printing result\n",
    "print(\"The tuple list after filtering range records : \",res)\n"
   ]
  },
  {
   "cell_type": "code",
   "execution_count": null,
   "id": "fe9962ea",
   "metadata": {},
   "outputs": [],
   "source": []
  },
  {
   "cell_type": "code",
   "execution_count": null,
   "id": "577e61fd",
   "metadata": {},
   "outputs": [],
   "source": []
  }
 ],
 "metadata": {
  "kernelspec": {
   "display_name": "Python 3 (ipykernel)",
   "language": "python",
   "name": "python3"
  },
  "language_info": {
   "codemirror_mode": {
    "name": "ipython",
    "version": 3
   },
   "file_extension": ".py",
   "mimetype": "text/x-python",
   "name": "python",
   "nbconvert_exporter": "python",
   "pygments_lexer": "ipython3",
   "version": "3.9.7"
  }
 },
 "nbformat": 4,
 "nbformat_minor": 5
}
