{
 "cells": [
  {
   "cell_type": "markdown",
   "id": "cd81013b",
   "metadata": {
    "id": "cd81013b"
   },
   "source": [
    "### Topic 9: Sets and Probability"
   ]
  },
  {
   "cell_type": "markdown",
   "id": "718e5825",
   "metadata": {
    "id": "718e5825"
   },
   "source": [
    "### Sets: \n",
    "A set is a well defined collection of distinct objects, often called elements or members. A set can contain anything—numbers, people, things, words, and so on."
   ]
  },
  {
   "cell_type": "markdown",
   "id": "417d0218",
   "metadata": {
    "id": "417d0218"
   },
   "source": [
    "###  Set Construction:"
   ]
  },
  {
   "cell_type": "code",
   "execution_count": null,
   "id": "53928c64",
   "metadata": {
    "id": "53928c64",
    "outputId": "cbeec8a3-b74a-4702-88f4-828bda203524"
   },
   "outputs": [
    {
     "name": "stdout",
     "output_type": "stream",
     "text": [
      "s= EmptySet\n",
      "x= {1, 2, 3}\n"
     ]
    }
   ],
   "source": [
    "# Set Construction:\n",
    "from sympy import FiniteSet # import FiniteSet from sympy\n",
    "s = FiniteSet() # Creating empty set\n",
    "print('s=',s)\n",
    "\n",
    "x = FiniteSet(1, 2, 3)\n",
    "print('x=',x)"
   ]
  },
  {
   "cell_type": "code",
   "execution_count": null,
   "id": "7abcd0a5",
   "metadata": {
    "id": "7abcd0a5",
    "outputId": "71e01577-ee41-4784-9b94-1712b51a86f7"
   },
   "outputs": [
    {
     "data": {
      "text/latex": [
       "$\\displaystyle \\left\\{\\frac{1}{5}, 1, 1.5\\right\\}$"
      ],
      "text/plain": [
       "{1/5, 1, 1.5}"
      ]
     },
     "execution_count": 4,
     "metadata": {},
     "output_type": "execute_result"
    }
   ],
   "source": [
    "# We can store different types of numbers including integers, floating point numbers, and fractions in the same set:\n",
    "from sympy import FiniteSet\n",
    "from fractions import Fraction\n",
    "s1 = FiniteSet(1, 1.5, Fraction(1, 5))\n",
    "s1"
   ]
  },
  {
   "cell_type": "code",
   "execution_count": null,
   "id": "c6cb116b",
   "metadata": {
    "id": "c6cb116b",
    "outputId": "d43a2e05-28ea-49cd-f2ea-e793d8da56e8"
   },
   "outputs": [
    {
     "name": "stdout",
     "output_type": "stream",
     "text": [
      "{1, 1.5, 3}\n"
     ]
    },
    {
     "data": {
      "text/plain": [
       "3"
      ]
     },
     "execution_count": 25,
     "metadata": {},
     "output_type": "execute_result"
    }
   ],
   "source": [
    "# The cardinality of a set is the number of members in the set, which you can find by using the len() function:\n",
    "s2 = FiniteSet(1, 1.5, 3)\n",
    "print(s2)\n",
    "len(s2)\n"
   ]
  },
  {
   "cell_type": "code",
   "execution_count": null,
   "id": "1f55d4b6",
   "metadata": {
    "id": "1f55d4b6",
    "outputId": "f17fadd5-83d0-4348-fbf5-f01d65d534ef"
   },
   "outputs": [
    {
     "data": {
      "text/plain": [
       "True"
      ]
     },
     "execution_count": 17,
     "metadata": {},
     "output_type": "execute_result"
    }
   ],
   "source": [
    "#### Checking Whether a Number Is in a Set\n",
    "1.5 in s2\n"
   ]
  },
  {
   "cell_type": "code",
   "execution_count": null,
   "id": "2d92cab0",
   "metadata": {
    "id": "2d92cab0",
    "outputId": "1959e768-da49-4526-cb64-f55df462de1b"
   },
   "outputs": [
    {
     "data": {
      "text/plain": [
       "False"
      ]
     },
     "execution_count": 18,
     "metadata": {},
     "output_type": "execute_result"
    }
   ],
   "source": [
    "4 in s2"
   ]
  },
  {
   "cell_type": "code",
   "execution_count": null,
   "id": "09a573fa",
   "metadata": {
    "id": "09a573fa",
    "outputId": "16821dc2-6642-4c4c-d01c-14355d1a05c3"
   },
   "outputs": [
    {
     "name": "stdout",
     "output_type": "stream",
     "text": [
      "s= {1, 2, 3}\n",
      "s1= {4, 5, 6}\n"
     ]
    }
   ],
   "source": [
    "# Creating Sets from Lists or Tuples\n",
    "\n",
    "members = [1, 2, 3]\n",
    "s = FiniteSet(*members)\n",
    "print('s=',s)\n",
    "\n",
    "members1 = (4, 5, 6)\n",
    "s1 = FiniteSet(*members1)\n",
    "print('s1=',s1)"
   ]
  },
  {
   "cell_type": "code",
   "execution_count": null,
   "id": "847ebb00",
   "metadata": {
    "id": "847ebb00",
    "outputId": "3c6d634d-0c1a-4520-8fca-b95fcb91535a"
   },
   "outputs": [
    {
     "name": "stdout",
     "output_type": "stream",
     "text": [
      "{1, 2, 3}\n"
     ]
    }
   ],
   "source": [
    "# Set Repetition and Order\n",
    "\n",
    "members = [1, 2, 3, 2]\n",
    "s=FiniteSet(*members)\n",
    "print(s)"
   ]
  },
  {
   "cell_type": "code",
   "execution_count": null,
   "id": "9ea3143d",
   "metadata": {
    "id": "9ea3143d",
    "outputId": "25f99002-710b-4455-9b02-d67c35657780"
   },
   "outputs": [
    {
     "name": "stdout",
     "output_type": "stream",
     "text": [
      "3\n",
      "4\n",
      "5\n"
     ]
    }
   ],
   "source": [
    "# In Python lists and tuples, each element is stored in a particular order, but the same is not always true for sets.\n",
    "\n",
    "s1 = FiniteSet(4, 5, 3)\n",
    "for member in s1:\n",
    "    print(member)"
   ]
  },
  {
   "cell_type": "code",
   "execution_count": null,
   "id": "765a95e5",
   "metadata": {
    "id": "765a95e5",
    "outputId": "2977445a-56b8-4a1f-db7a-23d1509f32a9"
   },
   "outputs": [
    {
     "data": {
      "text/plain": [
       "True"
      ]
     },
     "execution_count": 35,
     "metadata": {},
     "output_type": "execute_result"
    }
   ],
   "source": [
    "# Two sets are equal when they have the same elements. In Python, you can use the equality operator, ==,\n",
    "# to check whether two sets are equal:\n",
    "\n",
    "s = FiniteSet(3, 4, 5)\n",
    "t = FiniteSet(5, 4, 3)\n",
    "s == t"
   ]
  },
  {
   "cell_type": "markdown",
   "id": "ec8196ce",
   "metadata": {
    "id": "ec8196ce"
   },
   "source": [
    "### Venn diagram\n"
   ]
  },
  {
   "cell_type": "code",
   "execution_count": null,
   "id": "a3ddd397",
   "metadata": {
    "id": "a3ddd397"
   },
   "outputs": [],
   "source": [
    "!pip install matplotlib-venn # install module matplotib_venn\n"
   ]
  },
  {
   "cell_type": "markdown",
   "id": "6b92dd50",
   "metadata": {
    "id": "6b92dd50"
   },
   "source": [
    "#### Q1. Write a program to draw a Venn diagram in Python with the following sets:\n",
    "set1 = {'A', 'B', 'C'}\\\n",
    "set2 = {'A', 'B', 'D'}\\\n",
    "set3 = {'A', 'E', 'F'}"
   ]
  },
  {
   "cell_type": "code",
   "execution_count": null,
   "id": "f489c2e0",
   "metadata": {
    "id": "f489c2e0",
    "outputId": "37f23241-ec68-4578-fb82-1489ee8c0ceb"
   },
   "outputs": [
    {
     "data": {
      "image/png": "[encoded data removed]",
      "text/plain": [
       "<Figure size 504x252 with 1 Axes>"
      ]
     },
     "metadata": {},
     "output_type": "display_data"
    }
   ],
   "source": [
    "\n",
    "import matplotlib.pyplot as plt\n",
    "from matplotlib_venn import venn3\n",
    "plt.rcParams[\"figure.figsize\"] = [7.00, 3.50]\n",
    "plt.rcParams[\"figure.autolayout\"] = True\n",
    "# define the set\n",
    "set1 = {'A', 'B', 'C'}\n",
    "set2 = {'A', 'B', 'D'}\n",
    "set3 = {'A', 'E', 'F'}\n",
    "# call venn diagram\n",
    "venn3([set1, set2, set3], ('Group1', 'Group2', 'Group3'))\n",
    "# output contains 3 overlapped circles encrypted with number of elements in each cateogary\n",
    "plt.show()"
   ]
  },
  {
   "cell_type": "markdown",
   "id": "b27ace63",
   "metadata": {
    "id": "b27ace63"
   },
   "source": [
    "#### Q2. Write a program to draw a venn diagram using 'FiniteSet()' with the following sets:"
   ]
  },
  {
   "cell_type": "code",
   "execution_count": null,
   "id": "464605a4",
   "metadata": {
    "id": "464605a4",
    "outputId": "5fcb6754-6a5e-4f1d-d65e-4b5769aeb3e2"
   },
   "outputs": [
    {
     "data": {
      "image/png": "[encoded data removed]",
      "text/plain": [
       "<Figure size 504x252 with 1 Axes>"
      ]
     },
     "metadata": {},
     "output_type": "display_data"
    }
   ],
   "source": [
    "# importing finite set function\n",
    "from sympy import FiniteSet\n",
    "from matplotlib_venn import venn2\n",
    "import matplotlib.pyplot as plt\n",
    "def draw_venn(sets):\n",
    " venn2(subsets=sets)\n",
    "plt.show()\n",
    "# define sets\n",
    "s1 = FiniteSet(1, 3, 5, 7, 9, 11, 13, 15, 17, 19)\n",
    "s2 = FiniteSet(2, 3, 5, 7, 11, 13, 17, 19)\n",
    "draw_venn([s1, s2])"
   ]
  },
  {
   "cell_type": "markdown",
   "id": "5324c53f",
   "metadata": {
    "id": "5324c53f"
   },
   "source": [
    "###  Subsets, Supersets, and Power Sets:\n"
   ]
  },
  {
   "cell_type": "code",
   "execution_count": null,
   "id": "01327ae6",
   "metadata": {
    "id": "01327ae6",
    "outputId": "d4819b6a-3f93-4927-8241-117d2208d03a"
   },
   "outputs": [
    {
     "data": {
      "image/png": "[encoded data removed]",
      "text/plain": [
       "<Figure size 504x252 with 1 Axes>"
      ]
     },
     "metadata": {},
     "output_type": "display_data"
    }
   ],
   "source": [
    "#Subsets and supersets:\n",
    "\n",
    "def draw_venn(sets):\n",
    " venn2(subsets=sets)\n",
    "plt.show()\n",
    "# define sets\n",
    "s= FiniteSet(1,2,3,4,5)\n",
    "t = FiniteSet(1,2,3,4,5,10,15)\n",
    "draw_venn([s,t])"
   ]
  },
  {
   "cell_type": "code",
   "execution_count": null,
   "id": "293cef0c",
   "metadata": {
    "id": "293cef0c",
    "outputId": "59dc08c8-c25c-484c-cef8-caa3c09ef82f"
   },
   "outputs": [
    {
     "data": {
      "text/plain": [
       "True"
      ]
     },
     "execution_count": 52,
     "metadata": {},
     "output_type": "execute_result"
    }
   ],
   "source": [
    "s.is_subset(t)\n"
   ]
  },
  {
   "cell_type": "code",
   "execution_count": null,
   "id": "a69970f4",
   "metadata": {
    "id": "a69970f4",
    "outputId": "28b011fe-46f1-4b01-aa47-b35b32dcc6e0"
   },
   "outputs": [
    {
     "data": {
      "text/plain": [
       "False"
      ]
     },
     "execution_count": 53,
     "metadata": {},
     "output_type": "execute_result"
    }
   ],
   "source": [
    "t.is_subset(s)"
   ]
  },
  {
   "cell_type": "code",
   "execution_count": null,
   "id": "488de8e8",
   "metadata": {
    "id": "488de8e8",
    "outputId": "20ce1ccf-b8ae-44b9-95d6-39a1216e17e1"
   },
   "outputs": [
    {
     "data": {
      "text/plain": [
       "True"
      ]
     },
     "execution_count": 54,
     "metadata": {},
     "output_type": "execute_result"
    }
   ],
   "source": [
    "# Note that an empty set is a subset of every set. Also, any set is a subset of itself.\n",
    "\n",
    "s.is_subset(s)"
   ]
  },
  {
   "cell_type": "code",
   "execution_count": null,
   "id": "f5f8cc4b",
   "metadata": {
    "id": "f5f8cc4b",
    "outputId": "aa8641b7-2dd0-492d-a909-4dfcd845c618"
   },
   "outputs": [
    {
     "data": {
      "text/plain": [
       "True"
      ]
     },
     "execution_count": 55,
     "metadata": {},
     "output_type": "execute_result"
    }
   ],
   "source": [
    "t.is_subset(t)"
   ]
  },
  {
   "cell_type": "markdown",
   "id": "c617bcf2",
   "metadata": {
    "id": "c617bcf2"
   },
   "source": [
    " A set, s, is a **proper subset** of t only if all the members of s are also in t and t\n",
    "has at least one member that is not in s."
   ]
  },
  {
   "cell_type": "code",
   "execution_count": null,
   "id": "efe9c63b",
   "metadata": {
    "id": "efe9c63b",
    "outputId": "6aeb00fd-0a7a-416f-9669-90afa0a63c28"
   },
   "outputs": [
    {
     "data": {
      "text/plain": [
       "True"
      ]
     },
     "execution_count": 56,
     "metadata": {},
     "output_type": "execute_result"
    }
   ],
   "source": [
    "s.is_proper_subset(t)"
   ]
  },
  {
   "cell_type": "code",
   "execution_count": null,
   "id": "862b0ef1",
   "metadata": {
    "id": "862b0ef1",
    "outputId": "ef51e1bd-67fd-493d-fca1-ab47a3cd364c"
   },
   "outputs": [
    {
     "data": {
      "text/plain": [
       "False"
      ]
     },
     "execution_count": 57,
     "metadata": {},
     "output_type": "execute_result"
    }
   ],
   "source": [
    "# A set, t, is said to be a superset of another set, s, if t contains all of the members contained in s.\n",
    "\n",
    "s.is_superset(t)"
   ]
  },
  {
   "cell_type": "code",
   "execution_count": null,
   "id": "1739965b",
   "metadata": {
    "id": "1739965b",
    "outputId": "664f6046-654d-414a-9ae3-b939c53fbce8"
   },
   "outputs": [
    {
     "data": {
      "text/plain": [
       "True"
      ]
     },
     "execution_count": 58,
     "metadata": {},
     "output_type": "execute_result"
    }
   ],
   "source": [
    "t.is_superset(s)"
   ]
  },
  {
   "cell_type": "code",
   "execution_count": null,
   "id": "3c52cd2a",
   "metadata": {
    "id": "3c52cd2a",
    "outputId": "d36892b2-ef25-4245-91b7-e08e1327f6b0"
   },
   "outputs": [
    {
     "data": {
      "text/plain": [
       "True"
      ]
     },
     "execution_count": 59,
     "metadata": {},
     "output_type": "execute_result"
    }
   ],
   "source": [
    "t.is_proper_superset(s)\n"
   ]
  },
  {
   "cell_type": "markdown",
   "id": "d1133458",
   "metadata": {
    "id": "d1133458"
   },
   "source": [
    "**The power set of a set**, s, is the set of all possible subsets of s. Any set, s,\n",
    "has precisely $2^{|s|}$ subsets, where |s| is the cardinality of the set. For example,\n",
    "the set {1, 2, 3} has a cardinality of 3, so it has $2^3$ or 8 subsets: {} (the empty\n",
    "set), {1}, {2}, {3}, {1, 2}, {2, 3}, {1, 3}, and {1, 2, 3}."
   ]
  },
  {
   "cell_type": "code",
   "execution_count": null,
   "id": "705021b7",
   "metadata": {
    "id": "705021b7",
    "outputId": "450ea3fb-502e-4314-a8c0-07aeb7c5714c"
   },
   "outputs": [
    {
     "name": "stdout",
     "output_type": "stream",
     "text": [
      "FiniteSet(EmptySet, {1}, {2}, {3}, {1, 2}, {1, 3}, {2, 3}, {1, 2, 3})\n"
     ]
    },
    {
     "data": {
      "text/plain": [
       "8"
      ]
     },
     "execution_count": 60,
     "metadata": {},
     "output_type": "execute_result"
    }
   ],
   "source": [
    "s = FiniteSet(1, 2, 3)\n",
    "ps = s.powerset()\n",
    "print(ps)\n",
    "len(ps)"
   ]
  },
  {
   "cell_type": "markdown",
   "id": "58d474e1",
   "metadata": {
    "id": "58d474e1"
   },
   "source": [
    "### Set Operations: Union, Intersection and Cartesian Product\n"
   ]
  },
  {
   "cell_type": "markdown",
   "id": "6483b1d5",
   "metadata": {
    "id": "6483b1d5"
   },
   "source": [
    "The **union of two sets** is a set that contains all of the distinct members of the\n",
    "two sets. In set theory, we use the symbol $\\cup$ to refer to the union operation.\n",
    "For example, $\\{1, 2\\} \\cup \\{2, 3\\}$ will result in a new set, {1, 2, 3}. In SymPy, the\n",
    "union of these two sets can be created using the union() method:"
   ]
  },
  {
   "cell_type": "code",
   "execution_count": null,
   "id": "d70c4256",
   "metadata": {
    "id": "d70c4256",
    "outputId": "f88bb8b4-db93-4e94-e783-06acc45e65ac"
   },
   "outputs": [
    {
     "data": {
      "text/latex": [
       "$\\displaystyle \\left\\{1, 2, 3, 4, 6\\right\\}$"
      ],
      "text/plain": [
       "{1, 2, 3, 4, 6}"
      ]
     },
     "execution_count": 52,
     "metadata": {},
     "output_type": "execute_result"
    }
   ],
   "source": [
    "s = FiniteSet(1, 2, 3)\n",
    "t = FiniteSet(2, 4, 6)\n",
    "s.union(t)"
   ]
  },
  {
   "cell_type": "markdown",
   "id": "20d472c3",
   "metadata": {
    "id": "20d472c3"
   },
   "source": [
    "The **intersection of two sets** creates a new set from the elements common\n",
    "to both sets. For example, the intersection of the sets {1, 2} and {2, 3} will\n",
    "result in a new set with the only common element, {2}. Mathematically, this\n",
    "operation is written as $\\{1, 2\\} \\cap \\{2, 3\\}$.\n",
    "In SymPy, use the intersect() method to find the intersection:"
   ]
  },
  {
   "cell_type": "code",
   "execution_count": null,
   "id": "a4385e8b",
   "metadata": {
    "id": "a4385e8b",
    "outputId": "6b3ba581-7ff5-48e6-ca4c-93bac3a4e609"
   },
   "outputs": [
    {
     "data": {
      "text/latex": [
       "$\\displaystyle \\left\\{2\\right\\}$"
      ],
      "text/plain": [
       "{2}"
      ]
     },
     "execution_count": 53,
     "metadata": {},
     "output_type": "execute_result"
    }
   ],
   "source": [
    "s = FiniteSet(1, 2)\n",
    "t = FiniteSet(2, 3)\n",
    "s.intersect(t)"
   ]
  },
  {
   "cell_type": "code",
   "execution_count": null,
   "id": "990d6f02",
   "metadata": {
    "id": "990d6f02",
    "outputId": "5bf9f677-dbe8-44c2-dcc2-47e9ee116e6f"
   },
   "outputs": [
    {
     "data": {
      "text/latex": [
       "$\\displaystyle \\left\\{1, 2, 3, 4, 5, 6, 7\\right\\}$"
      ],
      "text/plain": [
       "{1, 2, 3, 4, 5, 6, 7}"
      ]
     },
     "execution_count": 54,
     "metadata": {},
     "output_type": "execute_result"
    }
   ],
   "source": [
    "s = FiniteSet(1, 2, 3)\n",
    "t = FiniteSet(2, 4, 6)\n",
    "u = FiniteSet(3, 5, 7)\n",
    "s.union(t).union(u)"
   ]
  },
  {
   "cell_type": "code",
   "execution_count": null,
   "id": "09e18af3",
   "metadata": {
    "id": "09e18af3",
    "outputId": "b9d86c1d-6f34-4ee1-e2f3-2eaaa4bcf401"
   },
   "outputs": [
    {
     "data": {
      "text/latex": [
       "$\\displaystyle \\emptyset$"
      ],
      "text/plain": [
       "EmptySet"
      ]
     },
     "execution_count": 55,
     "metadata": {},
     "output_type": "execute_result"
    }
   ],
   "source": [
    "s.intersect(t).intersect(u)"
   ]
  },
  {
   "cell_type": "markdown",
   "id": "8ad0fd49",
   "metadata": {
    "id": "8ad0fd49"
   },
   "source": [
    "The **Cartesian product** of two sets creates a set that consists of all possible\n",
    "pairs made by taking an element from each set. For example, the Cartesian\n",
    "product of the sets {1, 2} and {3, 4} is {(1, 3), (1, 4), (2, 3), (2, 4)}. In SymPy,\n",
    "you can find the Cartesian product of two sets by simply using the multiplication\n",
    "operator:"
   ]
  },
  {
   "cell_type": "code",
   "execution_count": null,
   "id": "7fdcdac9",
   "metadata": {
    "id": "7fdcdac9",
    "outputId": "4387a13a-d4ab-4919-de7f-49e5eeb8e99f"
   },
   "outputs": [
    {
     "data": {
      "text/latex": [
       "$\\displaystyle \\left\\{1, 2\\right\\} \\times \\left\\{3, 4\\right\\}$"
      ],
      "text/plain": [
       "ProductSet({1, 2}, {3, 4})"
      ]
     },
     "execution_count": 62,
     "metadata": {},
     "output_type": "execute_result"
    }
   ],
   "source": [
    "s = FiniteSet(1, 2)\n",
    "t = FiniteSet(3, 4)\n",
    "p1 = s*t\n",
    "p1"
   ]
  },
  {
   "cell_type": "code",
   "execution_count": null,
   "id": "4868ace5",
   "metadata": {
    "id": "4868ace5",
    "outputId": "4903faab-cb8a-4c0e-992d-312a59bd333e"
   },
   "outputs": [
    {
     "name": "stdout",
     "output_type": "stream",
     "text": [
      "(1, 3)\n",
      "(2, 3)\n",
      "(1, 4)\n",
      "(2, 4)\n"
     ]
    }
   ],
   "source": [
    "# To see each pair in that Cartesian product, we can iterate through and print them out as follows:\n",
    "for elem in p1:\n",
    "    print(elem)"
   ]
  },
  {
   "cell_type": "markdown",
   "id": "7704d119",
   "metadata": {
    "id": "7704d119"
   },
   "source": [
    "The cardinality of the Cartesian product is the product of the cardinality\n",
    "of the individual sets. We can demonstrate this in Python:"
   ]
  },
  {
   "cell_type": "code",
   "execution_count": null,
   "id": "e80ddbda",
   "metadata": {
    "id": "e80ddbda",
    "outputId": "f757e6e4-bc6c-49d7-b3f1-f0243a183494"
   },
   "outputs": [
    {
     "data": {
      "text/plain": [
       "True"
      ]
     },
     "execution_count": 57,
     "metadata": {},
     "output_type": "execute_result"
    }
   ],
   "source": [
    "len(p) == len(s)*len(t)"
   ]
  },
  {
   "cell_type": "markdown",
   "id": "b061c03e",
   "metadata": {
    "id": "b061c03e"
   },
   "source": [
    "If we apply the exponential operator (**) to a set, we get the Cartesian\n",
    "product of that set times itself the specified number of times."
   ]
  },
  {
   "cell_type": "code",
   "execution_count": null,
   "id": "58619a88",
   "metadata": {
    "id": "58619a88",
    "outputId": "181b633e-7509-480c-aa1e-1b2a8e31cfd0"
   },
   "outputs": [
    {
     "data": {
      "text/latex": [
       "$\\displaystyle \\left\\{1, 2\\right\\}^{3}$"
      ],
      "text/plain": [
       "ProductSet({1, 2}, {1, 2}, {1, 2})"
      ]
     },
     "execution_count": 58,
     "metadata": {},
     "output_type": "execute_result"
    }
   ],
   "source": [
    "s = FiniteSet(1, 2)\n",
    "p = s**3\n",
    "p"
   ]
  },
  {
   "cell_type": "code",
   "execution_count": null,
   "id": "dce6f82e",
   "metadata": {
    "id": "dce6f82e",
    "outputId": "fba67eb0-121a-40b0-8d2a-6eb6e14b6a40"
   },
   "outputs": [
    {
     "name": "stdout",
     "output_type": "stream",
     "text": [
      "(1, 1, 1)\n",
      "(2, 1, 1)\n",
      "(1, 2, 1)\n",
      "(2, 2, 1)\n",
      "(1, 1, 2)\n",
      "(2, 1, 2)\n",
      "(1, 2, 2)\n",
      "(2, 2, 2)\n"
     ]
    }
   ],
   "source": [
    "# Using the exponential operator (**) to a set, gives us a set of all possible triplets that contain a member of each set:\n",
    "\n",
    "for elem in p:\n",
    "    print(elem)"
   ]
  },
  {
   "cell_type": "markdown",
   "id": "29ae7fe2",
   "metadata": {
    "id": "29ae7fe2"
   },
   "source": [
    "### Probability:\n",
    "* The experiment is simply the test we want to perform.\n",
    "* All possible outcomes of an experiment form a set known as the sample space.\n",
    "* An event is a set of outcomes that we want to calculate the probability of and that form a subset of the sample space.\n",
    "* If each outcome in the sample space is equally likely to occur, then \n",
    "\n",
    " $P(E)=\\frac{n(E)}{n(S)}$, \n",
    " \n",
    " where $n(E)$ and $n(S)$ are the cardinality of the sets E, the event, and S,\n",
    "the sample space, respectively. The value of $P(E)$ ranges from 0 to 1, with\n",
    "higher values indicating a higher chance of the event happening."
   ]
  },
  {
   "cell_type": "code",
   "execution_count": 1,
   "id": "b77eb256",
   "metadata": {
    "executionInfo": {
     "elapsed": 4,
     "status": "ok",
     "timestamp": 1651655277413,
     "user": {
      "displayName": "PRAJAKTA BHARAT JOSHI 1740089",
      "userId": "02329718515637366136"
     },
     "user_tz": -330
    },
    "id": "b77eb256"
   },
   "outputs": [],
   "source": [
    "# A Function in Python that calculates the probability of any event, event, in any sample space, space:\n",
    "\n",
    "def probability(space, event):\n",
    "    return len(event)/len(space)"
   ]
  },
  {
   "cell_type": "markdown",
   "id": "6510e250",
   "metadata": {
    "id": "6510e250"
   },
   "source": [
    "#### Q3. Write a program to find the probability of a prime number appearing when a 20-sided die is rolled:"
   ]
  },
  {
   "cell_type": "code",
   "execution_count": 2,
   "id": "18f02202",
   "metadata": {
    "colab": {
     "base_uri": "https://localhost:8080/",
     "height": 131
    },
    "executionInfo": {
     "elapsed": 8,
     "status": "error",
     "timestamp": 1651655278938,
     "user": {
      "displayName": "PRAJAKTA BHARAT JOSHI 1740089",
      "userId": "02329718515637366136"
     },
     "user_tz": -330
    },
    "id": "18f02202",
    "outputId": "65c4988f-987e-4c9a-f772-d0565ea9de4d"
   },
   "outputs": [
    {
     "ename": "IndentationError",
     "evalue": "ignored",
     "output_type": "error",
     "traceback": [
      "\u001b[0;36m  File \u001b[0;32m\"<ipython-input-2-309eef02a84c>\"\u001b[0;36m, line \u001b[0;32m3\u001b[0m\n\u001b[0;31m    return len(event)/len(space)\u001b[0m\n\u001b[0m         ^\u001b[0m\n\u001b[0;31mIndentationError\u001b[0m\u001b[0;31m:\u001b[0m expected an indented block\n"
     ]
    }
   ],
   "source": [
    " \n",
    "def probability(space, event):\n",
    " return len(event)/len(space)\n",
    "# d to find the prime numbers from the sample space we define a function 'check_prime()'\n",
    "def check_prime(number):\n",
    " if number != 1: \n",
    "     for factor in range(2, number): \n",
    "       if number % factor == 0: \n",
    "         return False \n",
    " else: \n",
    "     return False \n",
    " return True\n",
    "#  create a set representing the sample space, space, using the range() function\n",
    "if __name__ == '__main__':\n",
    " space = range(1, 21)\n",
    "primes = []\n",
    "# call the function for each of the numbers in the sample space\n",
    "for num in space:\n",
    " if check_prime(num):\n",
    "  primes.append(num)\n",
    "# define event\n",
    "event= FiniteSet(*primes)\n",
    "# call the probability() function\n",
    "p = probability(space, event)\n",
    "print(p)"
   ]
  },
  {
   "cell_type": "markdown",
   "id": "7e761c32",
   "metadata": {
    "id": "7e761c32"
   },
   "source": [
    "### Probability of Event A or Event B\n",
    "\n",
    "Let a simple die roll, consider the following two events:                                                                \n",
    "A = The number is a prime number.                                                                                                \n",
    "B = The number is odd.                                                                                                         \n",
    "\n",
    "Here the sample space, S, is {1, 2, 3, 4, 5, 6}. Event A can be \n",
    "represented as the subset {2, 3, 5}, the set of prime numbers in the sample \n",
    "space, and event B can be represented as {1, 3, 5}, the odd numbers in the \n",
    "sample space. Determine the probability of either set of outcomes.\n",
    "$E = \\{2, 3, 5\\} \\cup \\{1, 3, 5\\} = \\{1, 2, 3, 5\\}$\n",
    "\n",
    "To calculate the probability of either set of outcomes, we \n",
    "can find the probability of the union of the two sets."
   ]
  },
  {
   "cell_type": "code",
   "execution_count": null,
   "id": "8b0589a7",
   "metadata": {
    "id": "8b0589a7",
    "outputId": "1bb667ab-bc71-42ef-c6f4-0ade8aca62cc"
   },
   "outputs": [
    {
     "data": {
      "text/plain": [
       "0.6666666666666666"
      ]
     },
     "execution_count": 49,
     "metadata": {},
     "output_type": "execute_result"
    }
   ],
   "source": [
    "def probability(space, event):\n",
    " return len(event)/len(space)\n",
    "from sympy import FiniteSet\n",
    "space = FiniteSet(1, 2, 3, 4, 5, 6)\n",
    "a = FiniteSet(2, 3, 5)\n",
    "b = FiniteSet(1, 3, 5)\n",
    "event = a.union(b) \n",
    "p = probability(space, event)\n",
    "p"
   ]
  },
  {
   "cell_type": "markdown",
   "id": "77900f95",
   "metadata": {
    "id": "77900f95"
   },
   "source": [
    "### Probability of Event A and Event B\n",
    "\n",
    "The chances that a die roll is both\n",
    "prime and odd. To determine this, you calculate the probability of the\n",
    "intersection of the two event sets:\n",
    "$E = A \\cap B = \\{2, 3, 5\\} \\cap \\{1, 3, 5\\} = \\{3, 5\\}$"
   ]
  },
  {
   "cell_type": "code",
   "execution_count": null,
   "id": "119fb7c1",
   "metadata": {
    "id": "119fb7c1",
    "outputId": "6156534c-585e-487d-ab10-1de1944f6585"
   },
   "outputs": [
    {
     "data": {
      "text/plain": [
       "0.3333333333333333"
      ]
     },
     "execution_count": 66,
     "metadata": {},
     "output_type": "execute_result"
    }
   ],
   "source": [
    "def probability(space, event):\n",
    " return len(event)/len(space)\n",
    "from sympy import FiniteSet\n",
    "space = FiniteSet(1, 2, 3, 4, 5, 6)\n",
    "a = FiniteSet(2, 3, 5)\n",
    "b = FiniteSet(1, 3, 5)\n",
    "event = a.intersect(b) \n",
    "p = probability(space, event)\n",
    "p"
   ]
  },
  {
   "cell_type": "markdown",
   "id": "7304b899",
   "metadata": {
    "id": "7304b899"
   },
   "source": [
    "### Generating Random Numbers:\n",
    "\n",
    "The randint() function takes two integers as arguments and returns a\n",
    "random integer that falls between these two numbers (both inclusive).\n"
   ]
  },
  {
   "cell_type": "markdown",
   "id": "964f784c",
   "metadata": {
    "id": "964f784c"
   },
   "source": [
    "\n"
   ]
  },
  {
   "cell_type": "code",
   "execution_count": null,
   "id": "abc9c7b4",
   "metadata": {
    "id": "abc9c7b4",
    "outputId": "5f883561-2ad0-48a5-9be3-cd6583288c02"
   },
   "outputs": [
    {
     "data": {
      "text/plain": [
       "6"
      ]
     },
     "execution_count": 72,
     "metadata": {},
     "output_type": "execute_result"
    }
   ],
   "source": [
    "\n",
    "import random\n",
    "random.randint(1, 6)"
   ]
  },
  {
   "cell_type": "markdown",
   "id": "d0350550",
   "metadata": {
    "id": "d0350550"
   },
   "source": [
    "#### Q4. Write a program to simulate a simple die-rolling game, where we keep rolling the six-sided die until we’ve rolled a total of 20:"
   ]
  },
  {
   "cell_type": "code",
   "execution_count": null,
   "id": "8b215a5c",
   "metadata": {
    "id": "8b215a5c",
    "outputId": "8fc183b5-ad82-4b06-b704-b49e21f90728"
   },
   "outputs": [
    {
     "name": "stdout",
     "output_type": "stream",
     "text": [
      "Rolled: 3\n",
      "Rolled: 5\n",
      "Rolled: 5\n",
      "Rolled: 3\n",
      "Rolled: 2\n",
      "Rolled: 1\n",
      "Rolled: 4\n",
      "Score of 23 reached in 7 rolls\n"
     ]
    }
   ],
   "source": [
    "import random\n",
    "target_score = 20\n",
    "def roll():\n",
    " return random.randint(1, 6)\n",
    "if __name__ == '__main__':\n",
    " score = 0\n",
    " num_rolls = 0\n",
    " while score < target_score:\n",
    "        die_roll = roll()\n",
    "        num_rolls += 1\n",
    "        print('Rolled: {0}'.format(die_roll))\n",
    "        score += die_roll\n",
    " print('Score of {0} reached in {1} rolls'.format(score, num_rolls))"
   ]
  },
  {
   "cell_type": "markdown",
   "id": "c294d2fc",
   "metadata": {
    "id": "c294d2fc"
   },
   "source": [
    "#### Q5. Write a program to check whether a certain target score is reachable within a maximum number of rolls:"
   ]
  },
  {
   "cell_type": "code",
   "execution_count": null,
   "id": "82bacc81",
   "metadata": {
    "id": "82bacc81",
    "outputId": "5e10acd0-6032-4d5e-efa1-2ca0e3632ff7"
   },
   "outputs": [
    {
     "name": "stdout",
     "output_type": "stream",
     "text": [
      "Enter the target score: 30\n",
      "Enter the maximum number of rolls allowed: 5\n",
      "Probability: 0.00013\n"
     ]
    }
   ],
   "source": [
    "from sympy import FiniteSet \n",
    "import random \n",
    "def find_prob(target_score, max_rolls): \n",
    "    die_sides = FiniteSet(1, 2, 3, 4, 5, 6) \n",
    " # Sample space \n",
    "    s = die_sides**max_rolls \n",
    " # Find the event set \n",
    "    if max_rolls > 1: \n",
    "       success_rolls = [] \n",
    "       for elem in s: \n",
    "           if sum(elem) >= target_score: \n",
    "              success_rolls.append(elem) \n",
    "    else: \n",
    "        if target_score > 6: \n",
    "            success_rolls = [] \n",
    "        else: \n",
    "            success_rolls = [] \n",
    "            for roll in die_sides: \n",
    "                if roll >= target_score: \n",
    "                    success_rolls.append(roll) \n",
    "    e = FiniteSet(*success_rolls) \n",
    "# Calculate the probability of reaching target score \n",
    "    return len(e)/len(s) \n",
    "if __name__ == '__main__': \n",
    "     target_score = int(input('Enter the target score: ')) \n",
    "     max_rolls = int(input('Enter the maximum number of rolls allowed: '))\n",
    "p = find_prob(target_score, max_rolls) \n",
    "print('Probability: {0:.5f}'.format(p))\n"
   ]
  },
  {
   "cell_type": "markdown",
   "id": "77f032ab",
   "metadata": {
    "id": "77f032ab"
   },
   "source": [
    "#### Q6. There are 2 cookie jars. Jar 1 has 30 vanilla cookies and 10 chocolate cookies Jar 2 has 20 vanilla cookies and 20 chocolate cookies You randomly pick one cookie from one randomly chosen jar. It is vanilla. What is the probability it was from Jar 1?"
   ]
  },
  {
   "cell_type": "code",
   "execution_count": null,
   "id": "620b1ccb",
   "metadata": {
    "id": "620b1ccb",
    "outputId": "492e3cb3-0400-46ea-9bba-170d6cfc9b48"
   },
   "outputs": [
    {
     "name": "stdout",
     "output_type": "stream",
     "text": [
      "P(Jar 1 | Vanilla) = 0.6010177139839662\n"
     ]
    }
   ],
   "source": [
    "def choose_cookie(jar_num):\n",
    "    \"\"\" Return True for Vanilla and False for Chocolate\"\"\"\n",
    "    if jar_num == 1:\n",
    "        return random.random() <= (30/40)\n",
    "    else:\n",
    "        return random.random() <= (20/40)\n",
    "\n",
    "def choose_jar():\n",
    "    if random.random() <= 0.5:\n",
    "        return 1\n",
    "    else:\n",
    "        return 2\n",
    "\n",
    "num_trials = 1000000\n",
    "vanilla_count = 0\n",
    "jar_1_given_vanilla_count = 0\n",
    "\n",
    "for trial in range(num_trials):\n",
    "    jar_num = choose_jar()\n",
    "    is_vanilla = choose_cookie(jar_num)\n",
    "    if is_vanilla:\n",
    "        vanilla_count += 1\n",
    "        if jar_num == 1:\n",
    "            jar_1_given_vanilla_count += 1\n",
    "\n",
    "print('P(Jar 1 | Vanilla) = {}'.format(jar_1_given_vanilla_count / vanilla_count))"
   ]
  },
  {
   "cell_type": "markdown",
   "id": "b0cea509",
   "metadata": {
    "id": "b0cea509"
   },
   "source": [
    "#### Q7. There are 10 coins in a bag. 9 are fair, and 1 is a double-headed coin. If you randomly choose a coin from the bag, and get 5 heads in a row, what is the probability that the next flip will be heads also?"
   ]
  },
  {
   "cell_type": "markdown",
   "id": "17a3d112",
   "metadata": {
    "id": "17a3d112"
   },
   "source": [
    "#### Test procedure for each trial:\n",
    "   * Choose a coin (10% chance of unfair, 90% chance of fair)\n",
    "   * Flip that coin 5 times; if any flip is not heads, reject the sample and go to next trial\n",
    "   * If all 5 flips are heads, count this sample, and flip the coin a last time, if heads, count as success"
   ]
  },
  {
   "cell_type": "code",
   "execution_count": null,
   "id": "b3814e3b",
   "metadata": {
    "id": "b3814e3b",
    "outputId": "0f8bb1cd-3d10-4861-cce8-ac745cf3146d"
   },
   "outputs": [
    {
     "name": "stdout",
     "output_type": "stream",
     "text": [
      "P(h6|h1, h2, h3, h4, h5) = 0.8892189656382307\n"
     ]
    }
   ],
   "source": [
    "import random\n",
    "\n",
    "p_f = 0.9\n",
    "p_h_f = 0.5\n",
    "trials = 1000000\n",
    "\n",
    "def fair_coin():\n",
    "    return random.random() <= 0.5\n",
    "\n",
    "def unfair_coin():\n",
    "    return True\n",
    "\n",
    "def get_coin():\n",
    "    if random.random() <= p_f:\n",
    "        return fair_coin\n",
    "    else:\n",
    "        return unfair_coin\n",
    "\n",
    "got_5_heads = 0\n",
    "got_6th_flip = 0\n",
    "for i in range(trials):\n",
    "    coin_got_heads = get_coin()\n",
    "\n",
    "    reject_sample = False\n",
    "\n",
    "    for flip in range(5):\n",
    "        if not coin_got_heads():\n",
    "            # This coin didn't get 5 heads in a row, so reject it\n",
    "            reject_sample = True\n",
    "            break\n",
    "\n",
    "    if reject_sample:\n",
    "        continue\n",
    "\n",
    "    got_5_heads += 1\n",
    "\n",
    "    if coin_got_heads():\n",
    "        got_6th_flip += 1\n",
    "\n",
    "prob = got_6th_flip / got_5_heads\n",
    "print('P(h6|h1, h2, h3, h4, h5) = {}'.format(prob))"
   ]
  },
  {
   "cell_type": "markdown",
   "id": "8f5327d9",
   "metadata": {
    "id": "8f5327d9"
   },
   "source": [
    "\n"
   ]
  }
 ],
 "metadata": {
  "colab": {
   "name": "Topic_9_sets_probability.ipynb",
   "provenance": []
  },
  "kernelspec": {
   "display_name": "Python 3 (ipykernel)",
   "language": "python",
   "name": "python3"
  },
  "language_info": {
   "codemirror_mode": {
    "name": "ipython",
    "version": 3
   },
   "file_extension": ".py",
   "mimetype": "text/x-python",
   "name": "python",
   "nbconvert_exporter": "python",
   "pygments_lexer": "ipython3",
   "version": "3.9.6"
  }
 },
 "nbformat": 4,
 "nbformat_minor": 5
}
