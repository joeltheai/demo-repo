{
 "cells": [
  {
   "cell_type": "markdown",
   "metadata": {},
   "source": [
    "# Asynchrounous Activity 1"
   ]
  },
  {
   "cell_type": "markdown",
   "metadata": {},
   "source": [
    "### question 1"
   ]
  },
  {
   "cell_type": "code",
   "execution_count": 2,
   "metadata": {},
   "outputs": [
    {
     "name": "stdout",
     "output_type": "stream",
     "text": [
      "area =  15.0\n",
      "area =  14.0\n",
      "area =  25.0\n"
     ]
    }
   ],
   "source": [
    "heights = [5, 7, 10]\n",
    "bases = [6, 4, 5]\n",
    "for i in range(3):\n",
    "   a = heights[i]*bases[i]*0.5\n",
    "   print(\"area = \", a)\n"
   ]
  },
  {
   "cell_type": "markdown",
   "metadata": {},
   "source": [
    "### question 2"
   ]
  },
  {
   "cell_type": "code",
   "execution_count": null,
   "metadata": {},
   "outputs": [],
   "source": [
    "import math as m\n",
    "x, y, z = [int(x) for x in input(\" enter any three numbers = \").split()]\n",
    "a = (x + y + z)/3\n",
    "print(\"average = \", a)"
   ]
  },
  {
   "cell_type": "markdown",
   "metadata": {},
   "source": [
    "### question 3"
   ]
  },
  {
   "cell_type": "code",
   "execution_count": null,
   "metadata": {},
   "outputs": [],
   "source": [
    "d = int(input(\"enter temperature in degree celsius = \"))\n",
    "f = d*(9/5)+32\n",
    "print(\"temperature in farenheit  = \", f)"
   ]
  },
  {
   "cell_type": "markdown",
   "metadata": {},
   "source": [
    "### question 4"
   ]
  },
  {
   "cell_type": "code",
   "execution_count": 1,
   "metadata": {},
   "outputs": [
    {
     "name": "stdout",
     "output_type": "stream",
     "text": [
      "enter your name = joel\n",
      "enter your age = 19\n",
      "Hi joel . You will turn 100 in the year 2102\n"
     ]
    }
   ],
   "source": [
    "import datetime\n",
    "name = input(\"enter your name = \")\n",
    "age  = int(input(\"enter your age = \"))\n",
    "year  = datetime.datetime.now().year\n",
    "dif = 100 - age\n",
    "year += dif\n",
    "print(\"Hi\",name,\". You will turn 100 in the year\",year)"
   ]
  },
  {
   "cell_type": "code",
   "execution_count": null,
   "metadata": {},
   "outputs": [],
   "source": []
  }
 ],
 "metadata": {
  "interpreter": {
   "hash": "0c379ffe8d59856d8cbbd581247481d0f522d6fb89eee3d39813b7148528ec74"
  },
  "kernelspec": {
   "display_name": "Python 3 (ipykernel)",
   "language": "python",
   "name": "python3"
  },
  "language_info": {
   "codemirror_mode": {
    "name": "ipython",
    "version": 3
   },
   "file_extension": ".py",
   "mimetype": "text/x-python",
   "name": "python",
   "nbconvert_exporter": "python",
   "pygments_lexer": "ipython3",
   "version": "3.9.6"
  }
 },
 "nbformat": 4,
 "nbformat_minor": 2
}
